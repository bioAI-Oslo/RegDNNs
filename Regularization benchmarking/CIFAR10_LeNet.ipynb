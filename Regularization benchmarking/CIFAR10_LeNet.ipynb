{
 "cells": [
  {
   "attachments": {},
   "cell_type": "markdown",
   "id": "d8877dd5-83b4-45d7-ba28-0f2b4e520f83",
   "metadata": {},
   "source": [
    "# Testing Regularization on CIFAR10 with DDNet"
   ]
  },
  {
   "cell_type": "markdown",
   "id": "6be1addd",
   "metadata": {},
   "source": [
    "Here I use models trained on CIFAR10 using DDNet (as implemented in Hoffman 2019) using all the different regularization techniques I have implemented: No Regularization, L1, L2, Elastic Net, Soft SVB, Hard SVB, Jacobian, Jacobian Determinant, Dropout, Confidence Penalty, Label Smoothing, Noise Injection to Inputs and Noise Injection to Weights. On these models, I use all of the different visualization techniques I have implemented: Training and Test Loss Curves, Weight Distributions (for L1, L2 and Elastic Net), Feature Map Visualizations, Uncertainty Estimates, T-SNE and PCA of Activations, Saliency Maps and Occlusion Sensitivity. As there are so many this notebook is quite messy, but it works as a reference point to see how any specific regularization method effects the different visualizations. For a short description of each regularization and visualization techniques, see the readme file."
   ]
  },
  {
   "cell_type": "markdown",
   "id": "8da870e3",
   "metadata": {},
   "source": [
    "The CIFAR10 data consists of color images of objects in ten categories. The images are 32x32x3 in dimensions. I preprocess the data as in Hoffman 2019 by normalizing using mean 0.5 and std 0.5. The batch size is 100. The model optimizes using SGD with momentum p = 0.9, and standard cross-entropy loss. Model parameters are initialized using Glorot initialization (See Glorot & Bengio 2010), expect for SVB regularization which uses orthogonal initialization. The learning rate starts at 0.1, and is reduced to 0.01 and 0.001 1/3 and 2/3s into training, respectively. The models are trained for 50 epochs."
   ]
  },
  {
   "attachments": {},
   "cell_type": "markdown",
   "id": "84c3b0b9-2694-4cc4-b7e0-767655b12b99",
   "metadata": {},
   "source": [
    "### Imports and Model Loading"
   ]
  },
  {
   "cell_type": "code",
   "execution_count": 1,
   "id": "9f171cae-ee60-4a82-872f-c5334913602c",
   "metadata": {},
   "outputs": [
    {
     "data": {
      "text/html": [
       "\n",
       "                <script type=\"application/javascript\" id=\"jupyter_black\">\n",
       "                (function() {\n",
       "                    if (window.IPython === undefined) {\n",
       "                        return\n",
       "                    }\n",
       "                    var msg = \"WARNING: it looks like you might have loaded \" +\n",
       "                        \"jupyter_black in a non-lab notebook with \" +\n",
       "                        \"`is_lab=True`. Please double check, and if \" +\n",
       "                        \"loading with `%load_ext` please review the README!\"\n",
       "                    console.log(msg)\n",
       "                    alert(msg)\n",
       "                })()\n",
       "                </script>\n",
       "                "
      ],
      "text/plain": [
       "<IPython.core.display.HTML object>"
      ]
     },
     "metadata": {},
     "output_type": "display_data"
    }
   ],
   "source": [
    "import jupyter_black\n",
    "import torch\n",
    "from torchsummary import summary\n",
    "\n",
    "from data_generators import data_loader_CIFAR10\n",
    "from model_classes import DDNet\n",
    "from tools import ModelInfo\n",
    "from plotting_tools import (\n",
    "    plot_results,\n",
    "    plot_reg_results,\n",
    "    plot_weight_distributions,\n",
    "    plot_activation_maps,\n",
    "    plot_predicted_probabilities,\n",
    "    plot_activations_pca,\n",
    "    plot_activations_tsne,\n",
    "    plot_saliency_maps,\n",
    "    plot_occlusion_sensitivity,\n",
    ")\n",
    "\n",
    "jupyter_black.load()"
   ]
  },
  {
   "cell_type": "code",
   "execution_count": 2,
   "id": "a6d1759d-7bbe-480c-994c-e66189df8018",
   "metadata": {},
   "outputs": [],
   "source": [
    "# Device configuration\n",
    "device = torch.device(\"cuda\" if torch.cuda.is_available() else \"cpu\")"
   ]
  },
  {
   "cell_type": "code",
   "execution_count": 3,
   "id": "4274ab6c-6951-481f-b9ab-6b6247c28592",
   "metadata": {},
   "outputs": [
    {
     "name": "stdout",
     "output_type": "stream",
     "text": [
      "Downloading http://www.cs.toronto.edu/~kriz/cifar-10-python.tar.gz to ./data\\cifar-10-python.tar.gz\n"
     ]
    },
    {
     "name": "stderr",
     "output_type": "stream",
     "text": [
      "100%|██████████| 170498071/170498071 [00:13<00:00, 12487432.01it/s]\n"
     ]
    },
    {
     "name": "stdout",
     "output_type": "stream",
     "text": [
      "Extracting ./data\\cifar-10-python.tar.gz to ./data\n",
      "Files already downloaded and verified\n",
      "----------------------------------------------------------------\n",
      "        Layer (type)               Output Shape         Param #\n",
      "================================================================\n",
      "            Conv2d-1           [-1, 64, 30, 30]           1,792\n",
      "            Conv2d-2           [-1, 64, 28, 28]          36,928\n",
      "         MaxPool2d-3           [-1, 64, 14, 14]               0\n",
      "            Conv2d-4          [-1, 128, 12, 12]          73,856\n",
      "            Conv2d-5          [-1, 128, 10, 10]         147,584\n",
      "         MaxPool2d-6            [-1, 128, 5, 5]               0\n",
      "            Linear-7                  [-1, 256]         819,456\n",
      "           Dropout-8                  [-1, 256]               0\n",
      "            Linear-9                  [-1, 256]          65,792\n",
      "          Dropout-10                  [-1, 256]               0\n",
      "           Linear-11                   [-1, 10]           2,570\n",
      "================================================================\n",
      "Total params: 1,147,978\n",
      "Trainable params: 1,147,978\n",
      "Non-trainable params: 0\n",
      "----------------------------------------------------------------\n",
      "Input size (MB): 0.01\n",
      "Forward/backward pass size (MB): 1.19\n",
      "Params size (MB): 4.38\n",
      "Estimated Total Size (MB): 5.58\n",
      "----------------------------------------------------------------\n"
     ]
    }
   ],
   "source": [
    "# Loading CIFAR10 dataset\n",
    "train_loader, test_loader = data_loader_CIFAR10()\n",
    "summary_model = DDNet().to(device)\n",
    "summary(summary_model, (3, 32, 32))"
   ]
  },
  {
   "cell_type": "code",
   "execution_count": null,
   "id": "d82e8da9",
   "metadata": {},
   "outputs": [],
   "source": [
    "# Load models\n",
    "dataset = \"cifar10\"\n",
    "model_names = [\n",
    "    \"model_no_reg\",\n",
    "    \"model_l1\",\n",
    "    \"model_l2\",\n",
    "    \"model_l1_l2\",\n",
    "    \"model_svb\",\n",
    "    \"model_soft_svb\",\n",
    "    \"model_jacobi_reg\",\n",
    "    \"model_jacobi_det_reg\",\n",
    "    \"model_dropout\",\n",
    "    \"model_conf_penalty\",\n",
    "    \"model_label_smoothing\",\n",
    "    \"model_noise_inject_inputs\",\n",
    "    \"model_noise_inject_weights\",\n",
    "]\n",
    "models = {name: ModelInfo(name, dataset) for name in model_names}"
   ]
  },
  {
   "attachments": {},
   "cell_type": "markdown",
   "id": "09ef829a-47fa-468a-bf47-60da19249f6b",
   "metadata": {
    "tags": []
   },
   "source": [
    "### No regularization"
   ]
  },
  {
   "attachments": {},
   "cell_type": "markdown",
   "id": "770ead36",
   "metadata": {},
   "source": [
    "#### Plot of Losses and Accuracies"
   ]
  },
  {
   "cell_type": "code",
   "execution_count": null,
   "id": "b81e142f-c4a6-43f5-aa1f-01bdd403ce8e",
   "metadata": {
    "tags": []
   },
   "outputs": [],
   "source": [
    "plot_results(models, model_name=\"model_no_reg\", title=\"No regularization\")"
   ]
  },
  {
   "attachments": {},
   "cell_type": "markdown",
   "id": "d73d8d0f",
   "metadata": {},
   "source": [
    "#### Plots of Activation Maps"
   ]
  },
  {
   "cell_type": "code",
   "execution_count": null,
   "id": "6a91faa3",
   "metadata": {},
   "outputs": [],
   "source": [
    "plot_activation_maps(models[\"model_no_reg\"].model, train_loader, num_images=1)"
   ]
  },
  {
   "attachments": {},
   "cell_type": "markdown",
   "id": "7b98dd53",
   "metadata": {},
   "source": [
    "#### Plot of Predicted Probabilities"
   ]
  },
  {
   "cell_type": "code",
   "execution_count": null,
   "id": "6619e13e",
   "metadata": {},
   "outputs": [],
   "source": [
    "plot_predicted_probabilities(models[\"model_no_reg\"].model, train_loader, num_batches=10)"
   ]
  },
  {
   "cell_type": "code",
   "execution_count": null,
   "id": "d4c3102b",
   "metadata": {},
   "outputs": [],
   "source": [
    "plot_predicted_probabilities(models[\"model_no_reg\"].model, test_loader, num_batches=10)"
   ]
  },
  {
   "attachments": {},
   "cell_type": "markdown",
   "id": "aa4615ff",
   "metadata": {},
   "source": [
    "#### Plot of PCA of Activations"
   ]
  },
  {
   "cell_type": "code",
   "execution_count": null,
   "id": "9b4b52ba",
   "metadata": {},
   "outputs": [],
   "source": [
    "plot_activations_pca(models[\"model_no_reg\"].model, train_loader, device)"
   ]
  },
  {
   "attachments": {},
   "cell_type": "markdown",
   "id": "59822633",
   "metadata": {},
   "source": [
    "#### Plot of t-SNE of Activations"
   ]
  },
  {
   "cell_type": "code",
   "execution_count": null,
   "id": "5a324d5c",
   "metadata": {},
   "outputs": [],
   "source": [
    "plot_activations_tsne(models[\"model_no_reg\"].model, train_loader, device)"
   ]
  },
  {
   "attachments": {},
   "cell_type": "markdown",
   "id": "1e60aa1a",
   "metadata": {},
   "source": [
    "#### Plots of Saliency Maps"
   ]
  },
  {
   "cell_type": "code",
   "execution_count": null,
   "id": "7f0fda82",
   "metadata": {},
   "outputs": [],
   "source": [
    "plot_saliency_maps(models[\"model_no_reg\"].model, train_loader, num_images=12)"
   ]
  },
  {
   "attachments": {},
   "cell_type": "markdown",
   "id": "3a5cad2c",
   "metadata": {},
   "source": [
    "#### Plots of Occlusion Sensitivity"
   ]
  },
  {
   "cell_type": "code",
   "execution_count": null,
   "id": "953a98b5",
   "metadata": {},
   "outputs": [],
   "source": [
    "plot_occlusion_sensitivity(\n",
    "    models[\"model_no_reg\"].model, train_loader, num_images=3, occluder_size=8, stride=4\n",
    ")"
   ]
  },
  {
   "cell_type": "code",
   "execution_count": null,
   "id": "470459ec",
   "metadata": {},
   "outputs": [],
   "source": [
    "plot_occlusion_sensitivity(\n",
    "    models[\"model_no_reg\"].model, train_loader, num_images=3, occluder_size=4, stride=2\n",
    ")"
   ]
  },
  {
   "attachments": {},
   "cell_type": "markdown",
   "id": "f53e04a2-1943-4de0-bf3c-e315efc66798",
   "metadata": {
    "tags": []
   },
   "source": [
    "### L1 Regularization"
   ]
  },
  {
   "attachments": {},
   "cell_type": "markdown",
   "id": "21b60d3a",
   "metadata": {},
   "source": [
    "#### Plot of Losses and Accuracies"
   ]
  },
  {
   "cell_type": "code",
   "execution_count": null,
   "id": "8e868180-a6f3-4bc4-95a0-360418bfb5a2",
   "metadata": {},
   "outputs": [],
   "source": [
    "plot_reg_results(models, model_name=\"model_l1\", title=\"L1 regularization\")"
   ]
  },
  {
   "attachments": {},
   "cell_type": "markdown",
   "id": "a69cb2c3",
   "metadata": {},
   "source": [
    "#### Plot of Weight Distributions"
   ]
  },
  {
   "cell_type": "code",
   "execution_count": null,
   "id": "d1dde69e",
   "metadata": {},
   "outputs": [],
   "source": [
    "plot_weight_distributions(\n",
    "    models[\"model_l1\"].model, title=\"Weight Distributions with L1 Regularization\"\n",
    ")"
   ]
  },
  {
   "attachments": {},
   "cell_type": "markdown",
   "id": "e4aa44c9",
   "metadata": {},
   "source": [
    "#### Plots of Activation Maps"
   ]
  },
  {
   "cell_type": "code",
   "execution_count": null,
   "id": "9784e0f0",
   "metadata": {},
   "outputs": [],
   "source": [
    "plot_activation_maps(models[\"model_l1\"].model, train_loader, num_images=1)"
   ]
  },
  {
   "attachments": {},
   "cell_type": "markdown",
   "id": "9649fadb",
   "metadata": {},
   "source": [
    "#### Plot of Predicted Probabilities"
   ]
  },
  {
   "cell_type": "code",
   "execution_count": null,
   "id": "19a0f550",
   "metadata": {},
   "outputs": [],
   "source": [
    "plot_predicted_probabilities(models[\"model_l1\"].model, train_loader, num_batches=10)"
   ]
  },
  {
   "cell_type": "code",
   "execution_count": null,
   "id": "e837c73e",
   "metadata": {},
   "outputs": [],
   "source": [
    "plot_predicted_probabilities(models[\"model_l1\"].model, test_loader, num_batches=10)"
   ]
  },
  {
   "attachments": {},
   "cell_type": "markdown",
   "id": "b4a1f639",
   "metadata": {},
   "source": [
    "#### Plot of PCA of Activations"
   ]
  },
  {
   "cell_type": "code",
   "execution_count": null,
   "id": "29fcf157",
   "metadata": {},
   "outputs": [],
   "source": [
    "plot_activations_pca(models[\"model_l1\"].model, train_loader, device)"
   ]
  },
  {
   "attachments": {},
   "cell_type": "markdown",
   "id": "3e09c604",
   "metadata": {},
   "source": [
    "#### Plot of t-SNE of Activations"
   ]
  },
  {
   "cell_type": "code",
   "execution_count": null,
   "id": "8eac6a13",
   "metadata": {},
   "outputs": [],
   "source": [
    "plot_activations_tsne(models[\"model_l1\"].model, train_loader, device)"
   ]
  },
  {
   "attachments": {},
   "cell_type": "markdown",
   "id": "ca375aef",
   "metadata": {},
   "source": [
    "#### Plots of Saliency Maps"
   ]
  },
  {
   "cell_type": "code",
   "execution_count": null,
   "id": "e2532c0e",
   "metadata": {},
   "outputs": [],
   "source": [
    "plot_saliency_maps(models[\"model_l1\"].model, train_loader, num_images=9)"
   ]
  },
  {
   "attachments": {},
   "cell_type": "markdown",
   "id": "a91a008c",
   "metadata": {},
   "source": [
    "#### Plots of Occlusion Sensitivity"
   ]
  },
  {
   "cell_type": "code",
   "execution_count": null,
   "id": "4345c9ed",
   "metadata": {},
   "outputs": [],
   "source": [
    "plot_occlusion_sensitivity(\n",
    "    models[\"model_l1\"].model, train_loader, num_images=3, occluder_size=8, stride=4\n",
    ")"
   ]
  },
  {
   "cell_type": "code",
   "execution_count": null,
   "id": "aa373ef2",
   "metadata": {},
   "outputs": [],
   "source": [
    "plot_occlusion_sensitivity(\n",
    "    models[\"model_l1\"].model, train_loader, num_images=3, occluder_size=4, stride=2\n",
    ")"
   ]
  },
  {
   "attachments": {},
   "cell_type": "markdown",
   "id": "101a326c-dea1-42ab-9cbf-264f31e28d1f",
   "metadata": {
    "tags": []
   },
   "source": [
    "### L2 Regularization"
   ]
  },
  {
   "attachments": {},
   "cell_type": "markdown",
   "id": "048f084b",
   "metadata": {},
   "source": [
    "#### Plot of Losses and Accuracies"
   ]
  },
  {
   "cell_type": "code",
   "execution_count": null,
   "id": "71d28be2-f459-4ff4-9db6-d951c151a479",
   "metadata": {},
   "outputs": [],
   "source": [
    "plot_reg_results(models, model_name=\"model_l2\", title=\"L2 regularization\")"
   ]
  },
  {
   "attachments": {},
   "cell_type": "markdown",
   "id": "5a981875",
   "metadata": {},
   "source": [
    "#### Plot of Weight Distributions"
   ]
  },
  {
   "cell_type": "code",
   "execution_count": null,
   "id": "b6d64845",
   "metadata": {},
   "outputs": [],
   "source": [
    "plot_weight_distributions(\n",
    "    models[\"model_l2\"].model, title=\"Weight Distributions with L2 Regularization\"\n",
    ")"
   ]
  },
  {
   "attachments": {},
   "cell_type": "markdown",
   "id": "cc85a8e6",
   "metadata": {},
   "source": [
    "#### Plots of Activation Maps"
   ]
  },
  {
   "cell_type": "code",
   "execution_count": null,
   "id": "3b5bfc09",
   "metadata": {},
   "outputs": [],
   "source": [
    "plot_activation_maps(models[\"model_l2\"].model, train_loader, num_images=1)"
   ]
  },
  {
   "attachments": {},
   "cell_type": "markdown",
   "id": "f6a15527",
   "metadata": {},
   "source": [
    "#### Plot of Predicted Probabilities"
   ]
  },
  {
   "cell_type": "code",
   "execution_count": null,
   "id": "adf1c17b",
   "metadata": {},
   "outputs": [],
   "source": [
    "plot_predicted_probabilities(models[\"model_l2\"].model, train_loader, num_batches=10)"
   ]
  },
  {
   "cell_type": "code",
   "execution_count": null,
   "id": "1506ad62",
   "metadata": {},
   "outputs": [],
   "source": [
    "plot_predicted_probabilities(models[\"model_l2\"].model, test_loader, num_batches=10)"
   ]
  },
  {
   "attachments": {},
   "cell_type": "markdown",
   "id": "135b2f88",
   "metadata": {},
   "source": [
    "#### Plot of PCA of Activations"
   ]
  },
  {
   "cell_type": "code",
   "execution_count": null,
   "id": "77c7359e",
   "metadata": {},
   "outputs": [],
   "source": [
    "plot_activations_pca(models[\"model_l2\"].model, train_loader, device)"
   ]
  },
  {
   "attachments": {},
   "cell_type": "markdown",
   "id": "6d736f65",
   "metadata": {},
   "source": [
    "#### Plot t-SNE of Activations"
   ]
  },
  {
   "cell_type": "code",
   "execution_count": null,
   "id": "f5cb5001",
   "metadata": {},
   "outputs": [],
   "source": [
    "plot_activations_tsne(models[\"model_l2\"].model, train_loader, device)"
   ]
  },
  {
   "attachments": {},
   "cell_type": "markdown",
   "id": "f4bcee2f",
   "metadata": {},
   "source": [
    "#### Plots of Saliency Maps"
   ]
  },
  {
   "cell_type": "code",
   "execution_count": null,
   "id": "cdcd8b1d",
   "metadata": {},
   "outputs": [],
   "source": [
    "plot_saliency_maps(models[\"model_l2\"].model, train_loader, num_images=9)"
   ]
  },
  {
   "attachments": {},
   "cell_type": "markdown",
   "id": "7d3951ed",
   "metadata": {},
   "source": [
    "#### Plots of Occlusion Sensitivity"
   ]
  },
  {
   "cell_type": "code",
   "execution_count": null,
   "id": "61d97b11",
   "metadata": {},
   "outputs": [],
   "source": [
    "plot_occlusion_sensitivity(\n",
    "    models[\"model_l2\"].model, train_loader, num_images=3, occluder_size=8, stride=4\n",
    ")"
   ]
  },
  {
   "cell_type": "code",
   "execution_count": null,
   "id": "340b1be8",
   "metadata": {},
   "outputs": [],
   "source": [
    "plot_occlusion_sensitivity(\n",
    "    models[\"model_l2\"].model, train_loader, num_images=3, occluder_size=4, stride=2\n",
    ")"
   ]
  },
  {
   "attachments": {},
   "cell_type": "markdown",
   "id": "78b69bc4-39ac-419d-bbc9-77618856eaa4",
   "metadata": {
    "tags": []
   },
   "source": [
    "### Elastic Net Regularization (L1 and L2)"
   ]
  },
  {
   "attachments": {},
   "cell_type": "markdown",
   "id": "3db5f2cf",
   "metadata": {},
   "source": [
    "#### Plot of Losses and Accuracies"
   ]
  },
  {
   "cell_type": "code",
   "execution_count": null,
   "id": "81cef9b1-c0b0-4582-9cfd-d02574e8cd0d",
   "metadata": {},
   "outputs": [],
   "source": [
    "plot_reg_results(models, model_name=\"model_l1_l2\", title=\"L1 and L2 regularization\")"
   ]
  },
  {
   "attachments": {},
   "cell_type": "markdown",
   "id": "56409a0f",
   "metadata": {},
   "source": [
    "#### Plot of Weight Distributions"
   ]
  },
  {
   "cell_type": "code",
   "execution_count": null,
   "id": "371d6361",
   "metadata": {},
   "outputs": [],
   "source": [
    "plot_weight_distributions(\n",
    "    models[\"model_l1_l2\"].model,\n",
    "    title=\"Weight Distributions with Elastic Net Regularization\",\n",
    ")"
   ]
  },
  {
   "attachments": {},
   "cell_type": "markdown",
   "id": "de3aff99",
   "metadata": {},
   "source": [
    "#### Plots of Activation Maps"
   ]
  },
  {
   "cell_type": "code",
   "execution_count": null,
   "id": "dcfad0e5",
   "metadata": {},
   "outputs": [],
   "source": [
    "plot_activation_maps(models[\"model_l1_l2\"].model, train_loader, num_images=1)"
   ]
  },
  {
   "attachments": {},
   "cell_type": "markdown",
   "id": "23bfe277",
   "metadata": {},
   "source": [
    "#### Plot of Predicted Probabilities"
   ]
  },
  {
   "cell_type": "code",
   "execution_count": null,
   "id": "0376369d",
   "metadata": {},
   "outputs": [],
   "source": [
    "plot_predicted_probabilities(models[\"model_l1_l2\"].model, train_loader, num_batches=10)"
   ]
  },
  {
   "cell_type": "code",
   "execution_count": null,
   "id": "2a70b9cd",
   "metadata": {},
   "outputs": [],
   "source": [
    "plot_predicted_probabilities(models[\"model_l1_l2\"].model, test_loader, num_batches=10)"
   ]
  },
  {
   "attachments": {},
   "cell_type": "markdown",
   "id": "34c1cba7",
   "metadata": {},
   "source": [
    "#### Plot of PCA of Activations"
   ]
  },
  {
   "cell_type": "code",
   "execution_count": null,
   "id": "4475b255",
   "metadata": {},
   "outputs": [],
   "source": [
    "plot_activations_pca(models[\"model_l1_l2\"].model, train_loader, device)"
   ]
  },
  {
   "attachments": {},
   "cell_type": "markdown",
   "id": "7144da68",
   "metadata": {},
   "source": [
    "#### Plot of t-SNE of Activations"
   ]
  },
  {
   "cell_type": "code",
   "execution_count": null,
   "id": "1c2dff5e",
   "metadata": {},
   "outputs": [],
   "source": [
    "plot_activations_tsne(models[\"model_l1_l2\"].model, train_loader, device)"
   ]
  },
  {
   "attachments": {},
   "cell_type": "markdown",
   "id": "9df8bb1c",
   "metadata": {},
   "source": [
    "#### Plots of Saliency Maps"
   ]
  },
  {
   "cell_type": "code",
   "execution_count": null,
   "id": "23c8a99c",
   "metadata": {},
   "outputs": [],
   "source": [
    "plot_saliency_maps(models[\"model_l1_l2\"].model, train_loader, num_images=9)"
   ]
  },
  {
   "attachments": {},
   "cell_type": "markdown",
   "id": "2b229389",
   "metadata": {},
   "source": [
    "#### Plots of Occlusion Sensitivity"
   ]
  },
  {
   "cell_type": "code",
   "execution_count": null,
   "id": "605866be",
   "metadata": {},
   "outputs": [],
   "source": [
    "plot_occlusion_sensitivity(\n",
    "    models[\"model_l1_l2\"].model, train_loader, num_images=3, occluder_size=8, stride=4\n",
    ")"
   ]
  },
  {
   "cell_type": "code",
   "execution_count": null,
   "id": "5dd794c0",
   "metadata": {},
   "outputs": [],
   "source": [
    "plot_occlusion_sensitivity(\n",
    "    models[\"model_l1_l2\"].model, train_loader, num_images=3, occluder_size=4, stride=2\n",
    ")"
   ]
  },
  {
   "attachments": {},
   "cell_type": "markdown",
   "id": "68af5257-96a2-4cc4-a86e-c46d7f86113e",
   "metadata": {
    "tags": []
   },
   "source": [
    "### Soft SVB Regularization"
   ]
  },
  {
   "attachments": {},
   "cell_type": "markdown",
   "id": "86a7fcbd",
   "metadata": {},
   "source": [
    "#### Plot of Losses and Accuracies"
   ]
  },
  {
   "cell_type": "code",
   "execution_count": null,
   "id": "a5f5d532-4429-4e66-a850-e8320a7e52f4",
   "metadata": {},
   "outputs": [],
   "source": [
    "plot_reg_results(models, model_name=\"model_soft_svb\", title=\"Soft SVB regularization\")"
   ]
  },
  {
   "attachments": {},
   "cell_type": "markdown",
   "id": "5c91430d",
   "metadata": {},
   "source": [
    "#### Plots of Activation Maps"
   ]
  },
  {
   "cell_type": "code",
   "execution_count": null,
   "id": "36b437d6",
   "metadata": {},
   "outputs": [],
   "source": [
    "plot_activation_maps(models[\"model_soft_svb\"].model, train_loader, num_images=1)"
   ]
  },
  {
   "attachments": {},
   "cell_type": "markdown",
   "id": "686c97d4",
   "metadata": {},
   "source": [
    "#### Plot of Predicted Probabilities"
   ]
  },
  {
   "cell_type": "code",
   "execution_count": null,
   "id": "ea0d3197",
   "metadata": {},
   "outputs": [],
   "source": [
    "plot_predicted_probabilities(\n",
    "    models[\"model_soft_svb\"].model, train_loader, num_batches=10\n",
    ")"
   ]
  },
  {
   "cell_type": "code",
   "execution_count": null,
   "id": "4544cc1f",
   "metadata": {},
   "outputs": [],
   "source": [
    "plot_predicted_probabilities(\n",
    "    models[\"model_soft_svb\"].model, test_loader, num_batches=10\n",
    ")"
   ]
  },
  {
   "attachments": {},
   "cell_type": "markdown",
   "id": "961c1ea7",
   "metadata": {},
   "source": [
    "#### Plot of PCA of Activations"
   ]
  },
  {
   "cell_type": "code",
   "execution_count": null,
   "id": "c5bd335f",
   "metadata": {},
   "outputs": [],
   "source": [
    "plot_activations_pca(models[\"model_soft_svb\"].model, train_loader, device)"
   ]
  },
  {
   "attachments": {},
   "cell_type": "markdown",
   "id": "1e367ed6",
   "metadata": {},
   "source": [
    "#### Plot of t-SNE of Activations"
   ]
  },
  {
   "cell_type": "code",
   "execution_count": null,
   "id": "48359be5",
   "metadata": {},
   "outputs": [],
   "source": [
    "plot_activations_tsne(models[\"model_soft_svb\"].model, train_loader, device)"
   ]
  },
  {
   "attachments": {},
   "cell_type": "markdown",
   "id": "e4fb6e31",
   "metadata": {},
   "source": [
    "#### Plots of Saliency Maps"
   ]
  },
  {
   "cell_type": "code",
   "execution_count": null,
   "id": "2556e6b9",
   "metadata": {},
   "outputs": [],
   "source": [
    "plot_saliency_maps(models[\"model_soft_svb\"].model, train_loader, num_images=9)"
   ]
  },
  {
   "attachments": {},
   "cell_type": "markdown",
   "id": "a89c2df4",
   "metadata": {},
   "source": [
    "#### Plots of Occlusion Sensitivity"
   ]
  },
  {
   "cell_type": "code",
   "execution_count": null,
   "id": "48ba9e7c",
   "metadata": {},
   "outputs": [],
   "source": [
    "plot_occlusion_sensitivity(\n",
    "    models[\"model_soft_svb\"].model,\n",
    "    train_loader,\n",
    "    num_images=3,\n",
    "    occluder_size=8,\n",
    "    stride=4,\n",
    ")"
   ]
  },
  {
   "cell_type": "code",
   "execution_count": null,
   "id": "c29ccd25",
   "metadata": {},
   "outputs": [],
   "source": [
    "plot_occlusion_sensitivity(\n",
    "    models[\"model_soft_svb\"].model,\n",
    "    train_loader,\n",
    "    num_images=3,\n",
    "    occluder_size=4,\n",
    "    stride=2,\n",
    ")"
   ]
  },
  {
   "attachments": {},
   "cell_type": "markdown",
   "id": "d8532074-3e3c-42f8-8d0d-234785f488e6",
   "metadata": {},
   "source": [
    "### SVB Regularization"
   ]
  },
  {
   "attachments": {},
   "cell_type": "markdown",
   "id": "a5f54d7b",
   "metadata": {},
   "source": [
    "#### Plot of Losses and Accuracies"
   ]
  },
  {
   "cell_type": "code",
   "execution_count": null,
   "id": "35fb573f-5073-457c-8872-ebecf7483a25",
   "metadata": {},
   "outputs": [],
   "source": [
    "plot_reg_results(models, model_name=\"model_svb\", title=\"SVB regularization\")"
   ]
  },
  {
   "attachments": {},
   "cell_type": "markdown",
   "id": "c6ecf318",
   "metadata": {},
   "source": [
    "#### Plots of Activation Maps"
   ]
  },
  {
   "cell_type": "code",
   "execution_count": null,
   "id": "381ac7fe",
   "metadata": {},
   "outputs": [],
   "source": [
    "plot_activation_maps(models[\"model_svb\"].model, train_loader, num_images=1)"
   ]
  },
  {
   "attachments": {},
   "cell_type": "markdown",
   "id": "258cf967",
   "metadata": {},
   "source": [
    "#### Plot of Predicted Probabilities"
   ]
  },
  {
   "cell_type": "code",
   "execution_count": null,
   "id": "11066d32",
   "metadata": {},
   "outputs": [],
   "source": [
    "plot_predicted_probabilities(models[\"model_svb\"].model, train_loader, num_batches=10)"
   ]
  },
  {
   "cell_type": "code",
   "execution_count": null,
   "id": "6b388302",
   "metadata": {},
   "outputs": [],
   "source": [
    "plot_predicted_probabilities(models[\"model_svb\"].model, test_loader, num_batches=10)"
   ]
  },
  {
   "attachments": {},
   "cell_type": "markdown",
   "id": "a616504f",
   "metadata": {},
   "source": [
    "#### Plot of PCA of Activations"
   ]
  },
  {
   "cell_type": "code",
   "execution_count": null,
   "id": "64735086",
   "metadata": {},
   "outputs": [],
   "source": [
    "plot_activations_pca(models[\"model_svb\"].model, train_loader, device)"
   ]
  },
  {
   "attachments": {},
   "cell_type": "markdown",
   "id": "a2ed4e48",
   "metadata": {},
   "source": [
    "#### Plot of t-SNE of Activations"
   ]
  },
  {
   "cell_type": "code",
   "execution_count": null,
   "id": "ed8acc5d",
   "metadata": {},
   "outputs": [],
   "source": [
    "plot_activations_tsne(models[\"model_svb\"].model, train_loader, device)"
   ]
  },
  {
   "attachments": {},
   "cell_type": "markdown",
   "id": "f2d09574",
   "metadata": {},
   "source": [
    "#### Plots of Saliency Maps"
   ]
  },
  {
   "cell_type": "code",
   "execution_count": null,
   "id": "f9192f3b",
   "metadata": {},
   "outputs": [],
   "source": [
    "plot_saliency_maps(models[\"model_svb\"].model, train_loader, num_images=9)"
   ]
  },
  {
   "attachments": {},
   "cell_type": "markdown",
   "id": "00c942af",
   "metadata": {},
   "source": [
    "#### Plots of Occlusion Sensitivity"
   ]
  },
  {
   "cell_type": "code",
   "execution_count": null,
   "id": "85d65ef4",
   "metadata": {},
   "outputs": [],
   "source": [
    "plot_occlusion_sensitivity(\n",
    "    models[\"model_svb\"].model, train_loader, num_images=3, occluder_size=8, stride=4\n",
    ")"
   ]
  },
  {
   "cell_type": "code",
   "execution_count": null,
   "id": "ae7c4b16",
   "metadata": {},
   "outputs": [],
   "source": [
    "plot_occlusion_sensitivity(\n",
    "    models[\"model_svb\"].model, train_loader, num_images=3, occluder_size=4, stride=2\n",
    ")"
   ]
  },
  {
   "attachments": {},
   "cell_type": "markdown",
   "id": "0beaeccf-5200-4c95-8b96-df43c70d0ce6",
   "metadata": {},
   "source": [
    "### Jacobi Regularization"
   ]
  },
  {
   "attachments": {},
   "cell_type": "markdown",
   "id": "f6854c12",
   "metadata": {},
   "source": [
    "#### Plot of Losses and Accuracies"
   ]
  },
  {
   "cell_type": "code",
   "execution_count": null,
   "id": "7eef3c50",
   "metadata": {},
   "outputs": [],
   "source": [
    "plot_reg_results(models, model_name=\"model_jacobi_reg\", title=\"Jacobi regularization\")"
   ]
  },
  {
   "attachments": {},
   "cell_type": "markdown",
   "id": "93ffffa1",
   "metadata": {},
   "source": [
    "#### Plots of Activation Maps"
   ]
  },
  {
   "cell_type": "code",
   "execution_count": null,
   "id": "e746abaf",
   "metadata": {},
   "outputs": [],
   "source": [
    "plot_activation_maps(models[\"model_jacobi_reg\"].model, train_loader, num_images=1)"
   ]
  },
  {
   "attachments": {},
   "cell_type": "markdown",
   "id": "8f12a960",
   "metadata": {},
   "source": [
    "#### Plot of Predicted Probabilities"
   ]
  },
  {
   "cell_type": "code",
   "execution_count": null,
   "id": "bfdd018b",
   "metadata": {},
   "outputs": [],
   "source": [
    "plot_predicted_probabilities(\n",
    "    models[\"model_jacobi_reg\"].model, train_loader, num_batches=10\n",
    ")"
   ]
  },
  {
   "cell_type": "code",
   "execution_count": null,
   "id": "24c8187d",
   "metadata": {},
   "outputs": [],
   "source": [
    "plot_predicted_probabilities(\n",
    "    models[\"model_jacobi_reg\"].model, test_loader, num_batches=10\n",
    ")"
   ]
  },
  {
   "attachments": {},
   "cell_type": "markdown",
   "id": "ca811408",
   "metadata": {},
   "source": [
    "#### Plot of PCA of Activations"
   ]
  },
  {
   "cell_type": "code",
   "execution_count": null,
   "id": "9e40fbd9",
   "metadata": {},
   "outputs": [],
   "source": [
    "plot_activations_pca(models[\"model_jacobi_reg\"].model, train_loader, device)"
   ]
  },
  {
   "attachments": {},
   "cell_type": "markdown",
   "id": "999019df",
   "metadata": {},
   "source": [
    "#### Plot of t-SNE of Activations"
   ]
  },
  {
   "cell_type": "code",
   "execution_count": null,
   "id": "0d592add",
   "metadata": {},
   "outputs": [],
   "source": [
    "plot_activations_tsne(models[\"model_jacobi_reg\"].model, train_loader, device)"
   ]
  },
  {
   "attachments": {},
   "cell_type": "markdown",
   "id": "dd528b84",
   "metadata": {},
   "source": [
    "#### Plots of Saliency Maps"
   ]
  },
  {
   "cell_type": "code",
   "execution_count": null,
   "id": "60df37b3",
   "metadata": {},
   "outputs": [],
   "source": [
    "plot_saliency_maps(models[\"model_jacobi_reg\"].model, train_loader, num_images=9)"
   ]
  },
  {
   "attachments": {},
   "cell_type": "markdown",
   "id": "5e50f466",
   "metadata": {},
   "source": [
    "#### Plots of Occlusion Sensitivity"
   ]
  },
  {
   "cell_type": "code",
   "execution_count": null,
   "id": "376f755f",
   "metadata": {},
   "outputs": [],
   "source": [
    "plot_occlusion_sensitivity(\n",
    "    models[\"model_jacobi_reg\"].model,\n",
    "    train_loader,\n",
    "    num_images=3,\n",
    "    occluder_size=8,\n",
    "    stride=4,\n",
    ")"
   ]
  },
  {
   "cell_type": "code",
   "execution_count": null,
   "id": "a83e9109",
   "metadata": {},
   "outputs": [],
   "source": [
    "plot_occlusion_sensitivity(\n",
    "    models[\"model_jacobi_reg\"].model,\n",
    "    train_loader,\n",
    "    num_images=3,\n",
    "    occluder_size=4,\n",
    "    stride=2,\n",
    ")"
   ]
  },
  {
   "attachments": {},
   "cell_type": "markdown",
   "id": "6c26bc73",
   "metadata": {},
   "source": [
    "### Jacobi Determinant Regularization"
   ]
  },
  {
   "attachments": {},
   "cell_type": "markdown",
   "id": "0cdf5bcb",
   "metadata": {},
   "source": [
    "#### Plot of Losses and Accuracies"
   ]
  },
  {
   "cell_type": "code",
   "execution_count": null,
   "id": "e90d56f0",
   "metadata": {},
   "outputs": [],
   "source": [
    "plot_reg_results(\n",
    "    models, model_name=\"model_jacobi_det_reg\", title=\"Jacobi Determinant Regularization\"\n",
    ")"
   ]
  },
  {
   "attachments": {},
   "cell_type": "markdown",
   "id": "a7f3e3c6",
   "metadata": {},
   "source": [
    "#### Plots of Activation Maps"
   ]
  },
  {
   "cell_type": "code",
   "execution_count": null,
   "id": "f7bf3df6",
   "metadata": {},
   "outputs": [],
   "source": [
    "plot_activation_maps(models[\"model_jacobi_det_reg\"].model, train_loader, num_images=1)"
   ]
  },
  {
   "attachments": {},
   "cell_type": "markdown",
   "id": "d56116c0",
   "metadata": {},
   "source": [
    "#### Plot of Predicted Probabilities"
   ]
  },
  {
   "cell_type": "code",
   "execution_count": null,
   "id": "0711b66b",
   "metadata": {},
   "outputs": [],
   "source": [
    "plot_predicted_probabilities(\n",
    "    models[\"model_jacobi_det_reg\"].model, train_loader, num_batches=10\n",
    ")"
   ]
  },
  {
   "cell_type": "code",
   "execution_count": null,
   "id": "b8fa6d7e",
   "metadata": {},
   "outputs": [],
   "source": [
    "plot_predicted_probabilities(\n",
    "    models[\"model_jacobi_det_reg\"].model, test_loader, num_batches=10\n",
    ")"
   ]
  },
  {
   "attachments": {},
   "cell_type": "markdown",
   "id": "2e473f84",
   "metadata": {},
   "source": [
    "#### Plot of PCA of Activations"
   ]
  },
  {
   "cell_type": "code",
   "execution_count": null,
   "id": "22968beb",
   "metadata": {},
   "outputs": [],
   "source": [
    "plot_activations_pca(models[\"model_jacobi_det_reg\"].model, train_loader, device)"
   ]
  },
  {
   "attachments": {},
   "cell_type": "markdown",
   "id": "9a8f9e69",
   "metadata": {},
   "source": [
    "#### Plot of t-SNE of Activations"
   ]
  },
  {
   "cell_type": "code",
   "execution_count": null,
   "id": "a2a31abe",
   "metadata": {},
   "outputs": [],
   "source": [
    "plot_activations_tsne(models[\"model_jacobi_det_reg\"].model, train_loader, device)"
   ]
  },
  {
   "attachments": {},
   "cell_type": "markdown",
   "id": "19639146",
   "metadata": {},
   "source": [
    "#### Plots of Saliency Maps"
   ]
  },
  {
   "cell_type": "code",
   "execution_count": null,
   "id": "ebee2860",
   "metadata": {},
   "outputs": [],
   "source": [
    "plot_saliency_maps(models[\"model_jacobi_det_reg\"].model, train_loader, num_images=9)"
   ]
  },
  {
   "attachments": {},
   "cell_type": "markdown",
   "id": "31bcb6c4",
   "metadata": {},
   "source": [
    "#### Plots of Occlusion Sensitivity"
   ]
  },
  {
   "cell_type": "code",
   "execution_count": null,
   "id": "97de65c4",
   "metadata": {},
   "outputs": [],
   "source": [
    "plot_occlusion_sensitivity(\n",
    "    models[\"model_jacobi_det_reg\"].model,\n",
    "    train_loader,\n",
    "    num_images=3,\n",
    "    occluder_size=8,\n",
    "    stride=4,\n",
    ")"
   ]
  },
  {
   "cell_type": "code",
   "execution_count": null,
   "id": "63acf896",
   "metadata": {},
   "outputs": [],
   "source": [
    "plot_occlusion_sensitivity(\n",
    "    models[\"model_jacobi_det_reg\"].model,\n",
    "    train_loader,\n",
    "    num_images=3,\n",
    "    occluder_size=4,\n",
    "    stride=2,\n",
    ")"
   ]
  },
  {
   "attachments": {},
   "cell_type": "markdown",
   "id": "dcf237f6-c8cf-47a4-b499-d8a4c8c90adf",
   "metadata": {},
   "source": [
    "### Dropout Regularization"
   ]
  },
  {
   "attachments": {},
   "cell_type": "markdown",
   "id": "042cab3e",
   "metadata": {},
   "source": [
    "#### Plot of Losses and Accuracies"
   ]
  },
  {
   "cell_type": "code",
   "execution_count": null,
   "id": "d3fe1343-a6de-4209-94b0-28c303300553",
   "metadata": {},
   "outputs": [],
   "source": [
    "plot_results(models, model_name=\"model_dropout\", title=\"Dropout Regularization\")"
   ]
  },
  {
   "attachments": {},
   "cell_type": "markdown",
   "id": "a80c1fcc",
   "metadata": {},
   "source": [
    "#### Plots of Activation Maps"
   ]
  },
  {
   "cell_type": "code",
   "execution_count": null,
   "id": "781629cf",
   "metadata": {},
   "outputs": [],
   "source": [
    "plot_activation_maps(models[\"model_dropout\"].model, train_loader, num_images=1)"
   ]
  },
  {
   "attachments": {},
   "cell_type": "markdown",
   "id": "0e99df92",
   "metadata": {},
   "source": [
    "#### Plot of Predicted Probabilities"
   ]
  },
  {
   "cell_type": "code",
   "execution_count": null,
   "id": "ad18aa11",
   "metadata": {},
   "outputs": [],
   "source": [
    "plot_predicted_probabilities(\n",
    "    models[\"model_dropout\"].model, train_loader, num_batches=10\n",
    ")"
   ]
  },
  {
   "cell_type": "code",
   "execution_count": null,
   "id": "b701c306",
   "metadata": {},
   "outputs": [],
   "source": [
    "plot_predicted_probabilities(models[\"model_dropout\"].model, test_loader, num_batches=10)"
   ]
  },
  {
   "attachments": {},
   "cell_type": "markdown",
   "id": "bc9f9e12",
   "metadata": {},
   "source": [
    "#### Plot of PCA of Activations"
   ]
  },
  {
   "cell_type": "code",
   "execution_count": null,
   "id": "471c7dc1",
   "metadata": {},
   "outputs": [],
   "source": [
    "plot_activations_pca(models[\"model_dropout\"].model, train_loader, device)"
   ]
  },
  {
   "attachments": {},
   "cell_type": "markdown",
   "id": "1871313c",
   "metadata": {},
   "source": [
    "#### Plot of t-SNE of Activations"
   ]
  },
  {
   "cell_type": "code",
   "execution_count": null,
   "id": "eb84c01b",
   "metadata": {},
   "outputs": [],
   "source": [
    "plot_activations_tsne(models[\"model_dropout\"].model, train_loader, device)"
   ]
  },
  {
   "attachments": {},
   "cell_type": "markdown",
   "id": "ee483940",
   "metadata": {},
   "source": [
    "#### Plots of Saliency Maps"
   ]
  },
  {
   "cell_type": "code",
   "execution_count": null,
   "id": "3580676a",
   "metadata": {},
   "outputs": [],
   "source": [
    "plot_saliency_maps(models[\"model_dropout\"].model, train_loader, num_images=9)"
   ]
  },
  {
   "attachments": {},
   "cell_type": "markdown",
   "id": "3ab1b2f5",
   "metadata": {},
   "source": [
    "#### Plots of Occlusion Sensitivity"
   ]
  },
  {
   "cell_type": "code",
   "execution_count": null,
   "id": "ebb8cdee",
   "metadata": {},
   "outputs": [],
   "source": [
    "plot_occlusion_sensitivity(\n",
    "    models[\"model_dropout\"].model, train_loader, num_images=3, occluder_size=8, stride=4\n",
    ")"
   ]
  },
  {
   "cell_type": "code",
   "execution_count": null,
   "id": "d6c577ee",
   "metadata": {},
   "outputs": [],
   "source": [
    "plot_occlusion_sensitivity(\n",
    "    models[\"model_dropout\"].model, train_loader, num_images=3, occluder_size=4, stride=2\n",
    ")"
   ]
  },
  {
   "attachments": {},
   "cell_type": "markdown",
   "id": "a243745a-0c4a-4353-9200-a5e7ec096383",
   "metadata": {},
   "source": [
    "### Confidence Penalty Regularization"
   ]
  },
  {
   "attachments": {},
   "cell_type": "markdown",
   "id": "166597eb",
   "metadata": {},
   "source": [
    "#### Plot of Losses and Accuracies"
   ]
  },
  {
   "cell_type": "code",
   "execution_count": null,
   "id": "716bdafd-e3c2-42ba-aa09-233a04906751",
   "metadata": {},
   "outputs": [],
   "source": [
    "plot_reg_results(\n",
    "    models, model_name=\"model_conf_penalty\", title=\"Confidence Penalty Regularization\"\n",
    ")"
   ]
  },
  {
   "attachments": {},
   "cell_type": "markdown",
   "id": "c44b733a",
   "metadata": {},
   "source": [
    "#### Plots of Activation Maps"
   ]
  },
  {
   "cell_type": "code",
   "execution_count": null,
   "id": "785d02bf",
   "metadata": {},
   "outputs": [],
   "source": [
    "plot_activation_maps(models[\"model_conf_penalty\"].model, train_loader, num_images=1)"
   ]
  },
  {
   "attachments": {},
   "cell_type": "markdown",
   "id": "ff3d518c",
   "metadata": {},
   "source": [
    "#### Plot of Predicted Probabilities"
   ]
  },
  {
   "cell_type": "code",
   "execution_count": null,
   "id": "ded22981",
   "metadata": {},
   "outputs": [],
   "source": [
    "plot_predicted_probabilities(\n",
    "    models[\"model_conf_penalty\"].model, train_loader, num_batches=10\n",
    ")"
   ]
  },
  {
   "cell_type": "code",
   "execution_count": null,
   "id": "25a72acd",
   "metadata": {},
   "outputs": [],
   "source": [
    "plot_predicted_probabilities(\n",
    "    models[\"model_conf_penalty\"].model, test_loader, num_batches=10\n",
    ")"
   ]
  },
  {
   "attachments": {},
   "cell_type": "markdown",
   "id": "565ff19e",
   "metadata": {},
   "source": [
    "#### Plot of PCA of Activations"
   ]
  },
  {
   "cell_type": "code",
   "execution_count": null,
   "id": "1d71488b",
   "metadata": {},
   "outputs": [],
   "source": [
    "plot_activations_pca(models[\"model_conf_penalty\"].model, train_loader, device)"
   ]
  },
  {
   "attachments": {},
   "cell_type": "markdown",
   "id": "63a2c466",
   "metadata": {},
   "source": [
    "#### Plot of t-SNE of Activations"
   ]
  },
  {
   "cell_type": "code",
   "execution_count": null,
   "id": "7716ff12",
   "metadata": {},
   "outputs": [],
   "source": [
    "plot_activations_tsne(models[\"model_conf_penalty\"].model, train_loader, device)"
   ]
  },
  {
   "attachments": {},
   "cell_type": "markdown",
   "id": "3feafaa5",
   "metadata": {},
   "source": [
    "#### Plots of Saliency Maps"
   ]
  },
  {
   "cell_type": "code",
   "execution_count": null,
   "id": "72019dd2",
   "metadata": {},
   "outputs": [],
   "source": [
    "plot_saliency_maps(models[\"model_conf_penalty\"].model, train_loader, num_images=9)"
   ]
  },
  {
   "attachments": {},
   "cell_type": "markdown",
   "id": "a6ec38f5",
   "metadata": {},
   "source": [
    "#### Plots of Occlusion Sensitivity"
   ]
  },
  {
   "cell_type": "code",
   "execution_count": null,
   "id": "6275f644",
   "metadata": {},
   "outputs": [],
   "source": [
    "plot_occlusion_sensitivity(\n",
    "    models[\"model_conf_penalty\"].model,\n",
    "    train_loader,\n",
    "    num_images=3,\n",
    "    occluder_size=8,\n",
    "    stride=4,\n",
    ")"
   ]
  },
  {
   "cell_type": "code",
   "execution_count": null,
   "id": "367f4bab",
   "metadata": {},
   "outputs": [],
   "source": [
    "plot_occlusion_sensitivity(\n",
    "    models[\"model_conf_penalty\"].model,\n",
    "    train_loader,\n",
    "    num_images=3,\n",
    "    occluder_size=4,\n",
    "    stride=2,\n",
    ")"
   ]
  },
  {
   "attachments": {},
   "cell_type": "markdown",
   "id": "515cd5c0-d093-43fb-88be-04818c5e613e",
   "metadata": {},
   "source": [
    "### Label Smoothing Regularization"
   ]
  },
  {
   "attachments": {},
   "cell_type": "markdown",
   "id": "5d5e8213",
   "metadata": {},
   "source": [
    "#### Plot of Losses and Accuracies"
   ]
  },
  {
   "cell_type": "code",
   "execution_count": null,
   "id": "15395c13-463f-4a88-a524-bf57c954d545",
   "metadata": {},
   "outputs": [],
   "source": [
    "plot_results(\n",
    "    models, model_name=\"model_label_smoothing\", title=\"Label Smoothing Regularization\"\n",
    ")"
   ]
  },
  {
   "attachments": {},
   "cell_type": "markdown",
   "id": "2e3b9ddc",
   "metadata": {},
   "source": [
    "#### Plots of Activation Maps"
   ]
  },
  {
   "cell_type": "code",
   "execution_count": null,
   "id": "85dccc87",
   "metadata": {},
   "outputs": [],
   "source": [
    "plot_activation_maps(models[\"model_label_smoothing\"].model, train_loader, num_images=1)"
   ]
  },
  {
   "attachments": {},
   "cell_type": "markdown",
   "id": "1a36cce5",
   "metadata": {},
   "source": [
    "#### Plot of Predicted Probabilities"
   ]
  },
  {
   "cell_type": "code",
   "execution_count": null,
   "id": "a1091182",
   "metadata": {},
   "outputs": [],
   "source": [
    "plot_predicted_probabilities(\n",
    "    models[\"model_label_smoothing\"].model, train_loader, num_batches=10\n",
    ")"
   ]
  },
  {
   "cell_type": "code",
   "execution_count": null,
   "id": "ba93ab42",
   "metadata": {},
   "outputs": [],
   "source": [
    "plot_predicted_probabilities(\n",
    "    models[\"model_label_smoothing\"].model, test_loader, num_batches=10\n",
    ")"
   ]
  },
  {
   "attachments": {},
   "cell_type": "markdown",
   "id": "55dd2f71",
   "metadata": {},
   "source": [
    "#### Plot of PCA of Activations"
   ]
  },
  {
   "cell_type": "code",
   "execution_count": null,
   "id": "eb57ce6e",
   "metadata": {},
   "outputs": [],
   "source": [
    "plot_activations_pca(models[\"model_label_smoothing\"].model, train_loader, device)"
   ]
  },
  {
   "attachments": {},
   "cell_type": "markdown",
   "id": "358638f9",
   "metadata": {},
   "source": [
    "#### Plot of t-SNE of Activations"
   ]
  },
  {
   "cell_type": "code",
   "execution_count": null,
   "id": "1f4d1264",
   "metadata": {},
   "outputs": [],
   "source": [
    "plot_activations_tsne(models[\"model_label_smoothing\"].model, train_loader, device)"
   ]
  },
  {
   "attachments": {},
   "cell_type": "markdown",
   "id": "24294392",
   "metadata": {},
   "source": [
    "#### Plots of Saliency Maps"
   ]
  },
  {
   "cell_type": "code",
   "execution_count": null,
   "id": "d08d1879",
   "metadata": {},
   "outputs": [],
   "source": [
    "plot_saliency_maps(models[\"model_label_smoothing\"].model, train_loader, num_images=9)"
   ]
  },
  {
   "attachments": {},
   "cell_type": "markdown",
   "id": "8ab480d1",
   "metadata": {},
   "source": [
    "#### Plots of Occlusion Sensitivity"
   ]
  },
  {
   "cell_type": "code",
   "execution_count": null,
   "id": "42f300dc",
   "metadata": {},
   "outputs": [],
   "source": [
    "plot_occlusion_sensitivity(\n",
    "    models[\"model_label_smoothing\"].model,\n",
    "    train_loader,\n",
    "    num_images=3,\n",
    "    occluder_size=8,\n",
    "    stride=4,\n",
    ")"
   ]
  },
  {
   "cell_type": "code",
   "execution_count": null,
   "id": "a540ec1d",
   "metadata": {},
   "outputs": [],
   "source": [
    "plot_occlusion_sensitivity(\n",
    "    models[\"model_label_smoothing\"].model,\n",
    "    train_loader,\n",
    "    num_images=3,\n",
    "    occluder_size=4,\n",
    "    stride=2,\n",
    ")"
   ]
  },
  {
   "attachments": {},
   "cell_type": "markdown",
   "id": "6fd5df70",
   "metadata": {},
   "source": [
    "### Noise Injection to Inputs"
   ]
  },
  {
   "attachments": {},
   "cell_type": "markdown",
   "id": "f4ae0924",
   "metadata": {},
   "source": [
    "#### Plot of Losses and Accuracies"
   ]
  },
  {
   "cell_type": "code",
   "execution_count": null,
   "id": "ae168327",
   "metadata": {},
   "outputs": [],
   "source": [
    "plot_results(\n",
    "    models, model_name=\"model_noise_inject_inputs\", title=\"Noise Injection to Inputs\"\n",
    ")"
   ]
  },
  {
   "attachments": {},
   "cell_type": "markdown",
   "id": "d5f3ec25",
   "metadata": {},
   "source": [
    "#### Plot of Weight Distributions"
   ]
  },
  {
   "cell_type": "code",
   "execution_count": null,
   "id": "57cba943",
   "metadata": {},
   "outputs": [],
   "source": [
    "plot_weight_distributions(\n",
    "    models[\"model_noise_inject_inputs\"].model,\n",
    "    title=\"Weight Distributions with Noise Injection (to inputs) Regularization\",\n",
    ")"
   ]
  },
  {
   "attachments": {},
   "cell_type": "markdown",
   "id": "7facd37d",
   "metadata": {},
   "source": [
    "#### Plots of Activation Maps"
   ]
  },
  {
   "cell_type": "code",
   "execution_count": null,
   "id": "e273de18",
   "metadata": {},
   "outputs": [],
   "source": [
    "plot_activation_maps(\n",
    "    models[\"model_noise_inject_inputs\"].model, train_loader, num_images=1\n",
    ")"
   ]
  },
  {
   "attachments": {},
   "cell_type": "markdown",
   "id": "0049101b",
   "metadata": {},
   "source": [
    "#### Plot of Predicted Probabilities"
   ]
  },
  {
   "cell_type": "code",
   "execution_count": null,
   "id": "28cc4ffc",
   "metadata": {},
   "outputs": [],
   "source": [
    "plot_predicted_probabilities(\n",
    "    models[\"model_noise_inject_inputs\"].model, train_loader, num_batches=10\n",
    ")"
   ]
  },
  {
   "cell_type": "code",
   "execution_count": null,
   "id": "f232890f",
   "metadata": {},
   "outputs": [],
   "source": [
    "plot_predicted_probabilities(\n",
    "    models[\"model_noise_inject_inputs\"].model, test_loader, num_batches=10\n",
    ")"
   ]
  },
  {
   "attachments": {},
   "cell_type": "markdown",
   "id": "b640fc64",
   "metadata": {},
   "source": [
    "#### Plot of PCA of Activations"
   ]
  },
  {
   "cell_type": "code",
   "execution_count": null,
   "id": "bb9c1c1c",
   "metadata": {},
   "outputs": [],
   "source": [
    "plot_activations_pca(models[\"model_noise_inject_inputs\"].model, train_loader, device)"
   ]
  },
  {
   "attachments": {},
   "cell_type": "markdown",
   "id": "e8377d20",
   "metadata": {},
   "source": [
    "#### Plot of t-SNE of Activations"
   ]
  },
  {
   "cell_type": "code",
   "execution_count": null,
   "id": "06d17cf3",
   "metadata": {},
   "outputs": [],
   "source": [
    "plot_activations_tsne(models[\"model_noise_inject_inputs\"].model, train_loader, device)"
   ]
  },
  {
   "attachments": {},
   "cell_type": "markdown",
   "id": "775b787e",
   "metadata": {},
   "source": [
    "#### Plots of Saliency Maps"
   ]
  },
  {
   "cell_type": "code",
   "execution_count": null,
   "id": "70d77789",
   "metadata": {},
   "outputs": [],
   "source": [
    "plot_saliency_maps(\n",
    "    models[\"model_noise_inject_inputs\"].model, train_loader, num_images=9\n",
    ")"
   ]
  },
  {
   "attachments": {},
   "cell_type": "markdown",
   "id": "2c8f695b",
   "metadata": {},
   "source": [
    "#### Plots of Occlusion Sensitivity"
   ]
  },
  {
   "cell_type": "code",
   "execution_count": null,
   "id": "c894d90f",
   "metadata": {},
   "outputs": [],
   "source": [
    "plot_occlusion_sensitivity(\n",
    "    models[\"model_noise_inject_inputs\"].model,\n",
    "    train_loader,\n",
    "    num_images=3,\n",
    "    occluder_size=8,\n",
    "    stride=4,\n",
    ")"
   ]
  },
  {
   "cell_type": "code",
   "execution_count": null,
   "id": "67d5659e",
   "metadata": {},
   "outputs": [],
   "source": [
    "plot_occlusion_sensitivity(\n",
    "    models[\"model_noise_inject_inputs\"].model,\n",
    "    train_loader,\n",
    "    num_images=3,\n",
    "    occluder_size=4,\n",
    "    stride=2,\n",
    ")"
   ]
  },
  {
   "attachments": {},
   "cell_type": "markdown",
   "id": "a0538072",
   "metadata": {},
   "source": [
    "### Noise Injection to Weights of First Convolutional Layer"
   ]
  },
  {
   "attachments": {},
   "cell_type": "markdown",
   "id": "1656d562",
   "metadata": {},
   "source": [
    "#### Plot of Losses and Accuracies"
   ]
  },
  {
   "cell_type": "code",
   "execution_count": null,
   "id": "54a431b5",
   "metadata": {},
   "outputs": [],
   "source": [
    "plot_results(\n",
    "    models,\n",
    "    model_name=\"model_noise_inject_weights\",\n",
    "    title=\"Noise Injection to Weights of First Conv. Layer)\",\n",
    ")"
   ]
  },
  {
   "attachments": {},
   "cell_type": "markdown",
   "id": "8e6dfeab",
   "metadata": {},
   "source": [
    "#### Plots of Activation Maps"
   ]
  },
  {
   "cell_type": "code",
   "execution_count": null,
   "id": "15b58b63",
   "metadata": {},
   "outputs": [],
   "source": [
    "plot_activation_maps(\n",
    "    models[\"model_noise_inject_weights\"].model, train_loader, num_images=1\n",
    ")"
   ]
  },
  {
   "attachments": {},
   "cell_type": "markdown",
   "id": "d1876527",
   "metadata": {},
   "source": [
    "#### Plot of Predicted Probabilities"
   ]
  },
  {
   "cell_type": "code",
   "execution_count": null,
   "id": "5f39d635",
   "metadata": {},
   "outputs": [],
   "source": [
    "plot_predicted_probabilities(\n",
    "    models[\"model_noise_inject_weights\"].model, train_loader, num_batches=10\n",
    ")"
   ]
  },
  {
   "cell_type": "code",
   "execution_count": null,
   "id": "9270ce3c",
   "metadata": {},
   "outputs": [],
   "source": [
    "plot_predicted_probabilities(\n",
    "    models[\"model_noise_inject_weights\"].model, test_loader, num_batches=10\n",
    ")"
   ]
  },
  {
   "attachments": {},
   "cell_type": "markdown",
   "id": "89c77c83",
   "metadata": {},
   "source": [
    "#### Plot of PCA of Activations"
   ]
  },
  {
   "cell_type": "code",
   "execution_count": null,
   "id": "d50fe6d0",
   "metadata": {},
   "outputs": [],
   "source": [
    "plot_activations_pca(models[\"model_noise_inject_weights\"].model, train_loader, device)"
   ]
  },
  {
   "attachments": {},
   "cell_type": "markdown",
   "id": "5a6aad5b",
   "metadata": {},
   "source": [
    "#### Plot of t-SNE of Activations"
   ]
  },
  {
   "cell_type": "code",
   "execution_count": null,
   "id": "72fc00b0",
   "metadata": {},
   "outputs": [],
   "source": [
    "plot_activations_tsne(models[\"model_noise_inject_weights\"].model, train_loader, device)"
   ]
  },
  {
   "attachments": {},
   "cell_type": "markdown",
   "id": "01557c36",
   "metadata": {},
   "source": [
    "#### Plots of Saliency Maps"
   ]
  },
  {
   "cell_type": "code",
   "execution_count": null,
   "id": "991176b3",
   "metadata": {},
   "outputs": [],
   "source": [
    "plot_saliency_maps(\n",
    "    models[\"model_noise_inject_weights\"].model, train_loader, num_images=9\n",
    ")"
   ]
  },
  {
   "attachments": {},
   "cell_type": "markdown",
   "id": "63574781",
   "metadata": {},
   "source": [
    "#### Plots of Occlusion Sensitivity"
   ]
  },
  {
   "cell_type": "code",
   "execution_count": null,
   "id": "825f6b62",
   "metadata": {},
   "outputs": [],
   "source": [
    "plot_occlusion_sensitivity(\n",
    "    models[\"model_noise_inject_weights\"].model,\n",
    "    train_loader,\n",
    "    num_images=3,\n",
    "    occluder_size=8,\n",
    "    stride=4,\n",
    ")"
   ]
  },
  {
   "cell_type": "code",
   "execution_count": null,
   "id": "f557f7ca",
   "metadata": {},
   "outputs": [],
   "source": [
    "plot_occlusion_sensitivity(\n",
    "    models[\"model_noise_inject_weights\"].model,\n",
    "    train_loader,\n",
    "    num_images=3,\n",
    "    occluder_size=4,\n",
    "    stride=2,\n",
    ")"
   ]
  },
  {
   "attachments": {},
   "cell_type": "markdown",
   "id": "6c728cfc",
   "metadata": {},
   "source": []
  },
  {
   "attachments": {},
   "cell_type": "markdown",
   "id": "b4b39f21",
   "metadata": {},
   "source": [
    "###"
   ]
  }
 ],
 "metadata": {
  "kernelspec": {
   "display_name": "Python 3 (ipykernel)",
   "language": "python",
   "name": "python3"
  },
  "language_info": {
   "codemirror_mode": {
    "name": "ipython",
    "version": 3
   },
   "file_extension": ".py",
   "mimetype": "text/x-python",
   "name": "python",
   "nbconvert_exporter": "python",
   "pygments_lexer": "ipython3",
   "version": "3.11.4"
  }
 },
 "nbformat": 4,
 "nbformat_minor": 5
}
