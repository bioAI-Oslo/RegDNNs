{
 "cells": [
  {
   "attachments": {},
   "cell_type": "markdown",
   "id": "d8877dd5-83b4-45d7-ba28-0f2b4e520f83",
   "metadata": {},
   "source": [
    "# Testing Regularization on MNIST with LeNet"
   ]
  },
  {
   "cell_type": "markdown",
   "id": "6be1addd",
   "metadata": {},
   "source": [
    "Here I use models trained on MNIST using LeNet using all the different regularization techniques I have implemented: No Regularization, L1, L2, Elastic Net, Soft SVB, Hard SVB, Jacobian, Jacobian Determinant, Dropout, Confidence Penalty, Label Smoothing, Noise Injection to Inputs and Noise Injection to Weights. On these models, I use all of the different visualization techniques I have implemented: Training and Test Loss Curves, Weight Distributions (for L1, L2 and Elastic Net), Feature Map Visualizations, Uncertainty Estimates, T-SNE and PCA of Activations, Saliency Maps and Occlusion Sensitivity. As there are so many this notebook is quite messy, but it works as a reference point to see how any specific regularization method effects the different visualizations."
   ]
  },
  {
   "cell_type": "markdown",
   "id": "8da870e3",
   "metadata": {},
   "source": [
    "The MNIST data is preprocessed by normalizing using mean 0.1307 and variance 0.3081. The batch size is 100. The model optimizes using SGD with momentum p = 0.9, and standard cross-entropy loss. Model parameters are initialized using Glorot initialization (See Glorot & Bengio 2010), expect for SVB regularization which uses orthogonal initialization. The learning rate starts at 0.1, and is reduced to 0.01 and 0.001 1/3 and 2/3s into training, respectively. The models are trained for 100 epochs."
   ]
  },
  {
   "attachments": {},
   "cell_type": "markdown",
   "id": "84c3b0b9-2694-4cc4-b7e0-767655b12b99",
   "metadata": {},
   "source": [
    "### Imports and Model Loading"
   ]
  },
  {
   "cell_type": "code",
   "execution_count": null,
   "id": "9f171cae-ee60-4a82-872f-c5334913602c",
   "metadata": {},
   "outputs": [],
   "source": [
    "import jupyter_black\n",
    "import pickle\n",
    "import torch\n",
    "from torchsummary import summary\n",
    "\n",
    "from data_generators import data_loader_MNIST\n",
    "from model_classes import LeNet\n",
    "from tools import ModelInfo\n",
    "from plotting_tools import (\n",
    "    plot_results,\n",
    "    plot_reg_results,\n",
    "    plot_weight_distributions,\n",
    "    plot_activation_maps,\n",
    "    plot_predicted_probabilities,\n",
    "    plot_activations_pca,\n",
    "    plot_activations_tsne,\n",
    "    plot_saliency_maps,\n",
    "    plot_occlusion_sensitivity,\n",
    ")\n",
    "\n",
    "jupyter_black.load()"
   ]
  },
  {
   "cell_type": "code",
   "execution_count": null,
   "id": "a6d1759d-7bbe-480c-994c-e66189df8018",
   "metadata": {},
   "outputs": [],
   "source": [
    "# Device configuration\n",
    "device = torch.device(\"cuda\" if torch.cuda.is_available() else \"cpu\")"
   ]
  },
  {
   "cell_type": "code",
   "execution_count": null,
   "id": "4274ab6c-6951-481f-b9ab-6b6247c28592",
   "metadata": {},
   "outputs": [],
   "source": [
    "# Loading MNIST dataset\n",
    "in_channels = 1\n",
    "train_loader, test_loader = data_loader_MNIST()\n",
    "summary_model = LeNet(in_channels=in_channels).to(device)\n",
    "summary(summary_model, (in_channels, 28, 28))"
   ]
  },
  {
   "cell_type": "code",
   "execution_count": null,
   "id": "d82e8da9",
   "metadata": {},
   "outputs": [],
   "source": [
    "# Load models\n",
    "model_names = [\n",
    "    \"model_no_reg\",\n",
    "    \"model_l1\",\n",
    "    \"model_l2\",\n",
    "    \"model_l1_l2\",\n",
    "    \"model_svb\",\n",
    "    \"model_soft_svb\",\n",
    "    \"model_jacobi_reg\",\n",
    "    \"model_jacobi_det_reg\",\n",
    "    \"model_dropout\",\n",
    "    \"model_conf_penalty\",\n",
    "    \"model_label_smoothing\",\n",
    "    \"model_noise_inject_inputs\",\n",
    "    \"model_noise_inject_weights\",\n",
    "]\n",
    "models = {name: ModelInfo(name) for name in model_names}"
   ]
  },
  {
   "attachments": {},
   "cell_type": "markdown",
   "id": "09ef829a-47fa-468a-bf47-60da19249f6b",
   "metadata": {
    "tags": []
   },
   "source": [
    "## No regularization"
   ]
  },
  {
   "attachments": {},
   "cell_type": "markdown",
   "id": "230971d8",
   "metadata": {},
   "source": [
    "### Training"
   ]
  },
  {
   "cell_type": "code",
   "execution_count": null,
   "id": "7b373f33-3fa6-4354-970d-7a4738fa597d",
   "metadata": {
    "tags": []
   },
   "outputs": [],
   "source": [
    "# model = LeNet(lr=lr, momentum=momentum, in_channels=in_channels).to(device)\n",
    "# n_epochs = 10\n",
    "# losses, reg_losses, epochs, weights, train_accuracies, test_accuracies = train(\n",
    "#    train_loader, test_loader, model, n_epochs\n",
    "# )\n",
    "model = torch.load(\"./Trained_models/model_no_reg.pt\", map_location=torch.device(\"cpu\"))\n",
    "with open(\"./Trained_models/model_no_reg_data.pkl\", \"rb\") as f:\n",
    "    data = pickle.load(f)\n",
    "    losses = data[\"losses\"]\n",
    "    reg_losses = data[\"reg_losses\"]\n",
    "    epochs = data[\"epochs\"]\n",
    "    weights = data[\"weights\"]\n",
    "    train_accuracies = data[\"train_accuracies\"]\n",
    "    test_accuracies = data[\"test_accuracies\"]"
   ]
  },
  {
   "attachments": {},
   "cell_type": "markdown",
   "id": "6e5b437b",
   "metadata": {},
   "source": [
    "### Visualization"
   ]
  },
  {
   "attachments": {},
   "cell_type": "markdown",
   "id": "770ead36",
   "metadata": {},
   "source": [
    "#### Plot of Losses and Accuracies"
   ]
  },
  {
   "attachments": {},
   "cell_type": "markdown",
   "id": "80ae84ab",
   "metadata": {},
   "source": [
    "The most straightforward way to visualize the effect of regularization is by plotting the training and validation loss over time. If regularization is working correctly, we should observe a decrease in the gap between training and validation loss, indicating a reduction in overfitting."
   ]
  },
  {
   "cell_type": "code",
   "execution_count": null,
   "id": "b81e142f-c4a6-43f5-aa1f-01bdd403ce8e",
   "metadata": {
    "tags": []
   },
   "outputs": [],
   "source": [
    "plot_results(\n",
    "    epochs, losses, train_accuracies, test_accuracies, title=\"No regularization\"\n",
    ")"
   ]
  },
  {
   "attachments": {},
   "cell_type": "markdown",
   "id": "5cb2d5a1",
   "metadata": {},
   "source": [
    "#### Plot of Weight Distributions"
   ]
  },
  {
   "attachments": {},
   "cell_type": "markdown",
   "id": "17f35be5",
   "metadata": {},
   "source": [
    "For L1, L2, and Elastic Net regularization, it is useful to visualize the distribution of the weights in the model. L1 regularization should result in many weights being exactly zero, while L2 regularization will typically result in a distribution with smaller magnitudes."
   ]
  },
  {
   "cell_type": "code",
   "execution_count": null,
   "id": "918a0d5e",
   "metadata": {},
   "outputs": [],
   "source": [
    "plot_weight_distributions(model, title=\"Weight Distributions with No Regularization\")"
   ]
  },
  {
   "attachments": {},
   "cell_type": "markdown",
   "id": "d73d8d0f",
   "metadata": {},
   "source": [
    "#### Plots of Activation Maps"
   ]
  },
  {
   "attachments": {},
   "cell_type": "markdown",
   "id": "e7b41217",
   "metadata": {},
   "source": [
    "Plots activation maps for each filter in each convolutional layer for a random image taken from the loader sent into the function. To see whether the model builds good representations/picks up on interesting features with the filters - look at train_loader. To see how well it generalizes look at test_loader. We see that images in the first conv layer look almost identical to the input image, while in the second layer they start learning some more clear features. Especially in the context of convolutional neural networks (CNNs), visualizing the feature maps - the activations of the convolutional layers - can provide insight into what features the network is learning. This can give a sense of how regularization is affecting the types of features learned. For instance, too much L1/L2 regularization might result in overly simplistic feature maps, while too little might result in feature maps that are overly complex or noisy."
   ]
  },
  {
   "cell_type": "code",
   "execution_count": null,
   "id": "6a91faa3",
   "metadata": {},
   "outputs": [],
   "source": [
    "plot_activation_maps(model, train_loader, num_images=1)"
   ]
  },
  {
   "attachments": {},
   "cell_type": "markdown",
   "id": "7b98dd53",
   "metadata": {},
   "source": [
    "#### Plot of Predicted Probabilities"
   ]
  },
  {
   "cell_type": "code",
   "execution_count": null,
   "id": "6619e13e",
   "metadata": {},
   "outputs": [],
   "source": [
    "plot_predicted_probabilities(model, train_loader, num_batches=10)"
   ]
  },
  {
   "cell_type": "code",
   "execution_count": null,
   "id": "d4c3102b",
   "metadata": {},
   "outputs": [],
   "source": [
    "plot_predicted_probabilities(model, test_loader, num_batches=10)"
   ]
  },
  {
   "attachments": {},
   "cell_type": "markdown",
   "id": "aa4615ff",
   "metadata": {},
   "source": [
    "#### Plot of PCA of Activations"
   ]
  },
  {
   "attachments": {},
   "cell_type": "markdown",
   "id": "134ce1f0",
   "metadata": {},
   "source": [
    "We are taking PCA of the activations (outputs) of each layer, to see how they are distributed. They are distributed in high dimensional space, but we project them down on two principal components. One can use dimensionality reduction techniques like t-SNE or PCA to visualize the activations of the network. This involves taking the activation values of a particular layer and reducing them to 2 or 3 dimensions for plotting. Different classes should ideally form distinct clusters, and overfitting may manifest as overly complex boundaries between classes."
   ]
  },
  {
   "cell_type": "code",
   "execution_count": null,
   "id": "9b4b52ba",
   "metadata": {},
   "outputs": [],
   "source": [
    "plot_activations_pca(model, train_loader, device)"
   ]
  },
  {
   "attachments": {},
   "cell_type": "markdown",
   "id": "59822633",
   "metadata": {},
   "source": [
    "#### Plot of t-SNE of Activations"
   ]
  },
  {
   "attachments": {},
   "cell_type": "markdown",
   "id": "30a37da4",
   "metadata": {},
   "source": [
    "One can use dimensionality reduction techniques like t-SNE or PCA to visualize the activations of the network. This involves taking the activation values of a particular layer and reducing them to 2 or 3 dimensions for plotting. Different classes should ideally form distinct clusters, and overfitting may manifest as overly complex boundaries between classes."
   ]
  },
  {
   "cell_type": "code",
   "execution_count": null,
   "id": "5a324d5c",
   "metadata": {},
   "outputs": [],
   "source": [
    "plot_activations_tsne(model, train_loader, device)"
   ]
  },
  {
   "attachments": {},
   "cell_type": "markdown",
   "id": "1e60aa1a",
   "metadata": {},
   "source": [
    "#### Plots of Saliency Maps"
   ]
  },
  {
   "attachments": {},
   "cell_type": "markdown",
   "id": "fc9edcf7",
   "metadata": {},
   "source": [
    "A saliency map is a simple, yet effective method for understanding which parts of the image contribute most significantly to a neural network's decision. It is created by calculating the gradient of the output category with respect to the input image. This gradient is then visualized as a heatmap overlaying the original image, with high-gradient regions indicating important areas for the model's decision. The intuition behind this is that the gradient measures how much a small change in each pixel's intensity would affect the final prediction. So, large gradient values suggest important pixels."
   ]
  },
  {
   "cell_type": "code",
   "execution_count": null,
   "id": "7f0fda82",
   "metadata": {},
   "outputs": [],
   "source": [
    "plot_saliency_maps(model, train_loader, num_images=12)"
   ]
  },
  {
   "attachments": {},
   "cell_type": "markdown",
   "id": "3a5cad2c",
   "metadata": {},
   "source": [
    "#### Plots of Occlusion Sensitivity"
   ]
  },
  {
   "attachments": {},
   "cell_type": "markdown",
   "id": "1b60c1c6",
   "metadata": {},
   "source": [
    "Occlusion sensitivity is a method that involves systematically occluding different parts of the input image with a grey square (or other \"occluder\"), and monitoring the effect on the classifier's output. The output is then visualized as a heatmap showing how much the classifier's confidence decreased when each region was occluded, highlighting important regions in the input image for the model's decision. Here, the warmer colour the more important for the classification. A score of 1 means that blocking the area did not change the classification, while 0 means it occluded the prediction."
   ]
  },
  {
   "cell_type": "code",
   "execution_count": null,
   "id": "953a98b5",
   "metadata": {},
   "outputs": [],
   "source": [
    "plot_occlusion_sensitivity(model, train_loader, num_images=3, occluder_size=8, stride=4)"
   ]
  },
  {
   "cell_type": "code",
   "execution_count": null,
   "id": "470459ec",
   "metadata": {},
   "outputs": [],
   "source": [
    "plot_occlusion_sensitivity(model, train_loader, num_images=3, occluder_size=4, stride=2)"
   ]
  },
  {
   "attachments": {},
   "cell_type": "markdown",
   "id": "f53e04a2-1943-4de0-bf3c-e315efc66798",
   "metadata": {
    "tags": []
   },
   "source": [
    "## L1 Regularization"
   ]
  },
  {
   "attachments": {},
   "cell_type": "markdown",
   "id": "c7e433ab",
   "metadata": {},
   "source": [
    "### Training"
   ]
  },
  {
   "cell_type": "code",
   "execution_count": null,
   "id": "318d7d1e-bed5-4e31-8734-a2062d1d6904",
   "metadata": {},
   "outputs": [],
   "source": [
    "model = LeNet(lr=lr, momentum=momentum, in_channels=in_channels).to(device)\n",
    "n_epochs = 5\n",
    "losses, reg_losses, epochs, weights, train_accuracies, test_accuracies = train(\n",
    "    train_loader, test_loader, model, n_epochs, l1=True, l1_lmbd=0.001\n",
    ")"
   ]
  },
  {
   "attachments": {},
   "cell_type": "markdown",
   "id": "1c0f3bd9",
   "metadata": {},
   "source": [
    "### Visualization"
   ]
  },
  {
   "attachments": {},
   "cell_type": "markdown",
   "id": "21b60d3a",
   "metadata": {},
   "source": [
    "#### Plot of Losses and Accuracies"
   ]
  },
  {
   "cell_type": "code",
   "execution_count": null,
   "id": "8e868180-a6f3-4bc4-95a0-360418bfb5a2",
   "metadata": {},
   "outputs": [],
   "source": [
    "plot_reg_results(\n",
    "    epochs,\n",
    "    losses,\n",
    "    reg_losses,\n",
    "    train_accuracies,\n",
    "    test_accuracies,\n",
    "    title=\"L1 regularization\",\n",
    ")"
   ]
  },
  {
   "attachments": {},
   "cell_type": "markdown",
   "id": "a69cb2c3",
   "metadata": {},
   "source": [
    "#### Plot of Weight Distributions"
   ]
  },
  {
   "cell_type": "code",
   "execution_count": null,
   "id": "d1dde69e",
   "metadata": {},
   "outputs": [],
   "source": [
    "plot_weight_distributions(model, title=\"Weight Distributions with L1 Regularization\")"
   ]
  },
  {
   "attachments": {},
   "cell_type": "markdown",
   "id": "e4aa44c9",
   "metadata": {},
   "source": [
    "#### Plots of Activation Maps"
   ]
  },
  {
   "cell_type": "code",
   "execution_count": null,
   "id": "9784e0f0",
   "metadata": {},
   "outputs": [],
   "source": [
    "plot_activation_maps(model, train_loader, num_images=1)"
   ]
  },
  {
   "attachments": {},
   "cell_type": "markdown",
   "id": "9649fadb",
   "metadata": {},
   "source": [
    "#### Plot of Predicted Probabilities"
   ]
  },
  {
   "cell_type": "code",
   "execution_count": null,
   "id": "19a0f550",
   "metadata": {},
   "outputs": [],
   "source": [
    "plot_predicted_probabilities(model, train_loader, num_batches=10)"
   ]
  },
  {
   "cell_type": "code",
   "execution_count": null,
   "id": "e837c73e",
   "metadata": {},
   "outputs": [],
   "source": [
    "plot_predicted_probabilities(model, test_loader, num_batches=10)"
   ]
  },
  {
   "attachments": {},
   "cell_type": "markdown",
   "id": "b4a1f639",
   "metadata": {},
   "source": [
    "#### Plot of PCA of Activations"
   ]
  },
  {
   "cell_type": "code",
   "execution_count": null,
   "id": "29fcf157",
   "metadata": {},
   "outputs": [],
   "source": [
    "plot_activations_pca(model, train_loader, device)"
   ]
  },
  {
   "attachments": {},
   "cell_type": "markdown",
   "id": "3e09c604",
   "metadata": {},
   "source": [
    "#### Plot of t-SNE of Activations"
   ]
  },
  {
   "cell_type": "code",
   "execution_count": null,
   "id": "8eac6a13",
   "metadata": {},
   "outputs": [],
   "source": [
    "plot_activations_tsne(model, train_loader, device)"
   ]
  },
  {
   "attachments": {},
   "cell_type": "markdown",
   "id": "ca375aef",
   "metadata": {},
   "source": [
    "#### Plots of Saliency Maps"
   ]
  },
  {
   "cell_type": "code",
   "execution_count": null,
   "id": "e2532c0e",
   "metadata": {},
   "outputs": [],
   "source": [
    "plot_saliency_maps(model, train_loader, num_images=9)"
   ]
  },
  {
   "attachments": {},
   "cell_type": "markdown",
   "id": "a91a008c",
   "metadata": {},
   "source": [
    "#### Plots of Occlusion Sensitivity"
   ]
  },
  {
   "cell_type": "code",
   "execution_count": null,
   "id": "4345c9ed",
   "metadata": {},
   "outputs": [],
   "source": [
    "plot_occlusion_sensitivity(model, train_loader, num_images=3, occluder_size=8, stride=4)"
   ]
  },
  {
   "cell_type": "code",
   "execution_count": null,
   "id": "aa373ef2",
   "metadata": {},
   "outputs": [],
   "source": [
    "plot_occlusion_sensitivity(model, train_loader, num_images=3, occluder_size=4, stride=2)"
   ]
  },
  {
   "attachments": {},
   "cell_type": "markdown",
   "id": "101a326c-dea1-42ab-9cbf-264f31e28d1f",
   "metadata": {
    "tags": []
   },
   "source": [
    "## L2 Regularization"
   ]
  },
  {
   "attachments": {},
   "cell_type": "markdown",
   "id": "3cd765e1",
   "metadata": {},
   "source": [
    "### Training"
   ]
  },
  {
   "cell_type": "code",
   "execution_count": null,
   "id": "50cf8cd4-e3c2-4089-a6cd-35103cb51d71",
   "metadata": {},
   "outputs": [],
   "source": [
    "model = LeNet(lr=lr, momentum=momentum, in_channels=in_channels).to(device)\n",
    "n_epochs = 5\n",
    "losses, reg_losses, epochs, weights, train_accuracies, test_accuracies = train(\n",
    "    train_loader, test_loader, model, n_epochs, l2=True, l2_lmbd=0.01\n",
    ")"
   ]
  },
  {
   "attachments": {},
   "cell_type": "markdown",
   "id": "88652945",
   "metadata": {},
   "source": [
    "### Visualization"
   ]
  },
  {
   "attachments": {},
   "cell_type": "markdown",
   "id": "048f084b",
   "metadata": {},
   "source": [
    "#### Plot of Losses and Accuracies"
   ]
  },
  {
   "cell_type": "code",
   "execution_count": null,
   "id": "71d28be2-f459-4ff4-9db6-d951c151a479",
   "metadata": {},
   "outputs": [],
   "source": [
    "plot_reg_results(\n",
    "    epochs,\n",
    "    losses,\n",
    "    reg_losses,\n",
    "    train_accuracies,\n",
    "    test_accuracies,\n",
    "    title=\"L2 regularization\",\n",
    ")"
   ]
  },
  {
   "attachments": {},
   "cell_type": "markdown",
   "id": "5a981875",
   "metadata": {},
   "source": [
    "#### Plot of Weight Distributions"
   ]
  },
  {
   "cell_type": "code",
   "execution_count": null,
   "id": "b6d64845",
   "metadata": {},
   "outputs": [],
   "source": [
    "plot_weight_distributions(model, title=\"Weight Distributions with L2 Regularization\")"
   ]
  },
  {
   "attachments": {},
   "cell_type": "markdown",
   "id": "cc85a8e6",
   "metadata": {},
   "source": [
    "#### Plots of Activation Maps"
   ]
  },
  {
   "cell_type": "code",
   "execution_count": null,
   "id": "3b5bfc09",
   "metadata": {},
   "outputs": [],
   "source": [
    "plot_activation_maps(model, train_loader, num_images=1)"
   ]
  },
  {
   "attachments": {},
   "cell_type": "markdown",
   "id": "f6a15527",
   "metadata": {},
   "source": [
    "#### Plot of Predicted Probabilities"
   ]
  },
  {
   "cell_type": "code",
   "execution_count": null,
   "id": "adf1c17b",
   "metadata": {},
   "outputs": [],
   "source": [
    "plot_predicted_probabilities(model, train_loader, num_batches=10)"
   ]
  },
  {
   "cell_type": "code",
   "execution_count": null,
   "id": "1506ad62",
   "metadata": {},
   "outputs": [],
   "source": [
    "plot_predicted_probabilities(model, test_loader, num_batches=10)"
   ]
  },
  {
   "attachments": {},
   "cell_type": "markdown",
   "id": "135b2f88",
   "metadata": {},
   "source": [
    "#### Plot of PCA of Activations"
   ]
  },
  {
   "cell_type": "code",
   "execution_count": null,
   "id": "77c7359e",
   "metadata": {},
   "outputs": [],
   "source": [
    "plot_activations_pca(model, train_loader, device)"
   ]
  },
  {
   "attachments": {},
   "cell_type": "markdown",
   "id": "6d736f65",
   "metadata": {},
   "source": [
    "#### Plot t-SNE of Activations"
   ]
  },
  {
   "cell_type": "code",
   "execution_count": null,
   "id": "f5cb5001",
   "metadata": {},
   "outputs": [],
   "source": [
    "plot_activations_tsne(model, train_loader, device)"
   ]
  },
  {
   "attachments": {},
   "cell_type": "markdown",
   "id": "f4bcee2f",
   "metadata": {},
   "source": [
    "#### Plots of Saliency Maps"
   ]
  },
  {
   "cell_type": "code",
   "execution_count": null,
   "id": "cdcd8b1d",
   "metadata": {},
   "outputs": [],
   "source": [
    "plot_saliency_maps(model, train_loader, num_images=9)"
   ]
  },
  {
   "attachments": {},
   "cell_type": "markdown",
   "id": "7d3951ed",
   "metadata": {},
   "source": [
    "#### Plots of Occlusion Sensitivity"
   ]
  },
  {
   "cell_type": "code",
   "execution_count": null,
   "id": "61d97b11",
   "metadata": {},
   "outputs": [],
   "source": [
    "plot_occlusion_sensitivity(model, train_loader, num_images=3, occluder_size=8, stride=4)"
   ]
  },
  {
   "cell_type": "code",
   "execution_count": null,
   "id": "340b1be8",
   "metadata": {},
   "outputs": [],
   "source": [
    "plot_occlusion_sensitivity(model, train_loader, num_images=3, occluder_size=4, stride=2)"
   ]
  },
  {
   "attachments": {},
   "cell_type": "markdown",
   "id": "78b69bc4-39ac-419d-bbc9-77618856eaa4",
   "metadata": {
    "tags": []
   },
   "source": [
    "## Elastic Net Regularization (L1 and L2)"
   ]
  },
  {
   "attachments": {},
   "cell_type": "markdown",
   "id": "97db21c5",
   "metadata": {},
   "source": [
    "### Training"
   ]
  },
  {
   "cell_type": "code",
   "execution_count": null,
   "id": "2468ad01-b241-440d-a959-01fdce9bf948",
   "metadata": {},
   "outputs": [],
   "source": [
    "model = LeNet(lr=lr, momentum=momentum, in_channels=in_channels).to(device)\n",
    "n_epochs = 5\n",
    "losses, reg_losses, epochs, weights, train_accuracies, test_accuracies = train(\n",
    "    train_loader,\n",
    "    test_loader,\n",
    "    model,\n",
    "    n_epochs,\n",
    "    l1=True,\n",
    "    l1_lmbd=0.001,\n",
    "    l2=True,\n",
    "    l2_lmbd=0.001,\n",
    ")"
   ]
  },
  {
   "attachments": {},
   "cell_type": "markdown",
   "id": "95d7654b",
   "metadata": {},
   "source": [
    "### Visualization"
   ]
  },
  {
   "attachments": {},
   "cell_type": "markdown",
   "id": "3db5f2cf",
   "metadata": {},
   "source": [
    "#### Plot of Losses and Accuracies"
   ]
  },
  {
   "cell_type": "code",
   "execution_count": null,
   "id": "81cef9b1-c0b0-4582-9cfd-d02574e8cd0d",
   "metadata": {},
   "outputs": [],
   "source": [
    "plot_reg_results(\n",
    "    epochs,\n",
    "    losses,\n",
    "    reg_losses,\n",
    "    train_accuracies,\n",
    "    test_accuracies,\n",
    "    title=\"L1 and L2 regularization\",\n",
    ")"
   ]
  },
  {
   "attachments": {},
   "cell_type": "markdown",
   "id": "56409a0f",
   "metadata": {},
   "source": [
    "#### Plot of Weight Distributions"
   ]
  },
  {
   "cell_type": "code",
   "execution_count": null,
   "id": "371d6361",
   "metadata": {},
   "outputs": [],
   "source": [
    "plot_weight_distributions(\n",
    "    model, title=\"Weight Distributions with Elastic Net Regularization\"\n",
    ")"
   ]
  },
  {
   "attachments": {},
   "cell_type": "markdown",
   "id": "de3aff99",
   "metadata": {},
   "source": [
    "#### Plots of Activation Maps"
   ]
  },
  {
   "cell_type": "code",
   "execution_count": null,
   "id": "dcfad0e5",
   "metadata": {},
   "outputs": [],
   "source": [
    "plot_activation_maps(model, train_loader, num_images=1)"
   ]
  },
  {
   "attachments": {},
   "cell_type": "markdown",
   "id": "23bfe277",
   "metadata": {},
   "source": [
    "#### Plot of Predicted Probabilities"
   ]
  },
  {
   "cell_type": "code",
   "execution_count": null,
   "id": "0376369d",
   "metadata": {},
   "outputs": [],
   "source": [
    "plot_predicted_probabilities(model, train_loader, num_batches=10)"
   ]
  },
  {
   "cell_type": "code",
   "execution_count": null,
   "id": "2a70b9cd",
   "metadata": {},
   "outputs": [],
   "source": [
    "plot_predicted_probabilities(model, test_loader, num_batches=10)"
   ]
  },
  {
   "attachments": {},
   "cell_type": "markdown",
   "id": "34c1cba7",
   "metadata": {},
   "source": [
    "#### Plot of PCA of Activations"
   ]
  },
  {
   "cell_type": "code",
   "execution_count": null,
   "id": "4475b255",
   "metadata": {},
   "outputs": [],
   "source": [
    "plot_activations_pca(model, train_loader, device)"
   ]
  },
  {
   "attachments": {},
   "cell_type": "markdown",
   "id": "7144da68",
   "metadata": {},
   "source": [
    "#### Plot of t-SNE of Activations"
   ]
  },
  {
   "cell_type": "code",
   "execution_count": null,
   "id": "1c2dff5e",
   "metadata": {},
   "outputs": [],
   "source": [
    "plot_activations_tsne(model, train_loader, device)"
   ]
  },
  {
   "attachments": {},
   "cell_type": "markdown",
   "id": "9df8bb1c",
   "metadata": {},
   "source": [
    "#### Plots of Saliency Maps"
   ]
  },
  {
   "cell_type": "code",
   "execution_count": null,
   "id": "23c8a99c",
   "metadata": {},
   "outputs": [],
   "source": [
    "plot_saliency_maps(model, train_loader, num_images=9)"
   ]
  },
  {
   "attachments": {},
   "cell_type": "markdown",
   "id": "2b229389",
   "metadata": {},
   "source": [
    "#### Plots of Occlusion Sensitivity"
   ]
  },
  {
   "cell_type": "code",
   "execution_count": null,
   "id": "605866be",
   "metadata": {},
   "outputs": [],
   "source": [
    "plot_occlusion_sensitivity(model, train_loader, num_images=3, occluder_size=8, stride=4)"
   ]
  },
  {
   "cell_type": "code",
   "execution_count": null,
   "id": "5dd794c0",
   "metadata": {},
   "outputs": [],
   "source": [
    "plot_occlusion_sensitivity(model, train_loader, num_images=3, occluder_size=4, stride=2)"
   ]
  },
  {
   "attachments": {},
   "cell_type": "markdown",
   "id": "68af5257-96a2-4cc4-a86e-c46d7f86113e",
   "metadata": {
    "tags": []
   },
   "source": [
    "## Soft SVB Regularization"
   ]
  },
  {
   "attachments": {},
   "cell_type": "markdown",
   "id": "6995fe1a",
   "metadata": {},
   "source": [
    "### Training"
   ]
  },
  {
   "cell_type": "code",
   "execution_count": null,
   "id": "aa4956f1-33f7-4d6f-8f37-59181c5ebc02",
   "metadata": {},
   "outputs": [],
   "source": [
    "model = LeNet(lr=lr, momentum=momentum, in_channels=in_channels).to(device)\n",
    "n_epochs = 5\n",
    "losses, reg_losses, epochs, weights, train_accuracies, test_accuracies = train(\n",
    "    train_loader, test_loader, model, n_epochs, soft_svb=True, soft_svb_lmbd=0.01\n",
    ")\n",
    "print(len(epochs))"
   ]
  },
  {
   "attachments": {},
   "cell_type": "markdown",
   "id": "13d13050",
   "metadata": {},
   "source": [
    "### Visualization"
   ]
  },
  {
   "attachments": {},
   "cell_type": "markdown",
   "id": "86a7fcbd",
   "metadata": {},
   "source": [
    "#### Plot of Losses and Accuracies"
   ]
  },
  {
   "cell_type": "code",
   "execution_count": null,
   "id": "a5f5d532-4429-4e66-a850-e8320a7e52f4",
   "metadata": {},
   "outputs": [],
   "source": [
    "plot_reg_results(\n",
    "    epochs,\n",
    "    losses,\n",
    "    reg_losses,\n",
    "    train_accuracies,\n",
    "    test_accuracies,\n",
    "    title=\"Soft SVB regularization\",\n",
    ")"
   ]
  },
  {
   "attachments": {},
   "cell_type": "markdown",
   "id": "06797047",
   "metadata": {},
   "source": [
    "#### Plot of Weight Distributions"
   ]
  },
  {
   "cell_type": "code",
   "execution_count": null,
   "id": "267ebae8",
   "metadata": {},
   "outputs": [],
   "source": [
    "plot_weight_distributions(\n",
    "    model, title=\"Weight Distributions with Soft SVB Regularization\"\n",
    ")"
   ]
  },
  {
   "attachments": {},
   "cell_type": "markdown",
   "id": "5c91430d",
   "metadata": {},
   "source": [
    "#### Plots of Activation Maps"
   ]
  },
  {
   "cell_type": "code",
   "execution_count": null,
   "id": "36b437d6",
   "metadata": {},
   "outputs": [],
   "source": [
    "plot_activation_maps(model, train_loader, num_images=1)"
   ]
  },
  {
   "attachments": {},
   "cell_type": "markdown",
   "id": "686c97d4",
   "metadata": {},
   "source": [
    "#### Plot of Predicted Probabilities"
   ]
  },
  {
   "cell_type": "code",
   "execution_count": null,
   "id": "ea0d3197",
   "metadata": {},
   "outputs": [],
   "source": [
    "plot_predicted_probabilities(model, train_loader, num_batches=10)"
   ]
  },
  {
   "cell_type": "code",
   "execution_count": null,
   "id": "4544cc1f",
   "metadata": {},
   "outputs": [],
   "source": [
    "plot_predicted_probabilities(model, test_loader, num_batches=10)"
   ]
  },
  {
   "attachments": {},
   "cell_type": "markdown",
   "id": "961c1ea7",
   "metadata": {},
   "source": [
    "#### Plot of PCA of Activations"
   ]
  },
  {
   "cell_type": "code",
   "execution_count": null,
   "id": "c5bd335f",
   "metadata": {},
   "outputs": [],
   "source": [
    "plot_activations_pca(model, train_loader, device)"
   ]
  },
  {
   "attachments": {},
   "cell_type": "markdown",
   "id": "1e367ed6",
   "metadata": {},
   "source": [
    "#### Plot of t-SNE of Activations"
   ]
  },
  {
   "cell_type": "code",
   "execution_count": null,
   "id": "48359be5",
   "metadata": {},
   "outputs": [],
   "source": [
    "plot_activations_tsne(model, train_loader, device)"
   ]
  },
  {
   "attachments": {},
   "cell_type": "markdown",
   "id": "e4fb6e31",
   "metadata": {},
   "source": [
    "#### Plots of Saliency Maps"
   ]
  },
  {
   "cell_type": "code",
   "execution_count": null,
   "id": "2556e6b9",
   "metadata": {},
   "outputs": [],
   "source": [
    "plot_saliency_maps(model, train_loader, num_images=9)"
   ]
  },
  {
   "attachments": {},
   "cell_type": "markdown",
   "id": "a89c2df4",
   "metadata": {},
   "source": [
    "#### Plots of Occlusion Sensitivity"
   ]
  },
  {
   "cell_type": "code",
   "execution_count": null,
   "id": "48ba9e7c",
   "metadata": {},
   "outputs": [],
   "source": [
    "plot_occlusion_sensitivity(model, train_loader, num_images=3, occluder_size=8, stride=4)"
   ]
  },
  {
   "cell_type": "code",
   "execution_count": null,
   "id": "c29ccd25",
   "metadata": {},
   "outputs": [],
   "source": [
    "plot_occlusion_sensitivity(model, train_loader, num_images=3, occluder_size=4, stride=2)"
   ]
  },
  {
   "attachments": {},
   "cell_type": "markdown",
   "id": "d8532074-3e3c-42f8-8d0d-234785f488e6",
   "metadata": {},
   "source": [
    "## Hard SVB Regularization"
   ]
  },
  {
   "attachments": {},
   "cell_type": "markdown",
   "id": "32caf82b",
   "metadata": {},
   "source": [
    "### Training"
   ]
  },
  {
   "cell_type": "code",
   "execution_count": null,
   "id": "a40e4793-121d-4c30-97c7-18061fb6c897",
   "metadata": {},
   "outputs": [],
   "source": [
    "model = LeNet(lr=lr, momentum=momentum, in_channels=in_channels).to(device)\n",
    "n_epochs = 5\n",
    "losses, reg_losses, epochs, weights, train_accuracies, test_accuracies = train(\n",
    "    train_loader, test_loader, model, n_epochs, hard_svb=True, hard_svb_lmbd=0.00001\n",
    ")"
   ]
  },
  {
   "attachments": {},
   "cell_type": "markdown",
   "id": "309d975f",
   "metadata": {},
   "source": [
    "### Visualization"
   ]
  },
  {
   "attachments": {},
   "cell_type": "markdown",
   "id": "a5f54d7b",
   "metadata": {},
   "source": [
    "#### Plot of Losses and Accuracies"
   ]
  },
  {
   "cell_type": "code",
   "execution_count": null,
   "id": "35fb573f-5073-457c-8872-ebecf7483a25",
   "metadata": {},
   "outputs": [],
   "source": [
    "plot_reg_results(\n",
    "    epochs,\n",
    "    losses,\n",
    "    reg_losses,\n",
    "    train_accuracies,\n",
    "    test_accuracies,\n",
    "    title=\"Hard SVB regularization\",\n",
    ")"
   ]
  },
  {
   "attachments": {},
   "cell_type": "markdown",
   "id": "7885e570",
   "metadata": {},
   "source": [
    "#### Plot of Weight Distributions"
   ]
  },
  {
   "cell_type": "code",
   "execution_count": null,
   "id": "8cba54b1",
   "metadata": {},
   "outputs": [],
   "source": [
    "plot_weight_distributions(model, title = \"Weight Distributions with Hard SVB Regularization\")"
   ]
  },
  {
   "attachments": {},
   "cell_type": "markdown",
   "id": "c6ecf318",
   "metadata": {},
   "source": [
    "#### Plots of Activation Maps"
   ]
  },
  {
   "cell_type": "code",
   "execution_count": null,
   "id": "381ac7fe",
   "metadata": {},
   "outputs": [],
   "source": [
    "plot_activation_maps(model, train_loader, num_images=1)"
   ]
  },
  {
   "attachments": {},
   "cell_type": "markdown",
   "id": "258cf967",
   "metadata": {},
   "source": [
    "#### Plot of Predicted Probabilities"
   ]
  },
  {
   "cell_type": "code",
   "execution_count": null,
   "id": "11066d32",
   "metadata": {},
   "outputs": [],
   "source": [
    "plot_predicted_probabilities(model, train_loader, num_batches=10)"
   ]
  },
  {
   "cell_type": "code",
   "execution_count": null,
   "id": "6b388302",
   "metadata": {},
   "outputs": [],
   "source": [
    "plot_predicted_probabilities(model, test_loader, num_batches=10)"
   ]
  },
  {
   "attachments": {},
   "cell_type": "markdown",
   "id": "a616504f",
   "metadata": {},
   "source": [
    "#### Plot of PCA of Activations"
   ]
  },
  {
   "cell_type": "code",
   "execution_count": null,
   "id": "64735086",
   "metadata": {},
   "outputs": [],
   "source": [
    "plot_activations_pca(model, train_loader, device)"
   ]
  },
  {
   "attachments": {},
   "cell_type": "markdown",
   "id": "a2ed4e48",
   "metadata": {},
   "source": [
    "#### Plot of t-SNE of Activations"
   ]
  },
  {
   "cell_type": "code",
   "execution_count": null,
   "id": "ed8acc5d",
   "metadata": {},
   "outputs": [],
   "source": [
    "plot_activations_tsne(model, train_loader, device)"
   ]
  },
  {
   "attachments": {},
   "cell_type": "markdown",
   "id": "f2d09574",
   "metadata": {},
   "source": [
    "#### Plots of Saliency Maps"
   ]
  },
  {
   "cell_type": "code",
   "execution_count": null,
   "id": "f9192f3b",
   "metadata": {},
   "outputs": [],
   "source": [
    "plot_saliency_maps(model, train_loader, num_images=9)"
   ]
  },
  {
   "attachments": {},
   "cell_type": "markdown",
   "id": "00c942af",
   "metadata": {},
   "source": [
    "#### Plots of Occlusion Sensitivity"
   ]
  },
  {
   "cell_type": "code",
   "execution_count": null,
   "id": "85d65ef4",
   "metadata": {},
   "outputs": [],
   "source": [
    "plot_occlusion_sensitivity(model, train_loader, num_images=3, occluder_size=8, stride=4)"
   ]
  },
  {
   "cell_type": "code",
   "execution_count": null,
   "id": "ae7c4b16",
   "metadata": {},
   "outputs": [],
   "source": [
    "plot_occlusion_sensitivity(model, train_loader, num_images=3, occluder_size=4, stride=2)"
   ]
  },
  {
   "attachments": {},
   "cell_type": "markdown",
   "id": "0beaeccf-5200-4c95-8b96-df43c70d0ce6",
   "metadata": {},
   "source": [
    "## Jacobi Regularization"
   ]
  },
  {
   "attachments": {},
   "cell_type": "markdown",
   "id": "b4b636a0",
   "metadata": {},
   "source": [
    "### Training"
   ]
  },
  {
   "cell_type": "code",
   "execution_count": null,
   "id": "d7e1438d",
   "metadata": {},
   "outputs": [],
   "source": [
    "model = LeNet(lr=lr, momentum=momentum, in_channels=in_channels).to(device)\n",
    "n_epochs = 3\n",
    "losses, reg_losses, epochs, weights, train_accuracies, test_accuracies = train(\n",
    "    train_loader, test_loader, model, n_epochs, jacobi_reg=True, jacobi_reg_lmbd=1\n",
    ")"
   ]
  },
  {
   "attachments": {},
   "cell_type": "markdown",
   "id": "1cd378c3",
   "metadata": {},
   "source": [
    "### Visualization"
   ]
  },
  {
   "attachments": {},
   "cell_type": "markdown",
   "id": "f6854c12",
   "metadata": {},
   "source": [
    "#### Plot of Losses and Accuracies"
   ]
  },
  {
   "cell_type": "code",
   "execution_count": null,
   "id": "7eef3c50",
   "metadata": {},
   "outputs": [],
   "source": [
    "plot_reg_results(\n",
    "    epochs,\n",
    "    losses,\n",
    "    reg_losses,\n",
    "    train_accuracies,\n",
    "    test_accuracies,\n",
    "    title=\"Jacobi regularization\",\n",
    ")"
   ]
  },
  {
   "attachments": {},
   "cell_type": "markdown",
   "id": "ea72d593",
   "metadata": {},
   "source": [
    "#### Plot of Weight Distributions"
   ]
  },
  {
   "cell_type": "code",
   "execution_count": null,
   "id": "4f1fe707",
   "metadata": {},
   "outputs": [],
   "source": [
    "plot_weight_distributions(\n",
    "    model, title=\"Weight Distributions with Jacobi Regularization\"\n",
    ")"
   ]
  },
  {
   "attachments": {},
   "cell_type": "markdown",
   "id": "93ffffa1",
   "metadata": {},
   "source": [
    "#### Plots of Activation Maps"
   ]
  },
  {
   "cell_type": "code",
   "execution_count": null,
   "id": "e746abaf",
   "metadata": {},
   "outputs": [],
   "source": [
    "plot_activation_maps(model, train_loader, num_images=1)"
   ]
  },
  {
   "attachments": {},
   "cell_type": "markdown",
   "id": "8f12a960",
   "metadata": {},
   "source": [
    "#### Plot of Predicted Probabilities"
   ]
  },
  {
   "cell_type": "code",
   "execution_count": null,
   "id": "bfdd018b",
   "metadata": {},
   "outputs": [],
   "source": [
    "plot_predicted_probabilities(model, train_loader, num_batches=10)"
   ]
  },
  {
   "cell_type": "code",
   "execution_count": null,
   "id": "24c8187d",
   "metadata": {},
   "outputs": [],
   "source": [
    "plot_predicted_probabilities(model, test_loader, num_batches=10)"
   ]
  },
  {
   "attachments": {},
   "cell_type": "markdown",
   "id": "ca811408",
   "metadata": {},
   "source": [
    "#### Plot of PCA of Activations"
   ]
  },
  {
   "cell_type": "code",
   "execution_count": null,
   "id": "9e40fbd9",
   "metadata": {},
   "outputs": [],
   "source": [
    "plot_activations_pca(model, train_loader, device)"
   ]
  },
  {
   "attachments": {},
   "cell_type": "markdown",
   "id": "999019df",
   "metadata": {},
   "source": [
    "#### Plot of t-SNE of Activations"
   ]
  },
  {
   "cell_type": "code",
   "execution_count": null,
   "id": "0d592add",
   "metadata": {},
   "outputs": [],
   "source": [
    "plot_activations_tsne(model, train_loader, device)"
   ]
  },
  {
   "attachments": {},
   "cell_type": "markdown",
   "id": "dd528b84",
   "metadata": {},
   "source": [
    "#### Plots of Saliency Maps"
   ]
  },
  {
   "cell_type": "code",
   "execution_count": null,
   "id": "60df37b3",
   "metadata": {},
   "outputs": [],
   "source": [
    "plot_saliency_maps(model, train_loader, num_images=9)"
   ]
  },
  {
   "attachments": {},
   "cell_type": "markdown",
   "id": "5e50f466",
   "metadata": {},
   "source": [
    "#### Plots of Occlusion Sensitivity"
   ]
  },
  {
   "cell_type": "code",
   "execution_count": null,
   "id": "376f755f",
   "metadata": {},
   "outputs": [],
   "source": [
    "plot_occlusion_sensitivity(model, train_loader, num_images=3, occluder_size=8, stride=4)"
   ]
  },
  {
   "cell_type": "code",
   "execution_count": null,
   "id": "a83e9109",
   "metadata": {},
   "outputs": [],
   "source": [
    "plot_occlusion_sensitivity(model, train_loader, num_images=3, occluder_size=4, stride=2)"
   ]
  },
  {
   "attachments": {},
   "cell_type": "markdown",
   "id": "6c26bc73",
   "metadata": {},
   "source": [
    "## Jacobi Determinant Regularization"
   ]
  },
  {
   "attachments": {},
   "cell_type": "markdown",
   "id": "c7cb8bb9",
   "metadata": {},
   "source": [
    "### Training"
   ]
  },
  {
   "cell_type": "code",
   "execution_count": null,
   "id": "602d9b46",
   "metadata": {},
   "outputs": [],
   "source": [
    "model = LeNet(lr=lr, momentum=momentum, in_channels=in_channels).to(device)\n",
    "n_epochs = 3\n",
    "losses, reg_losses, epochs, weights, train_accuracies, test_accuracies = train(\n",
    "    train_loader,\n",
    "    test_loader,\n",
    "    model,\n",
    "    n_epochs,\n",
    "    jacobi_det_reg=True,\n",
    "    jacobi_det_reg_lmbd=0.001,\n",
    ")"
   ]
  },
  {
   "attachments": {},
   "cell_type": "markdown",
   "id": "85555700",
   "metadata": {},
   "source": [
    "### Visualization"
   ]
  },
  {
   "attachments": {},
   "cell_type": "markdown",
   "id": "0cdf5bcb",
   "metadata": {},
   "source": [
    "#### Plot of Losses and Accuracies"
   ]
  },
  {
   "cell_type": "code",
   "execution_count": null,
   "id": "e90d56f0",
   "metadata": {},
   "outputs": [],
   "source": [
    "plot_reg_results(\n",
    "    epochs,\n",
    "    losses,\n",
    "    reg_losses,\n",
    "    train_accuracies,\n",
    "    test_accuracies,\n",
    "    title=\"Jacobi Determinant Regularization\",\n",
    ")"
   ]
  },
  {
   "attachments": {},
   "cell_type": "markdown",
   "id": "a7df7701",
   "metadata": {},
   "source": [
    "#### Plot of Weight Distributions"
   ]
  },
  {
   "cell_type": "code",
   "execution_count": null,
   "id": "79b3e16b",
   "metadata": {},
   "outputs": [],
   "source": [
    "plot_weight_distributions(\n",
    "    model, title=\"Weight Distributions with Jacobi Determinant Regularization\"\n",
    ")"
   ]
  },
  {
   "attachments": {},
   "cell_type": "markdown",
   "id": "a7f3e3c6",
   "metadata": {},
   "source": [
    "#### Plots of Activation Maps"
   ]
  },
  {
   "cell_type": "code",
   "execution_count": null,
   "id": "f7bf3df6",
   "metadata": {},
   "outputs": [],
   "source": [
    "plot_activation_maps(model, train_loader, num_images=1)"
   ]
  },
  {
   "attachments": {},
   "cell_type": "markdown",
   "id": "d56116c0",
   "metadata": {},
   "source": [
    "#### Plot of Predicted Probabilities"
   ]
  },
  {
   "cell_type": "code",
   "execution_count": null,
   "id": "0711b66b",
   "metadata": {},
   "outputs": [],
   "source": [
    "plot_predicted_probabilities(model, train_loader, num_batches=10)"
   ]
  },
  {
   "cell_type": "code",
   "execution_count": null,
   "id": "b8fa6d7e",
   "metadata": {},
   "outputs": [],
   "source": [
    "plot_predicted_probabilities(model, test_loader, num_batches=10)"
   ]
  },
  {
   "attachments": {},
   "cell_type": "markdown",
   "id": "2e473f84",
   "metadata": {},
   "source": [
    "#### Plot of PCA of Activations"
   ]
  },
  {
   "cell_type": "code",
   "execution_count": null,
   "id": "22968beb",
   "metadata": {},
   "outputs": [],
   "source": [
    "plot_activations_pca(model, train_loader, device)"
   ]
  },
  {
   "attachments": {},
   "cell_type": "markdown",
   "id": "9a8f9e69",
   "metadata": {},
   "source": [
    "#### Plot of t-SNE of Activations"
   ]
  },
  {
   "cell_type": "code",
   "execution_count": null,
   "id": "a2a31abe",
   "metadata": {},
   "outputs": [],
   "source": [
    "plot_activations_tsne(model, train_loader, device)"
   ]
  },
  {
   "attachments": {},
   "cell_type": "markdown",
   "id": "19639146",
   "metadata": {},
   "source": [
    "#### Plots of Saliency Maps"
   ]
  },
  {
   "cell_type": "code",
   "execution_count": null,
   "id": "ebee2860",
   "metadata": {},
   "outputs": [],
   "source": [
    "plot_saliency_maps(model, train_loader, num_images=9)"
   ]
  },
  {
   "attachments": {},
   "cell_type": "markdown",
   "id": "31bcb6c4",
   "metadata": {},
   "source": [
    "#### Plots of Occlusion Sensitivity"
   ]
  },
  {
   "cell_type": "code",
   "execution_count": null,
   "id": "97de65c4",
   "metadata": {},
   "outputs": [],
   "source": [
    "plot_occlusion_sensitivity(model, train_loader, num_images=3, occluder_size=8, stride=4)"
   ]
  },
  {
   "cell_type": "code",
   "execution_count": null,
   "id": "63acf896",
   "metadata": {},
   "outputs": [],
   "source": [
    "plot_occlusion_sensitivity(model, train_loader, num_images=3, occluder_size=4, stride=2)"
   ]
  },
  {
   "attachments": {},
   "cell_type": "markdown",
   "id": "dcf237f6-c8cf-47a4-b499-d8a4c8c90adf",
   "metadata": {},
   "source": [
    "## Dropout Regularization"
   ]
  },
  {
   "attachments": {},
   "cell_type": "markdown",
   "id": "4655137a",
   "metadata": {},
   "source": [
    "### Training"
   ]
  },
  {
   "cell_type": "code",
   "execution_count": null,
   "id": "d8f8542e-1ddd-440c-baf2-f7ca746c5329",
   "metadata": {},
   "outputs": [],
   "source": [
    "model = LeNet(lr=lr, momentum=momentum, in_channels=in_channels, dropout_rate=0.2).to(\n",
    "    device\n",
    ")\n",
    "n_epochs = 5\n",
    "losses, reg_losses, epochs, weights, train_accuracies, test_accuracies = train(\n",
    "    train_loader, test_loader, model, n_epochs\n",
    ")"
   ]
  },
  {
   "attachments": {},
   "cell_type": "markdown",
   "id": "b1fe9f76",
   "metadata": {},
   "source": [
    "### Visualization"
   ]
  },
  {
   "attachments": {},
   "cell_type": "markdown",
   "id": "042cab3e",
   "metadata": {},
   "source": [
    "#### Plot of Losses and Accuracies"
   ]
  },
  {
   "cell_type": "code",
   "execution_count": null,
   "id": "d3fe1343-a6de-4209-94b0-28c303300553",
   "metadata": {},
   "outputs": [],
   "source": [
    "plot_results(\n",
    "    epochs, losses, train_accuracies, test_accuracies, title=\"Dropout Regularization\"\n",
    ")"
   ]
  },
  {
   "attachments": {},
   "cell_type": "markdown",
   "id": "e69e22e3",
   "metadata": {},
   "source": [
    "#### Plot of Weight Distributions"
   ]
  },
  {
   "cell_type": "code",
   "execution_count": null,
   "id": "f30a6616",
   "metadata": {},
   "outputs": [],
   "source": [
    "plot_weight_distributions(\n",
    "    model, title=\"Weight Distributions with Dropout Regularization\"\n",
    ")"
   ]
  },
  {
   "attachments": {},
   "cell_type": "markdown",
   "id": "a80c1fcc",
   "metadata": {},
   "source": [
    "#### Plots of Activation Maps"
   ]
  },
  {
   "cell_type": "code",
   "execution_count": null,
   "id": "781629cf",
   "metadata": {},
   "outputs": [],
   "source": [
    "plot_activation_maps(model, train_loader, num_images=1)"
   ]
  },
  {
   "attachments": {},
   "cell_type": "markdown",
   "id": "0e99df92",
   "metadata": {},
   "source": [
    "#### Plot of Predicted Probabilities"
   ]
  },
  {
   "cell_type": "code",
   "execution_count": null,
   "id": "ad18aa11",
   "metadata": {},
   "outputs": [],
   "source": [
    "plot_predicted_probabilities(model, train_loader, num_batches=10)"
   ]
  },
  {
   "cell_type": "code",
   "execution_count": null,
   "id": "b701c306",
   "metadata": {},
   "outputs": [],
   "source": [
    "plot_predicted_probabilities(model, test_loader, num_batches=10)"
   ]
  },
  {
   "attachments": {},
   "cell_type": "markdown",
   "id": "bc9f9e12",
   "metadata": {},
   "source": [
    "#### Plot of PCA of Activations"
   ]
  },
  {
   "cell_type": "code",
   "execution_count": null,
   "id": "471c7dc1",
   "metadata": {},
   "outputs": [],
   "source": [
    "plot_activations_pca(model, train_loader, device)"
   ]
  },
  {
   "attachments": {},
   "cell_type": "markdown",
   "id": "1871313c",
   "metadata": {},
   "source": [
    "#### Plot of t-SNE of Activations"
   ]
  },
  {
   "cell_type": "code",
   "execution_count": null,
   "id": "eb84c01b",
   "metadata": {},
   "outputs": [],
   "source": [
    "plot_activations_tsne(model, train_loader, device)"
   ]
  },
  {
   "attachments": {},
   "cell_type": "markdown",
   "id": "ee483940",
   "metadata": {},
   "source": [
    "#### Plots of Saliency Maps"
   ]
  },
  {
   "cell_type": "code",
   "execution_count": null,
   "id": "3580676a",
   "metadata": {},
   "outputs": [],
   "source": [
    "plot_saliency_maps(model, train_loader, num_images=9)"
   ]
  },
  {
   "attachments": {},
   "cell_type": "markdown",
   "id": "3ab1b2f5",
   "metadata": {},
   "source": [
    "#### Plots of Occlusion Sensitivity"
   ]
  },
  {
   "cell_type": "code",
   "execution_count": null,
   "id": "ebb8cdee",
   "metadata": {},
   "outputs": [],
   "source": [
    "plot_occlusion_sensitivity(model, train_loader, num_images=3, occluder_size=8, stride=4)"
   ]
  },
  {
   "cell_type": "code",
   "execution_count": null,
   "id": "d6c577ee",
   "metadata": {},
   "outputs": [],
   "source": [
    "plot_occlusion_sensitivity(model, train_loader, num_images=3, occluder_size=4, stride=2)"
   ]
  },
  {
   "attachments": {},
   "cell_type": "markdown",
   "id": "a243745a-0c4a-4353-9200-a5e7ec096383",
   "metadata": {},
   "source": [
    "## Confidence Penalty Regularization"
   ]
  },
  {
   "attachments": {},
   "cell_type": "markdown",
   "id": "90c7eb1f",
   "metadata": {},
   "source": [
    "### Training"
   ]
  },
  {
   "cell_type": "code",
   "execution_count": null,
   "id": "0a1d5e1f-ea0c-4ab4-8bc1-dfa54259bd89",
   "metadata": {},
   "outputs": [],
   "source": [
    "model = LeNet(lr=lr, momentum=momentum, in_channels=in_channels).to(device)\n",
    "n_epochs = 3\n",
    "losses, reg_losses, epochs, weights, train_accuracies, test_accuracies = train(\n",
    "    train_loader,\n",
    "    test_loader,\n",
    "    model,\n",
    "    n_epochs,\n",
    "    conf_penalty=True,\n",
    "    conf_penalty_lmbd=0.03,\n",
    ")"
   ]
  },
  {
   "attachments": {},
   "cell_type": "markdown",
   "id": "216186d1",
   "metadata": {},
   "source": [
    "### Visualization"
   ]
  },
  {
   "attachments": {},
   "cell_type": "markdown",
   "id": "166597eb",
   "metadata": {},
   "source": [
    "#### Plot of Losses and Accuracies"
   ]
  },
  {
   "cell_type": "code",
   "execution_count": null,
   "id": "716bdafd-e3c2-42ba-aa09-233a04906751",
   "metadata": {},
   "outputs": [],
   "source": [
    "plot_reg_results(\n",
    "    epochs,\n",
    "    losses,\n",
    "    reg_losses,\n",
    "    train_accuracies,\n",
    "    test_accuracies,\n",
    "    title=\"Confidence Penalty Regularization\",\n",
    ")"
   ]
  },
  {
   "attachments": {},
   "cell_type": "markdown",
   "id": "02a60fee",
   "metadata": {},
   "source": [
    "#### Plot of Weight Distributions"
   ]
  },
  {
   "cell_type": "code",
   "execution_count": null,
   "id": "fb4c78e6",
   "metadata": {},
   "outputs": [],
   "source": [
    "plot_weight_distributions(\n",
    "    model, title=\"Weight Distributions with Confidence Penalty Regularization\"\n",
    ")"
   ]
  },
  {
   "attachments": {},
   "cell_type": "markdown",
   "id": "c44b733a",
   "metadata": {},
   "source": [
    "#### Plots of Activation Maps"
   ]
  },
  {
   "cell_type": "code",
   "execution_count": null,
   "id": "785d02bf",
   "metadata": {},
   "outputs": [],
   "source": [
    "plot_activation_maps(model, train_loader, num_images=1)"
   ]
  },
  {
   "attachments": {},
   "cell_type": "markdown",
   "id": "ff3d518c",
   "metadata": {},
   "source": [
    "#### Plot of Predicted Probabilities"
   ]
  },
  {
   "cell_type": "code",
   "execution_count": null,
   "id": "ded22981",
   "metadata": {},
   "outputs": [],
   "source": [
    "plot_predicted_probabilities(model, train_loader, num_batches=10)"
   ]
  },
  {
   "cell_type": "code",
   "execution_count": null,
   "id": "25a72acd",
   "metadata": {},
   "outputs": [],
   "source": [
    "plot_predicted_probabilities(model, test_loader, num_batches=10)"
   ]
  },
  {
   "attachments": {},
   "cell_type": "markdown",
   "id": "565ff19e",
   "metadata": {},
   "source": [
    "#### Plot of PCA of Activations"
   ]
  },
  {
   "cell_type": "code",
   "execution_count": null,
   "id": "1d71488b",
   "metadata": {},
   "outputs": [],
   "source": [
    "plot_activations_pca(model, train_loader, device)"
   ]
  },
  {
   "attachments": {},
   "cell_type": "markdown",
   "id": "63a2c466",
   "metadata": {},
   "source": [
    "#### Plot of t-SNE of Activations"
   ]
  },
  {
   "cell_type": "code",
   "execution_count": null,
   "id": "7716ff12",
   "metadata": {},
   "outputs": [],
   "source": [
    "plot_activations_tsne(model, train_loader, device)"
   ]
  },
  {
   "attachments": {},
   "cell_type": "markdown",
   "id": "3feafaa5",
   "metadata": {},
   "source": [
    "#### Plots of Saliency Maps"
   ]
  },
  {
   "cell_type": "code",
   "execution_count": null,
   "id": "72019dd2",
   "metadata": {},
   "outputs": [],
   "source": [
    "plot_saliency_maps(model, train_loader, num_images=9)"
   ]
  },
  {
   "attachments": {},
   "cell_type": "markdown",
   "id": "a6ec38f5",
   "metadata": {},
   "source": [
    "#### Plots of Occlusion Sensitivity"
   ]
  },
  {
   "cell_type": "code",
   "execution_count": null,
   "id": "6275f644",
   "metadata": {},
   "outputs": [],
   "source": [
    "plot_occlusion_sensitivity(model, train_loader, num_images=3, occluder_size=8, stride=4)"
   ]
  },
  {
   "cell_type": "code",
   "execution_count": null,
   "id": "367f4bab",
   "metadata": {},
   "outputs": [],
   "source": [
    "plot_occlusion_sensitivity(model, train_loader, num_images=3, occluder_size=4, stride=2)"
   ]
  },
  {
   "attachments": {},
   "cell_type": "markdown",
   "id": "515cd5c0-d093-43fb-88be-04818c5e613e",
   "metadata": {},
   "source": [
    "## Label Smoothing Regularization"
   ]
  },
  {
   "attachments": {},
   "cell_type": "markdown",
   "id": "c426a948",
   "metadata": {},
   "source": [
    "### Training"
   ]
  },
  {
   "cell_type": "code",
   "execution_count": null,
   "id": "d259e2ac-05c8-4520-9cb1-6486169c5333",
   "metadata": {},
   "outputs": [],
   "source": [
    "model = LeNet(lr=lr, momentum=momentum, in_channels=in_channels).to(device)\n",
    "n_epochs = 3\n",
    "losses, reg_losses, epochs, weights, train_accuracies, test_accuracies = train(\n",
    "    train_loader,\n",
    "    test_loader,\n",
    "    model,\n",
    "    n_epochs,\n",
    "    label_smoothing=True,\n",
    "    label_smoothing_lmbd=0.000001,\n",
    ")"
   ]
  },
  {
   "attachments": {},
   "cell_type": "markdown",
   "id": "be285fc8",
   "metadata": {},
   "source": [
    "### Visualization"
   ]
  },
  {
   "attachments": {},
   "cell_type": "markdown",
   "id": "5d5e8213",
   "metadata": {},
   "source": [
    "#### Plot of Losses and Accuracies"
   ]
  },
  {
   "cell_type": "code",
   "execution_count": null,
   "id": "15395c13-463f-4a88-a524-bf57c954d545",
   "metadata": {},
   "outputs": [],
   "source": [
    "plot_results(\n",
    "    epochs,\n",
    "    losses,\n",
    "    train_accuracies,\n",
    "    test_accuracies,\n",
    "    title=\"Label Smoothing Regularization\",\n",
    ")"
   ]
  },
  {
   "attachments": {},
   "cell_type": "markdown",
   "id": "5cf5dc67",
   "metadata": {},
   "source": [
    "#### Plot of Weight Distributions"
   ]
  },
  {
   "cell_type": "code",
   "execution_count": null,
   "id": "b47c08ca",
   "metadata": {},
   "outputs": [],
   "source": [
    "plot_weight_distributions(\n",
    "    model, title=\"Weight Distributions with Label Smoothing Regularization\"\n",
    ")"
   ]
  },
  {
   "attachments": {},
   "cell_type": "markdown",
   "id": "2e3b9ddc",
   "metadata": {},
   "source": [
    "#### Plots of Activation Maps"
   ]
  },
  {
   "cell_type": "code",
   "execution_count": null,
   "id": "85dccc87",
   "metadata": {},
   "outputs": [],
   "source": [
    "plot_activation_maps(model, train_loader, num_images=1)"
   ]
  },
  {
   "attachments": {},
   "cell_type": "markdown",
   "id": "1a36cce5",
   "metadata": {},
   "source": [
    "#### Plot of Predicted Probabilities"
   ]
  },
  {
   "cell_type": "code",
   "execution_count": null,
   "id": "a1091182",
   "metadata": {},
   "outputs": [],
   "source": [
    "plot_predicted_probabilities(model, train_loader, num_batches=10)"
   ]
  },
  {
   "cell_type": "code",
   "execution_count": null,
   "id": "ba93ab42",
   "metadata": {},
   "outputs": [],
   "source": [
    "plot_predicted_probabilities(model, test_loader, num_batches=10)"
   ]
  },
  {
   "attachments": {},
   "cell_type": "markdown",
   "id": "55dd2f71",
   "metadata": {},
   "source": [
    "#### Plot of PCA of Activations"
   ]
  },
  {
   "cell_type": "code",
   "execution_count": null,
   "id": "eb57ce6e",
   "metadata": {},
   "outputs": [],
   "source": [
    "plot_activations_pca(model, train_loader, device)"
   ]
  },
  {
   "attachments": {},
   "cell_type": "markdown",
   "id": "358638f9",
   "metadata": {},
   "source": [
    "#### Plot of t-SNE of Activations"
   ]
  },
  {
   "cell_type": "code",
   "execution_count": null,
   "id": "1f4d1264",
   "metadata": {},
   "outputs": [],
   "source": [
    "plot_activations_tsne(model, train_loader, device)"
   ]
  },
  {
   "attachments": {},
   "cell_type": "markdown",
   "id": "24294392",
   "metadata": {},
   "source": [
    "#### Plots of Saliency Maps"
   ]
  },
  {
   "cell_type": "code",
   "execution_count": null,
   "id": "d08d1879",
   "metadata": {},
   "outputs": [],
   "source": [
    "plot_saliency_maps(model, train_loader, num_images=9)"
   ]
  },
  {
   "attachments": {},
   "cell_type": "markdown",
   "id": "8ab480d1",
   "metadata": {},
   "source": [
    "#### Plots of Occlusion Sensitivity"
   ]
  },
  {
   "cell_type": "code",
   "execution_count": null,
   "id": "42f300dc",
   "metadata": {},
   "outputs": [],
   "source": [
    "plot_occlusion_sensitivity(model, train_loader, num_images=3, occluder_size=8, stride=4)"
   ]
  },
  {
   "cell_type": "code",
   "execution_count": null,
   "id": "a540ec1d",
   "metadata": {},
   "outputs": [],
   "source": [
    "plot_occlusion_sensitivity(model, train_loader, num_images=3, occluder_size=4, stride=2)"
   ]
  },
  {
   "attachments": {},
   "cell_type": "markdown",
   "id": "6fd5df70",
   "metadata": {},
   "source": [
    "## Noise Injection (to inputs)"
   ]
  },
  {
   "attachments": {},
   "cell_type": "markdown",
   "id": "ff4de2d7",
   "metadata": {},
   "source": [
    "### Training"
   ]
  },
  {
   "cell_type": "code",
   "execution_count": null,
   "id": "a2b1d2cd",
   "metadata": {},
   "outputs": [],
   "source": [
    "model = LeNet(\n",
    "    lr=lr,\n",
    "    momentum=momentum,\n",
    "    in_channels=in_channels,\n",
    "    noise_inject_input=True,\n",
    "    noise_stddev=0.05,\n",
    ").to(device)\n",
    "n_epochs = 5\n",
    "losses, reg_losses, epochs, weights, train_accuracies, test_accuracies = train(\n",
    "    train_loader, test_loader, model, n_epochs\n",
    ")"
   ]
  },
  {
   "attachments": {},
   "cell_type": "markdown",
   "id": "13f79798",
   "metadata": {},
   "source": [
    "### Visualization"
   ]
  },
  {
   "attachments": {},
   "cell_type": "markdown",
   "id": "f4ae0924",
   "metadata": {},
   "source": [
    "#### Plot of Losses and Accuracies"
   ]
  },
  {
   "cell_type": "code",
   "execution_count": null,
   "id": "ae168327",
   "metadata": {},
   "outputs": [],
   "source": [
    "plot_results(\n",
    "    epochs,\n",
    "    losses,\n",
    "    train_accuracies,\n",
    "    test_accuracies,\n",
    "    title=\"Noise Injection (to inputs)\",\n",
    ")"
   ]
  },
  {
   "attachments": {},
   "cell_type": "markdown",
   "id": "d5f3ec25",
   "metadata": {},
   "source": [
    "#### Plot of Weight Distributions"
   ]
  },
  {
   "cell_type": "code",
   "execution_count": null,
   "id": "57cba943",
   "metadata": {},
   "outputs": [],
   "source": [
    "plot_weight_distributions(\n",
    "    model, title=\"Weight Distributions with Noise Injection (to inputs) Regularization\"\n",
    ")"
   ]
  },
  {
   "attachments": {},
   "cell_type": "markdown",
   "id": "7facd37d",
   "metadata": {},
   "source": [
    "#### Plots of Activation Maps"
   ]
  },
  {
   "cell_type": "code",
   "execution_count": null,
   "id": "e273de18",
   "metadata": {},
   "outputs": [],
   "source": [
    "plot_activation_maps(model, train_loader, num_images=1)"
   ]
  },
  {
   "attachments": {},
   "cell_type": "markdown",
   "id": "0049101b",
   "metadata": {},
   "source": [
    "#### Plot of Predicted Probabilities"
   ]
  },
  {
   "cell_type": "code",
   "execution_count": null,
   "id": "28cc4ffc",
   "metadata": {},
   "outputs": [],
   "source": [
    "plot_predicted_probabilities(model, train_loader, num_batches=10)"
   ]
  },
  {
   "cell_type": "code",
   "execution_count": null,
   "id": "f232890f",
   "metadata": {},
   "outputs": [],
   "source": [
    "plot_predicted_probabilities(model, test_loader, num_batches=10)"
   ]
  },
  {
   "attachments": {},
   "cell_type": "markdown",
   "id": "b640fc64",
   "metadata": {},
   "source": [
    "#### Plot of PCA of Activations"
   ]
  },
  {
   "cell_type": "code",
   "execution_count": null,
   "id": "bb9c1c1c",
   "metadata": {},
   "outputs": [],
   "source": [
    "plot_activations_pca(model, train_loader, device)"
   ]
  },
  {
   "attachments": {},
   "cell_type": "markdown",
   "id": "e8377d20",
   "metadata": {},
   "source": [
    "#### Plot of t-SNE of Activations"
   ]
  },
  {
   "cell_type": "code",
   "execution_count": null,
   "id": "06d17cf3",
   "metadata": {},
   "outputs": [],
   "source": [
    "plot_activations_tsne(model, train_loader, device)"
   ]
  },
  {
   "attachments": {},
   "cell_type": "markdown",
   "id": "775b787e",
   "metadata": {},
   "source": [
    "#### Plots of Saliency Maps"
   ]
  },
  {
   "cell_type": "code",
   "execution_count": null,
   "id": "70d77789",
   "metadata": {},
   "outputs": [],
   "source": [
    "plot_saliency_maps(model, train_loader, num_images=9)"
   ]
  },
  {
   "attachments": {},
   "cell_type": "markdown",
   "id": "2c8f695b",
   "metadata": {},
   "source": [
    "#### Plots of Occlusion Sensitivity"
   ]
  },
  {
   "cell_type": "code",
   "execution_count": null,
   "id": "c894d90f",
   "metadata": {},
   "outputs": [],
   "source": [
    "plot_occlusion_sensitivity(model, train_loader, num_images=3, occluder_size=8, stride=4)"
   ]
  },
  {
   "cell_type": "code",
   "execution_count": null,
   "id": "67d5659e",
   "metadata": {},
   "outputs": [],
   "source": [
    "plot_occlusion_sensitivity(model, train_loader, num_images=3, occluder_size=4, stride=2)"
   ]
  },
  {
   "attachments": {},
   "cell_type": "markdown",
   "id": "a0538072",
   "metadata": {},
   "source": [
    "## Noise Injection (to weights of first convolutional layer)"
   ]
  },
  {
   "attachments": {},
   "cell_type": "markdown",
   "id": "60ea4283",
   "metadata": {},
   "source": [
    "### Training"
   ]
  },
  {
   "cell_type": "code",
   "execution_count": null,
   "id": "734aff64",
   "metadata": {},
   "outputs": [],
   "source": [
    "model = LeNet(\n",
    "    lr=lr,\n",
    "    momentum=momentum,\n",
    "    in_channels=in_channels,\n",
    "    noise_inject_weights=True,\n",
    "    noise_stddev=0.03,\n",
    ").to(device)\n",
    "n_epochs = 5\n",
    "losses, reg_losses, epochs, weights, train_accuracies, test_accuracies = train(\n",
    "    train_loader, test_loader, model, n_epochs\n",
    ")"
   ]
  },
  {
   "attachments": {},
   "cell_type": "markdown",
   "id": "2e0f1cde",
   "metadata": {},
   "source": [
    "### Visualization"
   ]
  },
  {
   "attachments": {},
   "cell_type": "markdown",
   "id": "1656d562",
   "metadata": {},
   "source": [
    "#### Plot of Losses and Accuracies"
   ]
  },
  {
   "cell_type": "code",
   "execution_count": null,
   "id": "54a431b5",
   "metadata": {},
   "outputs": [],
   "source": [
    "plot_results(\n",
    "    epochs,\n",
    "    losses,\n",
    "    train_accuracies,\n",
    "    test_accuracies,\n",
    "    title=\"Noise Injection (to weights of first conv layer)\",\n",
    ")"
   ]
  },
  {
   "attachments": {},
   "cell_type": "markdown",
   "id": "a7e41e28",
   "metadata": {},
   "source": [
    "#### Plot of Weight Distributions"
   ]
  },
  {
   "cell_type": "code",
   "execution_count": null,
   "id": "e15f6655",
   "metadata": {},
   "outputs": [],
   "source": [
    "plot_weight_distributions(\n",
    "    model, title=\"Weight Distributions with Noise Injection (to weights) Regularization\"\n",
    ")"
   ]
  },
  {
   "attachments": {},
   "cell_type": "markdown",
   "id": "8e6dfeab",
   "metadata": {},
   "source": [
    "#### Plots of Activation Maps"
   ]
  },
  {
   "cell_type": "code",
   "execution_count": null,
   "id": "15b58b63",
   "metadata": {},
   "outputs": [],
   "source": [
    "plot_activation_maps(model, train_loader, num_images=1)"
   ]
  },
  {
   "attachments": {},
   "cell_type": "markdown",
   "id": "d1876527",
   "metadata": {},
   "source": [
    "#### Plot of Predicted Probabilities"
   ]
  },
  {
   "cell_type": "code",
   "execution_count": null,
   "id": "5f39d635",
   "metadata": {},
   "outputs": [],
   "source": [
    "plot_predicted_probabilities(model, train_loader, num_batches=10)"
   ]
  },
  {
   "cell_type": "code",
   "execution_count": null,
   "id": "9270ce3c",
   "metadata": {},
   "outputs": [],
   "source": [
    "plot_predicted_probabilities(model, test_loader, num_batches=10)"
   ]
  },
  {
   "attachments": {},
   "cell_type": "markdown",
   "id": "89c77c83",
   "metadata": {},
   "source": [
    "#### Plot of PCA of Activations"
   ]
  },
  {
   "cell_type": "code",
   "execution_count": null,
   "id": "d50fe6d0",
   "metadata": {},
   "outputs": [],
   "source": [
    "plot_activations_pca(model, train_loader, device)"
   ]
  },
  {
   "attachments": {},
   "cell_type": "markdown",
   "id": "5a6aad5b",
   "metadata": {},
   "source": [
    "#### Plot of t-SNE of Activations"
   ]
  },
  {
   "cell_type": "code",
   "execution_count": null,
   "id": "72fc00b0",
   "metadata": {},
   "outputs": [],
   "source": [
    "plot_activations_tsne(model, train_loader, device)"
   ]
  },
  {
   "attachments": {},
   "cell_type": "markdown",
   "id": "01557c36",
   "metadata": {},
   "source": [
    "#### Plots of Saliency Maps"
   ]
  },
  {
   "cell_type": "code",
   "execution_count": null,
   "id": "991176b3",
   "metadata": {},
   "outputs": [],
   "source": [
    "plot_saliency_maps(model, train_loader, num_images=9)"
   ]
  },
  {
   "attachments": {},
   "cell_type": "markdown",
   "id": "63574781",
   "metadata": {},
   "source": [
    "#### Plots of Occlusion Sensitivity"
   ]
  },
  {
   "cell_type": "code",
   "execution_count": null,
   "id": "825f6b62",
   "metadata": {},
   "outputs": [],
   "source": [
    "plot_occlusion_sensitivity(model, train_loader, num_images=3, occluder_size=8, stride=4)"
   ]
  },
  {
   "cell_type": "code",
   "execution_count": null,
   "id": "f557f7ca",
   "metadata": {},
   "outputs": [],
   "source": [
    "plot_occlusion_sensitivity(model, train_loader, num_images=3, occluder_size=4, stride=2)"
   ]
  },
  {
   "attachments": {},
   "cell_type": "markdown",
   "id": "6c728cfc",
   "metadata": {},
   "source": []
  },
  {
   "attachments": {},
   "cell_type": "markdown",
   "id": "b4b39f21",
   "metadata": {},
   "source": [
    "###"
   ]
  }
 ],
 "metadata": {
  "kernelspec": {
   "display_name": "Python 3 (ipykernel)",
   "language": "python",
   "name": "python3"
  },
  "language_info": {
   "codemirror_mode": {
    "name": "ipython",
    "version": 3
   },
   "file_extension": ".py",
   "mimetype": "text/x-python",
   "name": "python",
   "nbconvert_exporter": "python",
   "pygments_lexer": "ipython3",
   "version": "3.11.4"
  }
 },
 "nbformat": 4,
 "nbformat_minor": 5
}
