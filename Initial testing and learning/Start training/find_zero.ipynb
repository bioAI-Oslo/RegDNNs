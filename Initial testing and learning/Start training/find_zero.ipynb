{
 "cells": [
  {
   "cell_type": "code",
   "execution_count": 1,
   "id": "506e706e-834d-487a-8f72-13b796d57219",
   "metadata": {},
   "outputs": [
    {
     "name": "stderr",
     "output_type": "stream",
     "text": [
      "100%|██████████| 100/100 [00:00<00:00, 1847.61it/s]"
     ]
    },
    {
     "name": "stdout",
     "output_type": "stream",
     "text": [
      "tensor(4.)\n",
      "tensor(3.9200)\n",
      "tensor(3.8416)\n",
      "tensor(3.7648)\n",
      "tensor(3.6895)\n",
      "tensor(3.6157)\n",
      "tensor(3.5434)\n",
      "tensor(3.4725)\n",
      "tensor(3.4031)\n",
      "tensor(3.3350)\n",
      "tensor(3.2683)\n",
      "tensor(3.2029)\n",
      "tensor(3.1389)\n",
      "tensor(3.0761)\n",
      "tensor(3.0146)\n",
      "tensor(2.9543)\n",
      "tensor(2.8952)\n",
      "tensor(2.8373)\n",
      "tensor(2.7805)\n",
      "tensor(2.7249)\n",
      "tensor(2.6704)\n",
      "tensor(2.6170)\n",
      "tensor(2.5647)\n",
      "tensor(2.5134)\n",
      "tensor(2.4631)\n",
      "tensor(2.4139)\n",
      "tensor(2.3656)\n",
      "tensor(2.3183)\n",
      "tensor(2.2719)\n",
      "tensor(2.2265)\n",
      "tensor(2.1819)\n",
      "tensor(2.1383)\n",
      "tensor(2.0955)\n",
      "tensor(2.0536)\n",
      "tensor(2.0125)\n",
      "tensor(1.9723)\n",
      "tensor(1.9329)\n",
      "tensor(1.8942)\n",
      "tensor(1.8563)\n",
      "tensor(1.8192)\n",
      "tensor(1.7828)\n",
      "tensor(1.7471)\n",
      "tensor(1.7122)\n",
      "tensor(1.6780)\n",
      "tensor(1.6444)\n",
      "tensor(1.6115)\n",
      "tensor(1.5793)\n",
      "tensor(1.5477)\n",
      "tensor(1.5167)\n",
      "tensor(1.4864)\n",
      "tensor(1.4567)\n",
      "tensor(1.4275)\n",
      "tensor(1.3990)\n",
      "tensor(1.3710)\n",
      "tensor(1.3436)\n",
      "tensor(1.3167)\n",
      "tensor(1.2904)\n",
      "tensor(1.2646)\n",
      "tensor(1.2393)\n",
      "tensor(1.2145)\n",
      "tensor(1.1902)\n",
      "tensor(1.1664)\n",
      "tensor(1.1431)\n",
      "tensor(1.1202)\n",
      "tensor(1.0978)\n",
      "tensor(1.0759)\n",
      "tensor(1.0543)\n",
      "tensor(1.0333)\n",
      "tensor(1.0126)\n",
      "tensor(0.9923)\n",
      "tensor(0.9725)\n",
      "tensor(0.9530)\n",
      "tensor(0.9340)\n",
      "tensor(0.9153)\n",
      "tensor(0.8970)\n",
      "tensor(0.8791)\n",
      "tensor(0.8615)\n",
      "tensor(0.8442)\n",
      "tensor(0.8274)\n",
      "tensor(0.8108)\n",
      "tensor(0.7946)\n",
      "tensor(0.7787)\n",
      "tensor(0.7631)\n",
      "tensor(0.7479)\n",
      "tensor(0.7329)\n",
      "tensor(0.7183)\n",
      "tensor(0.7039)\n",
      "tensor(0.6898)\n",
      "tensor(0.6760)\n",
      "tensor(0.6625)\n",
      "tensor(0.6492)\n",
      "tensor(0.6363)\n",
      "tensor(0.6235)\n",
      "tensor(0.6111)\n",
      "tensor(0.5988)\n",
      "tensor(0.5869)\n",
      "tensor(0.5751)\n",
      "tensor(0.5636)\n",
      "tensor(0.5524)\n",
      "tensor(0.5413)\n"
     ]
    },
    {
     "name": "stderr",
     "output_type": "stream",
     "text": [
      "\n"
     ]
    }
   ],
   "source": [
    "import torch\n",
    "import matplotlib.pyplot as plt\n",
    "from tqdm import tqdm\n",
    "import numpy as np\n",
    "\n",
    "def f(x):\n",
    "    return x**2\n",
    "\n",
    "x_old = torch.tensor(2., requires_grad = True)\n",
    "N = 100\n",
    "lr = 0.01\n",
    "history = np.zeros(N)\n",
    "\n",
    "for i in tqdm(range(N)):\n",
    "    y = f(x_old)\n",
    "    y.backward()\n",
    "    history[i] = x_old.grad.item()\n",
    "    x_new = x_old - lr * x_old.grad\n",
    "    print(x_old.grad)\n",
    "    x_old = torch.tensor(x_new.item(), requires_grad = True)\n",
    "    \n",
    "\n",
    "#lin = np.linspace(-5, 5, 1000)\n",
    "#plt.plot(history, f(history), label = \"Model\")\n",
    "#plt.plot(lin, f(lin), label = \"Exact\")\n",
    "#plt.show()\n",
    "\n",
    "#for i in tqdm(range(N)):\n",
    "    #y = f(x)\n",
    "    #y.backward()\n",
    "    #x_copy = x.grad.item()\n",
    "    #history.append()\n",
    "    #print(x.grad)\n",
    "    #x = x - lr *x.grad\n",
    "\n",
    "    "
   ]
  },
  {
   "cell_type": "code",
   "execution_count": 2,
   "id": "ffccba48-bb6e-4fa3-9db6-43057266220a",
   "metadata": {},
   "outputs": [],
   "source": [
    "def f(x):\n",
    "    return x**2"
   ]
  },
  {
   "cell_type": "code",
   "execution_count": 3,
   "id": "809e736f-dba0-464d-bb1a-9214a93c5e99",
   "metadata": {},
   "outputs": [],
   "source": [
    "x = torch.tensor(3., requires_grad = True)"
   ]
  },
  {
   "cell_type": "code",
   "execution_count": 4,
   "id": "11a71098-a042-4088-9bf3-736e8e330224",
   "metadata": {},
   "outputs": [],
   "source": [
    "y = f(x)"
   ]
  },
  {
   "cell_type": "code",
   "execution_count": 5,
   "id": "96ff50bb-37f2-4f0a-b089-cc22c16935fa",
   "metadata": {},
   "outputs": [],
   "source": [
    "y.backward()"
   ]
  },
  {
   "cell_type": "code",
   "execution_count": 6,
   "id": "ddf271af-f187-4535-98a9-eefd1447de14",
   "metadata": {},
   "outputs": [
    {
     "data": {
      "text/plain": [
       "tensor(6.)"
      ]
     },
     "execution_count": 6,
     "metadata": {},
     "output_type": "execute_result"
    }
   ],
   "source": [
    "grads = x.grad\n",
    "grads"
   ]
  },
  {
   "cell_type": "code",
   "execution_count": 7,
   "id": "63ec584a-a7f6-45f4-9efc-dcade35086d3",
   "metadata": {},
   "outputs": [
    {
     "data": {
      "text/plain": [
       "tensor(3., requires_grad=True)"
      ]
     },
     "execution_count": 7,
     "metadata": {},
     "output_type": "execute_result"
    }
   ],
   "source": [
    "x"
   ]
  },
  {
   "cell_type": "code",
   "execution_count": 9,
   "id": "c00ae649-9aee-40e9-b354-7b114f3f7517",
   "metadata": {},
   "outputs": [],
   "source": [
    "#x.zero_grad()"
   ]
  },
  {
   "cell_type": "code",
   "execution_count": 12,
   "id": "0fb117a9-3fec-427f-875f-6b70d31c8623",
   "metadata": {},
   "outputs": [
    {
     "name": "stdout",
     "output_type": "stream",
     "text": [
      "tensor(3.)\n"
     ]
    }
   ],
   "source": [
    "# Creating the graph\n",
    "x = torch.tensor(1.0, requires_grad = True)\n",
    "z = x ** 3\n",
    "z.backward() #Computes the gradient \n",
    "print(x.grad) #Prints '3' which is dz/dx "
   ]
  },
  {
   "cell_type": "code",
   "execution_count": 13,
   "id": "398e5b29-f127-441f-ba10-88e1002690dc",
   "metadata": {},
   "outputs": [],
   "source": [
    "f = lambda x: x**2"
   ]
  },
  {
   "cell_type": "code",
   "execution_count": 14,
   "id": "4fa7ad97-aece-429d-91b3-78539f312d14",
   "metadata": {},
   "outputs": [
    {
     "data": {
      "text/plain": [
       "tensor(6.)"
      ]
     },
     "execution_count": 14,
     "metadata": {},
     "output_type": "execute_result"
    }
   ],
   "source": [
    "x = torch.tensor(3., requires_grad = True)\n",
    "z = x**2\n",
    "z.backward()\n",
    "x.grad"
   ]
  },
  {
   "cell_type": "code",
   "execution_count": 15,
   "id": "bb315fd6-9b42-4499-addf-2c3d21f9c59b",
   "metadata": {},
   "outputs": [],
   "source": [
    "loss = f(x)"
   ]
  },
  {
   "cell_type": "code",
   "execution_count": 16,
   "id": "9becaa00-311a-4ce4-8f5c-68c8a40fb441",
   "metadata": {},
   "outputs": [
    {
     "data": {
      "text/plain": [
       "tensor(9., grad_fn=<PowBackward0>)"
      ]
     },
     "execution_count": 16,
     "metadata": {},
     "output_type": "execute_result"
    }
   ],
   "source": [
    "loss"
   ]
  },
  {
   "cell_type": "code",
   "execution_count": 17,
   "id": "3c08d662-8b68-43a0-a0ec-c1299f135091",
   "metadata": {},
   "outputs": [
    {
     "data": {
      "text/plain": [
       "tensor(12.)"
      ]
     },
     "execution_count": 17,
     "metadata": {},
     "output_type": "execute_result"
    }
   ],
   "source": [
    "loss.backward()\n",
    "x.grad"
   ]
  },
  {
   "cell_type": "code",
   "execution_count": 18,
   "id": "02ac9069-6981-4152-a488-3130c4c8b498",
   "metadata": {},
   "outputs": [
    {
     "ename": "AttributeError",
     "evalue": "'function' object has no attribute 'backward'",
     "output_type": "error",
     "traceback": [
      "\u001b[1;31m---------------------------------------------------------------------------\u001b[0m",
      "\u001b[1;31mAttributeError\u001b[0m                            Traceback (most recent call last)",
      "Cell \u001b[1;32mIn[18], line 8\u001b[0m\n\u001b[0;32m      6\u001b[0m x_vals \u001b[39m=\u001b[39m []\n\u001b[0;32m      7\u001b[0m y_vals \u001b[39m=\u001b[39m []\n\u001b[1;32m----> 8\u001b[0m f\u001b[39m.\u001b[39mbackward(gradient\u001b[39m=\u001b[39mexternal_grad)\n\u001b[0;32m     10\u001b[0m \u001b[39mfor\u001b[39;00m i \u001b[39min\u001b[39;00m tqdm(\u001b[39mrange\u001b[39m(N)):\n\u001b[0;32m     11\u001b[0m     x \u001b[39m=\u001b[39m x \u001b[39m-\u001b[39m step\u001b[39m*\u001b[39mx\u001b[39m.\u001b[39mgrad\n",
      "\u001b[1;31mAttributeError\u001b[0m: 'function' object has no attribute 'backward'"
     ]
    }
   ],
   "source": [
    "x = torch.tensor([3.], requires_grad = True)\n",
    "external_grad = torch.tensor([1.])\n",
    "\n",
    "step = 0.01\n",
    "N = 50\n",
    "x_vals = []\n",
    "y_vals = []\n",
    "f.backward(gradient=external_grad)\n",
    "\n",
    "for i in tqdm(range(N)):\n",
    "    x = x - step*x.grad\n",
    "    f.backward(gradient=external_grad)\n",
    "    f = x*x\n",
    "    #x.detach().requires_grad_()\n",
    "    x.grad = 0\n",
    "    y_vals.append(f.item())\n",
    "    x_vals.append(x.item())\n",
    "\n",
    "plt.plot(x_vals, y_vals)\n"
   ]
  }
 ],
 "metadata": {
  "kernelspec": {
   "display_name": "Python 3 (ipykernel)",
   "language": "python",
   "name": "python3"
  },
  "language_info": {
   "codemirror_mode": {
    "name": "ipython",
    "version": 3
   },
   "file_extension": ".py",
   "mimetype": "text/x-python",
   "name": "python",
   "nbconvert_exporter": "python",
   "pygments_lexer": "ipython3",
   "version": "3.11.4"
  }
 },
 "nbformat": 4,
 "nbformat_minor": 5
}
