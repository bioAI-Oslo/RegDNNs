{
 "cells": [
  {
   "cell_type": "code",
   "execution_count": 1,
   "id": "b1b1ba6e-f820-483a-a6a5-7ef941a654b8",
   "metadata": {},
   "outputs": [
    {
     "name": "stderr",
     "output_type": "stream",
     "text": [
      "C:\\Users\\aslak\\.conda\\envs\\pytorch\\lib\\site-packages\\tqdm\\auto.py:22: TqdmWarning: IProgress not found. Please update jupyter and ipywidgets. See https://ipywidgets.readthedocs.io/en/stable/user_install.html\n",
      "  from .autonotebook import tqdm as notebook_tqdm\n"
     ]
    }
   ],
   "source": [
    "import numpy as np\n",
    "import torch\n",
    "import torch.nn as nn\n",
    "import matplotlib.pyplot as plt\n",
    "import torch.nn.functional as F\n",
    "import torch.optim as optim\n",
    "from torch.utils.data import Dataset, DataLoader"
   ]
  },
  {
   "cell_type": "code",
   "execution_count": 2,
   "id": "7c4f4c00-62e1-4497-91ee-c44b7a2518a1",
   "metadata": {},
   "outputs": [],
   "source": [
    "def generate_adding_problem_data(num_samples, t_steps=6):\n",
    "    X_num = np.random.uniform(low=0, high=1, size=(num_samples, t_steps, 1))\n",
    "    X_mask = np.zeros((num_samples, t_steps, 1))\n",
    "    Y = np.ones((num_samples, 1))\n",
    "    for i in range(num_samples):\n",
    "        # Default uniform distribution on position sampling\n",
    "        positions = np.random.choice(t_steps, size=2, replace=False)\n",
    "        X_mask[i, positions] = 1\n",
    "        Y[i, 0] = np.sum(X_num[i, positions])\n",
    "    X = np.append(X_num, X_mask, axis=2)\n",
    "    return X, Y"
   ]
  },
  {
   "cell_type": "code",
   "execution_count": 10,
   "id": "ce6f9582-c734-4f9c-8206-9a8f928fc137",
   "metadata": {},
   "outputs": [],
   "source": [
    "class AddingProblemRNN(nn.Module):\n",
    "    def __init__(self, input_size=2, hidden_size = 128, output_size=1, lr=0.001, t_steps=100, batch_size=100):\n",
    "        super(AddingProblemRNN, self).__init__()\n",
    "        self.input_size = input_size\n",
    "        self.hidden_size = hidden_size\n",
    "        self.output_size = output_size\n",
    "        self.t_steps = t_steps\n",
    "        self.batch_size = batch_size\n",
    "        \n",
    "        \n",
    "        self.rnn = nn.RNN(input_size, hidden_size)\n",
    "        torch.nn.init.eye_(self.rnn.weight_hh_l0)\n",
    "        torch.nn.init.constant_(self.rnn.bias_hh_l0, 0)\n",
    "        torch.nn.init.constant_(self.rnn.bias_ih_l0, 0)\n",
    "        \n",
    "        self.fc = nn.Linear(hidden_size, output_size)\n",
    "        self.criterion = nn.MSELoss()\n",
    "        self.opt = optim.Adam(self.parameters(), lr=lr)\n",
    "\n",
    "    def forward(self, x, h):\n",
    "        x = x.view(self.t_steps, self.batch_size, self.input_size)\n",
    "        out, hidden = self.rnn(x, h)\n",
    "        out = self.fc(out)\n",
    "        return out, hidden\n",
    "\n",
    "    def train_step(self, inputs, labels):\n",
    "        h = torch.zeros(1, self.batch_size, self.hidden_size)\n",
    "        self.opt.zero_grad()\n",
    "        outputs, _ = self.forward(inputs, h)\n",
    "        loss = self.criterion(outputs[-1], labels)\n",
    "        loss.backward()\n",
    "        self.opt.step()\n",
    "        return loss.item()\n",
    "\n",
    "    def predict(self, inputs):\n",
    "        h = torch.zeros(1, self.batch_size, self.hidden_size)\n",
    "        outputs, _ = self.forward(inputs, h)\n",
    "        return outputs.squeeze(1).detach().numpy()"
   ]
  },
  {
   "cell_type": "code",
   "execution_count": 22,
   "id": "f43630e3-9fe7-4c06-a603-0693456bf74a",
   "metadata": {},
   "outputs": [
    {
     "name": "stdout",
     "output_type": "stream",
     "text": [
      "Epoch 0, train loss: 0.54705, test loss: 10.54738\n",
      "Epoch 100, train loss: 0.17376, test loss: 1.52491\n",
      "Epoch 200, train loss: 0.16316, test loss: 1.28386\n",
      "Epoch 300, train loss: 0.16241, test loss: 1.25636\n",
      "Epoch 400, train loss: 0.16122, test loss: 1.24109\n",
      "Epoch 500, train loss: 0.20386, test loss: 1.32850\n",
      "Epoch 600, train loss: 0.16808, test loss: 1.84604\n",
      "Epoch 700, train loss: 0.16514, test loss: 1.77363\n",
      "Epoch 800, train loss: 0.16307, test loss: 1.92001\n",
      "Epoch 900, train loss: 0.16140, test loss: 2.08454\n"
     ]
    },
    {
     "data": {
      "image/png": "[encoded data removed]",
      "text/plain": [
       "<Figure size 640x480 with 1 Axes>"
      ]
     },
     "metadata": {},
     "output_type": "display_data"
    }
   ],
   "source": [
    "import matplotlib.pyplot as plt\n",
    "\n",
    "# Set the hyperparameters\n",
    "t_steps = 100\n",
    "batch_size = 256\n",
    "num_epochs = 1000\n",
    "lr = 0.01\n",
    "hidden_size = 128\n",
    "\n",
    "# Generate the training and testing data\n",
    "X_train, y_train = generate_adding_problem_data(num_samples = batch_size, t_steps = t_steps)\n",
    "X_test, y_test = generate_adding_problem_data(num_samples = batch_size, t_steps = t_steps)\n",
    "\n",
    "# Initialize the model\n",
    "model = AddingProblemRNN(input_size=2, hidden_size=hidden_size, output_size=1, lr=lr, t_steps=t_steps, batch_size=batch_size)\n",
    "\n",
    "# Train the model\n",
    "train_losses = []\n",
    "test_losses = []\n",
    "for epoch in range(num_epochs):\n",
    "    # Train on one batch of data\n",
    "    train_loss = model.train_step(torch.tensor(X_train).float(), torch.tensor(y_train).float())\n",
    "    train_losses.append(train_loss)\n",
    "\n",
    "    # Test on one batch of data\n",
    "    test_loss = model.criterion(torch.tensor(model.predict(torch.tensor(X_test).float())), torch.tensor(y_test).float())\n",
    "    test_losses.append(test_loss.item())\n",
    "\n",
    "    if epoch % 100 == 0:\n",
    "        print(f\"Epoch {epoch}, train loss: {train_loss:.5f}, test loss: {test_loss.item():.5f}\")\n",
    "\n",
    "# Plot the training and testing losses\n",
    "plt.plot(train_losses, label=\"train\")\n",
    "plt.plot(test_losses, label=\"test\")\n",
    "plt.legend()\n",
    "plt.show()\n"
   ]
  },
  {
   "cell_type": "code",
   "execution_count": 40,
   "id": "3eb73e1d-490d-479d-9101-721b08a12552",
   "metadata": {},
   "outputs": [
    {
     "name": "stdout",
     "output_type": "stream",
     "text": [
      "0.5537109375\n"
     ]
    }
   ],
   "source": [
    "\n",
    "X_test, y_test = generate_adding_problem_data(num_samples = batch_size, t_steps = t_steps)\n",
    "def measure_accuracy(model, X, Y):\n",
    "    # Get predicted outputs from the model\n",
    "    Y_pred = model.predict(torch.tensor(X).float())\n",
    "\n",
    "    # Round predicted values to the nearest integer\n",
    "    Y_pred = np.round(Y_pred)\n",
    "\n",
    "    # Compute the accuracy as the fraction of correct predictions\n",
    "    accuracy = np.mean((Y_pred - Y) < 0.05)\n",
    "\n",
    "    return accuracy\n",
    "\n",
    "print(measure_accuracy(model, X_test, y_test))"
   ]
  },
  {
   "cell_type": "code",
   "execution_count": 20,
   "id": "742bbc35-7520-47a4-b79e-9f10d69e0f84",
   "metadata": {},
   "outputs": [
    {
     "name": "stdout",
     "output_type": "stream",
     "text": [
      "Epoch 0, train loss: 1.03651, test loss: 0.38938\n",
      "Epoch 100, train loss: 0.17390, test loss: 0.30073\n",
      "Epoch 200, train loss: 0.17369, test loss: 0.29312\n",
      "Epoch 300, train loss: 0.17367, test loss: 0.29277\n",
      "Epoch 400, train loss: 0.17365, test loss: 0.29218\n",
      "Epoch 500, train loss: 0.17363, test loss: 0.29078\n",
      "Epoch 600, train loss: 0.17174, test loss: 0.28429\n",
      "Epoch 700, train loss: 0.16651, test loss: 0.29425\n",
      "Epoch 800, train loss: 0.16648, test loss: 0.30010\n",
      "Epoch 900, train loss: 0.16643, test loss: 0.30739\n",
      "Epoch 0, train loss: 0.89323, test loss: 0.59216\n",
      "Epoch 100, train loss: 0.15861, test loss: 0.52269\n",
      "Epoch 200, train loss: 0.15635, test loss: 0.56242\n",
      "Epoch 300, train loss: 0.15477, test loss: 0.61560\n",
      "Epoch 400, train loss: 0.14549, test loss: 0.59643\n",
      "Epoch 500, train loss: 0.14371, test loss: 0.68508\n",
      "Epoch 600, train loss: 0.13386, test loss: 0.75028\n"
     ]
    },
    {
     "ename": "KeyboardInterrupt",
     "evalue": "",
     "output_type": "error",
     "traceback": [
      "\u001b[1;31m---------------------------------------------------------------------------\u001b[0m",
      "\u001b[1;31mKeyboardInterrupt\u001b[0m                         Traceback (most recent call last)",
      "Cell \u001b[1;32mIn[20], line 15\u001b[0m\n\u001b[0;32m     12\u001b[0m train_losses\u001b[38;5;241m.\u001b[39mappend(train_loss)\n\u001b[0;32m     14\u001b[0m \u001b[38;5;66;03m# Test on one batch of data\u001b[39;00m\n\u001b[1;32m---> 15\u001b[0m test_loss \u001b[38;5;241m=\u001b[39m model\u001b[38;5;241m.\u001b[39mcriterion(torch\u001b[38;5;241m.\u001b[39mtensor(\u001b[43mmodel\u001b[49m\u001b[38;5;241;43m.\u001b[39;49m\u001b[43mpredict\u001b[49m\u001b[43m(\u001b[49m\u001b[43mtorch\u001b[49m\u001b[38;5;241;43m.\u001b[39;49m\u001b[43mtensor\u001b[49m\u001b[43m(\u001b[49m\u001b[43mX_test\u001b[49m\u001b[43m)\u001b[49m\u001b[38;5;241;43m.\u001b[39;49m\u001b[43mfloat\u001b[49m\u001b[43m(\u001b[49m\u001b[43m)\u001b[49m\u001b[43m)\u001b[49m), torch\u001b[38;5;241m.\u001b[39mtensor(y_test)\u001b[38;5;241m.\u001b[39mfloat())\n\u001b[0;32m     16\u001b[0m test_losses\u001b[38;5;241m.\u001b[39mappend(test_loss\u001b[38;5;241m.\u001b[39mitem())\n\u001b[0;32m     18\u001b[0m \u001b[38;5;28;01mif\u001b[39;00m epoch \u001b[38;5;241m%\u001b[39m \u001b[38;5;241m100\u001b[39m \u001b[38;5;241m==\u001b[39m \u001b[38;5;241m0\u001b[39m:\n",
      "Cell \u001b[1;32mIn[10], line 37\u001b[0m, in \u001b[0;36mAddingProblemRNN.predict\u001b[1;34m(self, inputs)\u001b[0m\n\u001b[0;32m     35\u001b[0m \u001b[38;5;28;01mdef\u001b[39;00m \u001b[38;5;21mpredict\u001b[39m(\u001b[38;5;28mself\u001b[39m, inputs):\n\u001b[0;32m     36\u001b[0m     h \u001b[38;5;241m=\u001b[39m torch\u001b[38;5;241m.\u001b[39mzeros(\u001b[38;5;241m1\u001b[39m, \u001b[38;5;28mself\u001b[39m\u001b[38;5;241m.\u001b[39mbatch_size, \u001b[38;5;28mself\u001b[39m\u001b[38;5;241m.\u001b[39mhidden_size)\n\u001b[1;32m---> 37\u001b[0m     outputs, _ \u001b[38;5;241m=\u001b[39m \u001b[38;5;28;43mself\u001b[39;49m\u001b[38;5;241;43m.\u001b[39;49m\u001b[43mforward\u001b[49m\u001b[43m(\u001b[49m\u001b[43minputs\u001b[49m\u001b[43m,\u001b[49m\u001b[43m \u001b[49m\u001b[43mh\u001b[49m\u001b[43m)\u001b[49m\n\u001b[0;32m     38\u001b[0m     \u001b[38;5;28;01mreturn\u001b[39;00m outputs\u001b[38;5;241m.\u001b[39msqueeze(\u001b[38;5;241m1\u001b[39m)\u001b[38;5;241m.\u001b[39mdetach()\u001b[38;5;241m.\u001b[39mnumpy()\n",
      "Cell \u001b[1;32mIn[10], line 22\u001b[0m, in \u001b[0;36mAddingProblemRNN.forward\u001b[1;34m(self, x, h)\u001b[0m\n\u001b[0;32m     20\u001b[0m \u001b[38;5;28;01mdef\u001b[39;00m \u001b[38;5;21mforward\u001b[39m(\u001b[38;5;28mself\u001b[39m, x, h):\n\u001b[0;32m     21\u001b[0m     x \u001b[38;5;241m=\u001b[39m x\u001b[38;5;241m.\u001b[39mview(\u001b[38;5;28mself\u001b[39m\u001b[38;5;241m.\u001b[39mt_steps, \u001b[38;5;28mself\u001b[39m\u001b[38;5;241m.\u001b[39mbatch_size, \u001b[38;5;28mself\u001b[39m\u001b[38;5;241m.\u001b[39minput_size)\n\u001b[1;32m---> 22\u001b[0m     out, hidden \u001b[38;5;241m=\u001b[39m \u001b[38;5;28;43mself\u001b[39;49m\u001b[38;5;241;43m.\u001b[39;49m\u001b[43mrnn\u001b[49m\u001b[43m(\u001b[49m\u001b[43mx\u001b[49m\u001b[43m,\u001b[49m\u001b[43m \u001b[49m\u001b[43mh\u001b[49m\u001b[43m)\u001b[49m\n\u001b[0;32m     23\u001b[0m     out \u001b[38;5;241m=\u001b[39m \u001b[38;5;28mself\u001b[39m\u001b[38;5;241m.\u001b[39mfc(out)\n\u001b[0;32m     24\u001b[0m     \u001b[38;5;28;01mreturn\u001b[39;00m out, hidden\n",
      "File \u001b[1;32m~\\.conda\\envs\\pytorch\\lib\\site-packages\\torch\\nn\\modules\\module.py:1194\u001b[0m, in \u001b[0;36mModule._call_impl\u001b[1;34m(self, *input, **kwargs)\u001b[0m\n\u001b[0;32m   1190\u001b[0m \u001b[38;5;66;03m# If we don't have any hooks, we want to skip the rest of the logic in\u001b[39;00m\n\u001b[0;32m   1191\u001b[0m \u001b[38;5;66;03m# this function, and just call forward.\u001b[39;00m\n\u001b[0;32m   1192\u001b[0m \u001b[38;5;28;01mif\u001b[39;00m \u001b[38;5;129;01mnot\u001b[39;00m (\u001b[38;5;28mself\u001b[39m\u001b[38;5;241m.\u001b[39m_backward_hooks \u001b[38;5;129;01mor\u001b[39;00m \u001b[38;5;28mself\u001b[39m\u001b[38;5;241m.\u001b[39m_forward_hooks \u001b[38;5;129;01mor\u001b[39;00m \u001b[38;5;28mself\u001b[39m\u001b[38;5;241m.\u001b[39m_forward_pre_hooks \u001b[38;5;129;01mor\u001b[39;00m _global_backward_hooks\n\u001b[0;32m   1193\u001b[0m         \u001b[38;5;129;01mor\u001b[39;00m _global_forward_hooks \u001b[38;5;129;01mor\u001b[39;00m _global_forward_pre_hooks):\n\u001b[1;32m-> 1194\u001b[0m     \u001b[38;5;28;01mreturn\u001b[39;00m forward_call(\u001b[38;5;241m*\u001b[39m\u001b[38;5;28minput\u001b[39m, \u001b[38;5;241m*\u001b[39m\u001b[38;5;241m*\u001b[39mkwargs)\n\u001b[0;32m   1195\u001b[0m \u001b[38;5;66;03m# Do not call functions when jit is used\u001b[39;00m\n\u001b[0;32m   1196\u001b[0m full_backward_hooks, non_full_backward_hooks \u001b[38;5;241m=\u001b[39m [], []\n",
      "File \u001b[1;32m~\\.conda\\envs\\pytorch\\lib\\site-packages\\torch\\nn\\modules\\rnn.py:476\u001b[0m, in \u001b[0;36mRNN.forward\u001b[1;34m(self, input, hx)\u001b[0m\n\u001b[0;32m    474\u001b[0m \u001b[38;5;28;01mif\u001b[39;00m batch_sizes \u001b[38;5;129;01mis\u001b[39;00m \u001b[38;5;28;01mNone\u001b[39;00m:\n\u001b[0;32m    475\u001b[0m     \u001b[38;5;28;01mif\u001b[39;00m \u001b[38;5;28mself\u001b[39m\u001b[38;5;241m.\u001b[39mmode \u001b[38;5;241m==\u001b[39m \u001b[38;5;124m'\u001b[39m\u001b[38;5;124mRNN_TANH\u001b[39m\u001b[38;5;124m'\u001b[39m:\n\u001b[1;32m--> 476\u001b[0m         result \u001b[38;5;241m=\u001b[39m \u001b[43m_VF\u001b[49m\u001b[38;5;241;43m.\u001b[39;49m\u001b[43mrnn_tanh\u001b[49m\u001b[43m(\u001b[49m\u001b[38;5;28;43minput\u001b[39;49m\u001b[43m,\u001b[49m\u001b[43m \u001b[49m\u001b[43mhx\u001b[49m\u001b[43m,\u001b[49m\u001b[43m \u001b[49m\u001b[38;5;28;43mself\u001b[39;49m\u001b[38;5;241;43m.\u001b[39;49m\u001b[43m_flat_weights\u001b[49m\u001b[43m,\u001b[49m\u001b[43m \u001b[49m\u001b[38;5;28;43mself\u001b[39;49m\u001b[38;5;241;43m.\u001b[39;49m\u001b[43mbias\u001b[49m\u001b[43m,\u001b[49m\u001b[43m \u001b[49m\u001b[38;5;28;43mself\u001b[39;49m\u001b[38;5;241;43m.\u001b[39;49m\u001b[43mnum_layers\u001b[49m\u001b[43m,\u001b[49m\n\u001b[0;32m    477\u001b[0m \u001b[43m                              \u001b[49m\u001b[38;5;28;43mself\u001b[39;49m\u001b[38;5;241;43m.\u001b[39;49m\u001b[43mdropout\u001b[49m\u001b[43m,\u001b[49m\u001b[43m \u001b[49m\u001b[38;5;28;43mself\u001b[39;49m\u001b[38;5;241;43m.\u001b[39;49m\u001b[43mtraining\u001b[49m\u001b[43m,\u001b[49m\u001b[43m \u001b[49m\u001b[38;5;28;43mself\u001b[39;49m\u001b[38;5;241;43m.\u001b[39;49m\u001b[43mbidirectional\u001b[49m\u001b[43m,\u001b[49m\n\u001b[0;32m    478\u001b[0m \u001b[43m                              \u001b[49m\u001b[38;5;28;43mself\u001b[39;49m\u001b[38;5;241;43m.\u001b[39;49m\u001b[43mbatch_first\u001b[49m\u001b[43m)\u001b[49m\n\u001b[0;32m    479\u001b[0m     \u001b[38;5;28;01melse\u001b[39;00m:\n\u001b[0;32m    480\u001b[0m         result \u001b[38;5;241m=\u001b[39m _VF\u001b[38;5;241m.\u001b[39mrnn_relu(\u001b[38;5;28minput\u001b[39m, hx, \u001b[38;5;28mself\u001b[39m\u001b[38;5;241m.\u001b[39m_flat_weights, \u001b[38;5;28mself\u001b[39m\u001b[38;5;241m.\u001b[39mbias, \u001b[38;5;28mself\u001b[39m\u001b[38;5;241m.\u001b[39mnum_layers,\n\u001b[0;32m    481\u001b[0m                               \u001b[38;5;28mself\u001b[39m\u001b[38;5;241m.\u001b[39mdropout, \u001b[38;5;28mself\u001b[39m\u001b[38;5;241m.\u001b[39mtraining, \u001b[38;5;28mself\u001b[39m\u001b[38;5;241m.\u001b[39mbidirectional,\n\u001b[0;32m    482\u001b[0m                               \u001b[38;5;28mself\u001b[39m\u001b[38;5;241m.\u001b[39mbatch_first)\n",
      "\u001b[1;31mKeyboardInterrupt\u001b[0m: "
     ]
    }
   ],
   "source": [
    "accuracies = []\n",
    "for t in range(2, 80, 2):\n",
    "    X_train, y_train = generate_adding_problem_data(num_samples = batch_size, t_steps = t)\n",
    "    X_test, y_test = generate_adding_problem_data(num_samples = batch_size, t_steps = t)\n",
    "    model = AddingProblemRNN(input_size=2, hidden_size=hidden_size, output_size=1, lr=lr, t_steps=t, batch_size=batch_size)\n",
    "    # Train the model\n",
    "    train_losses = []\n",
    "    test_losses = []\n",
    "    for epoch in range(num_epochs):\n",
    "        # Train on one batch of data\n",
    "        train_loss = model.train_step(torch.tensor(X_train).float(), torch.tensor(y_train).float())\n",
    "        train_losses.append(train_loss)\n",
    "\n",
    "        # Test on one batch of data\n",
    "        test_loss = model.criterion(torch.tensor(model.predict(torch.tensor(X_test).float())), torch.tensor(y_test).float())\n",
    "        test_losses.append(test_loss.item())\n",
    "\n",
    "        if epoch % 100 == 0:\n",
    "            print(f\"Epoch {epoch}, train loss: {train_loss:.5f}, test loss: {test_loss.item():.5f}\")\n",
    "        \n",
    "    accuracies.append(measure_accuracy(model, X_test, y_test))\n",
    "\n",
    "plt.plot(range(5, 80,2), accuracies)"
   ]
  },
  {
   "cell_type": "code",
   "execution_count": null,
   "id": "938759a5-cd87-48ef-974b-f23e4589426e",
   "metadata": {},
   "outputs": [],
   "source": [
    "plt.plot(range(2, 80,2), accuracies)"
   ]
  }
 ],
 "metadata": {
  "kernelspec": {
   "display_name": "Python 3 (ipykernel)",
   "language": "python",
   "name": "python3"
  },
  "language_info": {
   "codemirror_mode": {
    "name": "ipython",
    "version": 3
   },
   "file_extension": ".py",
   "mimetype": "text/x-python",
   "name": "python",
   "nbconvert_exporter": "python",
   "pygments_lexer": "ipython3",
   "version": "3.10.8"
  }
 },
 "nbformat": 4,
 "nbformat_minor": 5
}
