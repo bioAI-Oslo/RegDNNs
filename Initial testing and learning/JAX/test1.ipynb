{
 "cells": [
  {
   "cell_type": "code",
   "execution_count": 6,
   "id": "7a1c9950-0e23-421b-91bd-c5a3b98429e1",
   "metadata": {
    "tags": []
   },
   "outputs": [],
   "source": [
    "import numpy as np\n",
    "import jax.numpy as jnp\n",
    "from jax.scipy.special import logsumexp\n",
    "import jax\n",
    "from jax import jit, vmap, pmap, grad, value_and_grad\n",
    "\n",
    "from torchvision.datasets import MNIST\n",
    "from torch.utils.data import DataLoader"
   ]
  },
  {
   "cell_type": "code",
   "execution_count": 7,
   "id": "a48ebfc5-f9ef-42b7-a7b9-f30e95ed7ec9",
   "metadata": {
    "tags": []
   },
   "outputs": [
    {
     "name": "stdout",
     "output_type": "stream",
     "text": [
      "[[(512, 784), (512,)], [(256, 512), (256,)], [(10, 256), (10,)]]\n"
     ]
    }
   ],
   "source": [
    "seed = 0\n",
    "mnist_img_size = (28, 28)\n",
    "\n",
    "def init_MLP(layer_widths, parent_key, scale = 0.01):\n",
    "\n",
    "    params = []\n",
    "    keys = jax.random.split(parent_key, num = len(layer_widths) - 1)\n",
    "\n",
    "    for in_width, out_width, key in zip(layer_widths[:-1], layer_widths[1:], keys):\n",
    "        weight_key, bias_key = jax.random.split(key)\n",
    "        params.append([\n",
    "                       scale*jax.random.normal(weight_key, shape = (out_width, in_width)),\n",
    "                       scale*jax.random.normal(bias_key, shape = (out_width,))\n",
    "                       ]\n",
    "        )\n",
    "    return params\n",
    "\n",
    "# test\n",
    "key = jax.random.PRNGKey(seed)\n",
    "MLP_params = init_MLP([784, 512, 256, 10], key)\n",
    "print(jax.tree_map(lambda x: x.shape, MLP_params))"
   ]
  },
  {
   "cell_type": "code",
   "execution_count": 8,
   "id": "2f19f32e-11f0-4fe4-9ad0-1c626f5b30b0",
   "metadata": {
    "tags": []
   },
   "outputs": [
    {
     "name": "stdout",
     "output_type": "stream",
     "text": [
      "(784,)\n",
      "(10,)\n",
      "(16, 784)\n",
      "(16, 10)\n"
     ]
    }
   ],
   "source": [
    "def MLP_predict(params, x):\n",
    "    hidden_layers = params[:-1]\n",
    "\n",
    "    activation = x\n",
    "    for w, b in hidden_layers:\n",
    "        activation = jax.nn.relu(jnp.dot(w, activation) + b)\n",
    "\n",
    "    w_last, b_last = params[-1]\n",
    "    logits = jnp.dot(w_last, activation) + b_last\n",
    "\n",
    "    # log(exp(o1)) - log(sum(exp(o1), exp(o2), ..., exp(o10)))\n",
    "    # log( exp(o1) / sum(...) )\n",
    "    return logits - logsumexp(logits) # Log softmax\n",
    "\n",
    "# test single example\n",
    "\n",
    "dummy_img_flat = np.random.randn(np.prod(mnist_img_size))\n",
    "print(dummy_img_flat.shape)\n",
    "\n",
    "prediction = MLP_predict(MLP_params, dummy_img_flat)\n",
    "print(prediction.shape)\n",
    "\n",
    "# test batched function\n",
    "batched_MLP_predict = vmap(MLP_predict, in_axes=(None, 0))\n",
    "\n",
    "dummy_imgs_flat = np.random.randn(16, np.prod(mnist_img_size))\n",
    "print(dummy_imgs_flat.shape)\n",
    "predictions = batched_MLP_predict(MLP_params, dummy_imgs_flat)\n",
    "print(predictions.shape)"
   ]
  },
  {
   "cell_type": "code",
   "execution_count": 9,
   "id": "2cd20e5d-4b26-440a-8929-e4d1ac9c5fb3",
   "metadata": {
    "tags": []
   },
   "outputs": [
    {
     "name": "stdout",
     "output_type": "stream",
     "text": [
      "(128, 784) float32 (128,) int32\n"
     ]
    }
   ],
   "source": [
    "def custom_transform(x):\n",
    "    # Transform image to numpy data type from pillow data typess\n",
    "    return np.ravel(np.array(x, dtype=np.float32))\n",
    "\n",
    "def custom_collate_fn(batch):\n",
    "    transposed_data = list(zip(*batch))\n",
    "\n",
    "    labels = np.array(transposed_data[1])\n",
    "    imgs = np.stack(transposed_data[0])\n",
    "\n",
    "    return imgs, labels\n",
    "\n",
    "batch_size = 128\n",
    "train_dataset = MNIST(root='train_mnist', train=True, download=True, transform=custom_transform)\n",
    "test_dataset = MNIST(root='test_mnist', train=False, download=True, transform=custom_transform)\n",
    "\n",
    "train_loader = DataLoader(train_dataset, batch_size, shuffle=True, collate_fn=custom_collate_fn, drop_last=True)\n",
    "test_loader = DataLoader(test_dataset, batch_size, shuffle=False, collate_fn=custom_collate_fn, drop_last=True)\n",
    "\n",
    "# test\n",
    "batch_data = next(iter(train_loader))\n",
    "imgs = batch_data[0]\n",
    "lbls = batch_data[1]\n",
    "print(imgs.shape, imgs[0].dtype, lbls.shape, lbls[0].dtype)\n",
    "\n",
    "# optimization - loading the whole dataset into memory\n",
    "train_images = jnp.array(train_dataset.data).reshape(len(train_dataset), -1)\n",
    "train_lbls = jnp.array(train_dataset.targets)\n",
    "\n",
    "test_images = jnp.array(test_dataset.data).reshape(len(test_dataset), -1)\n",
    "test_lbls = jnp.array(test_dataset.targets)"
   ]
  },
  {
   "cell_type": "code",
   "execution_count": 10,
   "id": "d744097d-5c30-4142-9665-8ca47280b6e2",
   "metadata": {
    "tags": []
   },
   "outputs": [
    {
     "data": {
      "text/plain": [
       "\"num_epochs = 20\\n\\ndef loss_fn(params, imgs, gt_lbls):\\n    predictions = batched_MLP_predict(params, imgs)\\n\\n    return -jnp.mean(predictions * gt_lbls)\\n\\ndef accuracy(params, dataset_imgs, dataset_lbls):\\n    pred_classes = jnp.argmax(batched_MLP_predict(params, dataset_imgs), axis=1)\\n    return jnp.mean(dataset_lbls == pred_classes)\\n\\n@jit\\ndef update(params, imgs, gt_lbls, lr=0.01):\\n    loss, grads = value_and_grad(loss_fn)(params, imgs, gt_lbls)\\n\\n    return loss, jax.tree_multimap(lambda p, g: p - lr*g, params, grads)\\n\\n\\n# Create a MLP\\nMLP_params = init_MLP([np.prod(mnist_img_size), 512, 256, len(MNIST.classes)], key)\\n\\nfor epoch in range(num_epochs):\\n\\n    for counter, (imgs, lbls) in enumerate(train_loader):\\n\\n        gt_labels = jax.nn.one_hot(lbls, len(MNIST.classes))\\n        \\n        loss, MLP_params = update(MLP_params, imgs, gt_labels)\\n        \\n        if counter % 50 == 0:\\n            print(loss)\\n\\n    print(f'Epoch {epoch}, train acc = {accuracy(MLP_params, train_images, train_lbls)} test acc = {accuracy(MLP_params, test_images, test_lbls)}')\\n    \""
      ]
     },
     "execution_count": 10,
     "metadata": {},
     "output_type": "execute_result"
    }
   ],
   "source": [
    "\"\"\"num_epochs = 20\n",
    "\n",
    "def loss_fn(params, imgs, gt_lbls):\n",
    "    predictions = batched_MLP_predict(params, imgs)\n",
    "\n",
    "    return -jnp.mean(predictions * gt_lbls)\n",
    "\n",
    "def accuracy(params, dataset_imgs, dataset_lbls):\n",
    "    pred_classes = jnp.argmax(batched_MLP_predict(params, dataset_imgs), axis=1)\n",
    "    return jnp.mean(dataset_lbls == pred_classes)\n",
    "\n",
    "@jit\n",
    "def update(params, imgs, gt_lbls, lr=0.01):\n",
    "    loss, grads = value_and_grad(loss_fn)(params, imgs, gt_lbls)\n",
    "\n",
    "    return loss, jax.tree_multimap(lambda p, g: p - lr*g, params, grads)\n",
    "\n",
    "\n",
    "# Create a MLP\n",
    "MLP_params = init_MLP([np.prod(mnist_img_size), 512, 256, len(MNIST.classes)], key)\n",
    "\n",
    "for epoch in range(num_epochs):\n",
    "\n",
    "    for counter, (imgs, lbls) in enumerate(train_loader):\n",
    "\n",
    "        gt_labels = jax.nn.one_hot(lbls, len(MNIST.classes))\n",
    "        \n",
    "        loss, MLP_params = update(MLP_params, imgs, gt_labels)\n",
    "        \n",
    "        if counter % 50 == 0:\n",
    "            print(loss)\n",
    "\n",
    "    print(f'Epoch {epoch}, train acc = {accuracy(MLP_params, train_images, train_lbls)} test acc = {accuracy(MLP_params, test_images, test_lbls)}')\n",
    "    \"\"\" \n",
    "# jax.tree_multimap deprecated\n"
   ]
  },
  {
   "cell_type": "code",
   "execution_count": 11,
   "id": "99c259c6-24cd-4b7d-a75c-3e1c5a56dff0",
   "metadata": {
    "tags": []
   },
   "outputs": [
    {
     "name": "stdout",
     "output_type": "stream",
     "text": [
      "(28, 28)\n",
      "pred 1\n",
      "gt 7\n"
     ]
    },
    {
     "data": {
      "image/png": "[encoded data removed]",
      "text/plain": [
       "<Figure size 640x480 with 1 Axes>"
      ]
     },
     "metadata": {},
     "output_type": "display_data"
    }
   ],
   "source": [
    "imgs, lbls = next(iter(test_loader))\n",
    "img = imgs[0].reshape(mnist_img_size)\n",
    "gt_lbl = lbls[0]\n",
    "print(img.shape)\n",
    "\n",
    "import matplotlib.pyplot as plt\n",
    "\n",
    "pred = jnp.argmax(MLP_predict(MLP_params, np.ravel(img)))\n",
    "print('pred', pred)\n",
    "print('gt', gt_lbl)\n",
    "\n",
    "plt.imshow(img); plt.show()"
   ]
  },
  {
   "cell_type": "code",
   "execution_count": 12,
   "id": "88da99d2-0348-4f39-8a34-517f72e17bfa",
   "metadata": {
    "tags": []
   },
   "outputs": [
    {
     "name": "stdout",
     "output_type": "stream",
     "text": [
      "(512, 784)\n",
      "(28, 28)\n"
     ]
    },
    {
     "data": {
      "image/png": "[encoded data removed]",
      "text/plain": [
       "<Figure size 640x480 with 1 Axes>"
      ]
     },
     "metadata": {},
     "output_type": "display_data"
    }
   ],
   "source": [
    "w = MLP_params[0][0]\n",
    "print(w.shape)\n",
    "\n",
    "w_single = w[32, :].reshape(mnist_img_size)\n",
    "print(w_single.shape)\n",
    "plt.imshow(w_single); plt.show()"
   ]
  }
 ],
 "metadata": {
  "kernelspec": {
   "display_name": "Python 3 (ipykernel)",
   "language": "python",
   "name": "python3"
  },
  "language_info": {
   "codemirror_mode": {
    "name": "ipython",
    "version": 3
   },
   "file_extension": ".py",
   "mimetype": "text/x-python",
   "name": "python",
   "nbconvert_exporter": "python",
   "pygments_lexer": "ipython3",
   "version": "3.11.4"
  }
 },
 "nbformat": 4,
 "nbformat_minor": 5
}
