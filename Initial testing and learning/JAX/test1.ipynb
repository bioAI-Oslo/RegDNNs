{
 "cells": [
  {
   "cell_type": "code",
   "execution_count": 1,
   "id": "7a1c9950-0e23-421b-91bd-c5a3b98429e1",
   "metadata": {
    "tags": []
   },
   "outputs": [],
   "source": [
    "import numpy as np\n",
    "import jax.numpy as jnp\n",
    "from jax.scipy.special import logsumexp\n",
    "import jax\n",
    "from jax import jit, vmap, pmap, grad, value_and_grad\n",
    "\n",
    "from torchvision.datasets import MNIST\n",
    "from torch.utils.data import DataLoader"
   ]
  },
  {
   "cell_type": "code",
   "execution_count": 2,
   "id": "a48ebfc5-f9ef-42b7-a7b9-f30e95ed7ec9",
   "metadata": {
    "tags": []
   },
   "outputs": [
    {
     "name": "stderr",
     "output_type": "stream",
     "text": [
      "WARNING:absl:No GPU/TPU found, falling back to CPU. (Set TF_CPP_MIN_LOG_LEVEL=0 and rerun for more info.)\n"
     ]
    },
    {
     "name": "stdout",
     "output_type": "stream",
     "text": [
      "[[(512, 784), (512,)], [(256, 512), (256,)], [(10, 256), (10,)]]\n"
     ]
    }
   ],
   "source": [
    "seed = 0\n",
    "mnist_img_size = (28, 28)\n",
    "\n",
    "def init_MLP(layer_widths, parent_key, scale = 0.01):\n",
    "\n",
    "    params = []\n",
    "    keys = jax.random.split(parent_key, num = len(layer_widths) - 1)\n",
    "\n",
    "    for in_width, out_width, key in zip(layer_widths[:-1], layer_widths[1:], keys):\n",
    "        weight_key, bias_key = jax.random.split(key)\n",
    "        params.append([\n",
    "                       scale*jax.random.normal(weight_key, shape = (out_width, in_width)),\n",
    "                       scale*jax.random.normal(bias_key, shape = (out_width,))\n",
    "                       ]\n",
    "        )\n",
    "    return params\n",
    "\n",
    "# test\n",
    "key = jax.random.PRNGKey(seed)\n",
    "MLP_params = init_MLP([784, 512, 256, 10], key)\n",
    "print(jax.tree_map(lambda x: x.shape, MLP_params))"
   ]
  },
  {
   "cell_type": "code",
   "execution_count": 3,
   "id": "2f19f32e-11f0-4fe4-9ad0-1c626f5b30b0",
   "metadata": {
    "tags": []
   },
   "outputs": [
    {
     "name": "stdout",
     "output_type": "stream",
     "text": [
      "(784,)\n",
      "(10,)\n",
      "(16, 784)\n",
      "(16, 10)\n"
     ]
    }
   ],
   "source": [
    "def MLP_predict(params, x):\n",
    "    hidden_layers = params[:-1]\n",
    "\n",
    "    activation = x\n",
    "    for w, b in hidden_layers:\n",
    "        activation = jax.nn.relu(jnp.dot(w, activation) + b)\n",
    "\n",
    "    w_last, b_last = params[-1]\n",
    "    logits = jnp.dot(w_last, activation) + b_last\n",
    "\n",
    "    # log(exp(o1)) - log(sum(exp(o1), exp(o2), ..., exp(o10)))\n",
    "    # log( exp(o1) / sum(...) )\n",
    "    return logits - logsumexp(logits) # Log softmax\n",
    "\n",
    "# test single example\n",
    "\n",
    "dummy_img_flat = np.random.randn(np.prod(mnist_img_size))\n",
    "print(dummy_img_flat.shape)\n",
    "\n",
    "prediction = MLP_predict(MLP_params, dummy_img_flat)\n",
    "print(prediction.shape)\n",
    "\n",
    "# test batched function\n",
    "batched_MLP_predict = vmap(MLP_predict, in_axes=(None, 0))\n",
    "\n",
    "dummy_imgs_flat = np.random.randn(16, np.prod(mnist_img_size))\n",
    "print(dummy_imgs_flat.shape)\n",
    "predictions = batched_MLP_predict(MLP_params, dummy_imgs_flat)\n",
    "print(predictions.shape)"
   ]
  },
  {
   "cell_type": "code",
   "execution_count": 4,
   "id": "2cd20e5d-4b26-440a-8929-e4d1ac9c5fb3",
   "metadata": {
    "tags": []
   },
   "outputs": [
    {
     "name": "stdout",
     "output_type": "stream",
     "text": [
      "(128, 784) float32 (128,) int32\n"
     ]
    }
   ],
   "source": [
    "def custom_transform(x):\n",
    "    # Transform image to numpy data type from pillow data typess\n",
    "    return np.ravel(np.array(x, dtype=np.float32))\n",
    "\n",
    "def custom_collate_fn(batch):\n",
    "    transposed_data = list(zip(*batch))\n",
    "\n",
    "    labels = np.array(transposed_data[1])\n",
    "    imgs = np.stack(transposed_data[0])\n",
    "\n",
    "    return imgs, labels\n",
    "\n",
    "batch_size = 128\n",
    "train_dataset = MNIST(root='train_mnist', train=True, download=True, transform=custom_transform)\n",
    "test_dataset = MNIST(root='test_mnist', train=False, download=True, transform=custom_transform)\n",
    "\n",
    "train_loader = DataLoader(train_dataset, batch_size, shuffle=True, collate_fn=custom_collate_fn, drop_last=True)\n",
    "test_loader = DataLoader(test_dataset, batch_size, shuffle=False, collate_fn=custom_collate_fn, drop_last=True)\n",
    "\n",
    "# test\n",
    "batch_data = next(iter(train_loader))\n",
    "imgs = batch_data[0]\n",
    "lbls = batch_data[1]\n",
    "print(imgs.shape, imgs[0].dtype, lbls.shape, lbls[0].dtype)\n",
    "\n",
    "# optimization - loading the whole dataset into memory\n",
    "train_images = jnp.array(train_dataset.data).reshape(len(train_dataset), -1)\n",
    "train_lbls = jnp.array(train_dataset.targets)\n",
    "\n",
    "test_images = jnp.array(test_dataset.data).reshape(len(test_dataset), -1)\n",
    "test_lbls = jnp.array(test_dataset.targets)"
   ]
  },
  {
   "cell_type": "code",
   "execution_count": 5,
   "id": "d744097d-5c30-4142-9665-8ca47280b6e2",
   "metadata": {
    "tags": []
   },
   "outputs": [
    {
     "name": "stderr",
     "output_type": "stream",
     "text": [
      "C:\\Users\\aslak\\.conda\\envs\\jax\\lib\\site-packages\\jax\\_src\\tree_util.py:200: FutureWarning: jax.tree_util.tree_multimap() is deprecated. Please use jax.tree_util.tree_map() instead as a drop-in replacement.\n",
      "  warnings.warn('jax.tree_util.tree_multimap() is deprecated. Please use jax.tree_util.tree_map() '\n"
     ]
    },
    {
     "name": "stdout",
     "output_type": "stream",
     "text": [
      "0.23952691\n",
      "0.10184016\n",
      "0.061839163\n",
      "0.057984997\n",
      "0.052820362\n",
      "0.040843993\n",
      "0.040013995\n",
      "0.04006037\n",
      "0.049117252\n",
      "0.037899446\n",
      "Epoch 0, train acc = 0.9153333306312561 test acc = 0.9181999564170837\n",
      "0.028607473\n",
      "0.030695785\n",
      "0.022863671\n",
      "0.029321387\n",
      "0.03083905\n",
      "0.020258248\n",
      "0.021652231\n",
      "0.012073279\n",
      "0.0339018\n",
      "0.026639743\n",
      "Epoch 1, train acc = 0.9316666722297668 test acc = 0.9325999617576599\n",
      "0.023377396\n",
      "0.020145034\n",
      "0.024159456\n",
      "0.019303089\n",
      "0.026960483\n",
      "0.022969233\n",
      "0.010420523\n",
      "0.02353144\n",
      "0.016100386\n",
      "0.02644713\n",
      "Epoch 2, train acc = 0.9452333450317383 test acc = 0.9430999755859375\n",
      "0.021097405\n",
      "0.014286712\n",
      "0.01976278\n",
      "0.011844794\n",
      "0.023217617\n",
      "0.014491573\n",
      "0.014707657\n",
      "0.012484146\n",
      "0.026900569\n",
      "0.0122377025\n",
      "Epoch 3, train acc = 0.9532166719436646 test acc = 0.9492999911308289\n",
      "0.015697807\n",
      "0.021294104\n",
      "0.0093003865\n",
      "0.011960923\n",
      "0.017267669\n",
      "0.013756851\n",
      "0.010372794\n",
      "0.015406543\n",
      "0.016129786\n",
      "0.017313456\n",
      "Epoch 4, train acc = 0.960016667842865 test acc = 0.9557999968528748\n",
      "0.009115483\n",
      "0.019655097\n",
      "0.007612714\n",
      "0.011216453\n",
      "0.0066775978\n",
      "0.017928079\n",
      "0.013305301\n",
      "0.012079294\n",
      "0.012790409\n",
      "0.015195641\n",
      "Epoch 5, train acc = 0.9636333584785461 test acc = 0.9589999914169312\n",
      "0.009820485\n",
      "0.007824824\n",
      "0.010934778\n",
      "0.012221103\n",
      "0.008845544\n",
      "0.00921232\n",
      "0.013834164\n",
      "0.01687264\n",
      "0.009202\n",
      "0.012252376\n",
      "Epoch 6, train acc = 0.9693000316619873 test acc = 0.9630999565124512\n",
      "0.010825499\n",
      "0.011096711\n",
      "0.02411103\n",
      "0.009013575\n",
      "0.015988873\n",
      "0.018478611\n",
      "0.017117523\n",
      "0.015062499\n",
      "0.00631767\n",
      "0.014871803\n",
      "Epoch 7, train acc = 0.9715999960899353 test acc = 0.9652999639511108\n",
      "0.011224228\n",
      "0.0076411995\n",
      "0.005861332\n",
      "0.0069325394\n",
      "0.0062534134\n",
      "0.0072932513\n",
      "0.002973846\n",
      "0.00589762\n",
      "0.0061288006\n",
      "0.008018389\n",
      "Epoch 8, train acc = 0.9749333262443542 test acc = 0.9684000015258789\n",
      "0.0031313056\n",
      "0.0075912955\n",
      "0.021746272\n",
      "0.011989552\n",
      "0.0089595495\n",
      "0.014655814\n",
      "0.0075047254\n",
      "0.006166822\n",
      "0.017522067\n",
      "0.0055735153\n",
      "Epoch 9, train acc = 0.9757500290870667 test acc = 0.9662999510765076\n",
      "0.01524286\n",
      "0.012442251\n",
      "0.0129623655\n",
      "0.012595037\n",
      "0.0069656223\n",
      "0.008528023\n",
      "0.007417412\n",
      "0.0036978272\n",
      "0.003463721\n",
      "0.013079754\n",
      "Epoch 10, train acc = 0.9777333736419678 test acc = 0.967799961566925\n",
      "0.007089217\n",
      "0.006478153\n",
      "0.008159968\n",
      "0.011007371\n",
      "0.0035608043\n",
      "0.007086687\n",
      "0.0075440328\n",
      "0.00567752\n",
      "0.0050033084\n",
      "0.01675188\n",
      "Epoch 11, train acc = 0.9799833297729492 test acc = 0.9703999757766724\n",
      "0.0027577442\n",
      "0.0078078853\n",
      "0.01106147\n",
      "0.0056827827\n",
      "0.013386281\n",
      "0.0064686104\n",
      "0.0062094973\n",
      "0.0049126563\n",
      "0.0024061946\n",
      "0.004219231\n",
      "Epoch 12, train acc = 0.98211669921875 test acc = 0.9720999598503113\n",
      "0.009270117\n",
      "0.0066390703\n",
      "0.0038182777\n",
      "0.0025588453\n",
      "0.004589613\n",
      "0.004620278\n",
      "0.00848195\n",
      "0.0049915537\n",
      "0.0023751368\n",
      "0.0046341196\n",
      "Epoch 13, train acc = 0.9837000370025635 test acc = 0.9729999899864197\n",
      "0.00521475\n",
      "0.009977633\n",
      "0.005140718\n",
      "0.0014976867\n",
      "0.004380184\n",
      "0.0058376133\n",
      "0.006651398\n",
      "0.004775939\n",
      "0.0050387946\n",
      "0.0044978783\n",
      "Epoch 14, train acc = 0.9845666885375977 test acc = 0.9723999500274658\n",
      "0.002323559\n",
      "0.0097793145\n",
      "0.007504088\n",
      "0.008731862\n",
      "0.0030173322\n",
      "0.009328233\n",
      "0.004434219\n",
      "0.0077362284\n",
      "0.0039392123\n",
      "0.0036762897\n",
      "Epoch 15, train acc = 0.9858999848365784 test acc = 0.974399983882904\n",
      "0.0022585269\n",
      "0.0049155466\n",
      "0.005552012\n",
      "0.0018224188\n",
      "0.009055887\n",
      "0.0025297955\n",
      "0.009673575\n",
      "0.0053769164\n",
      "0.012307188\n",
      "0.004184205\n",
      "Epoch 16, train acc = 0.9876166582107544 test acc = 0.9746999740600586\n",
      "0.0051803114\n",
      "0.0022450374\n",
      "0.007920625\n",
      "0.0045851734\n",
      "0.0028893508\n",
      "0.008229742\n",
      "0.00196548\n",
      "0.0060463822\n",
      "0.0056033614\n",
      "0.0029916733\n",
      "Epoch 17, train acc = 0.9887999892234802 test acc = 0.9741999506950378\n",
      "0.003980769\n",
      "0.0058955275\n",
      "0.0034018836\n",
      "0.0039256113\n",
      "0.003637851\n",
      "0.0032233011\n",
      "0.0043500746\n",
      "0.011598014\n",
      "0.0061983005\n",
      "0.003580708\n",
      "Epoch 18, train acc = 0.9896833300590515 test acc = 0.9759999513626099\n",
      "0.0026243327\n",
      "0.0039946237\n",
      "0.002687585\n",
      "0.0019432514\n",
      "0.0020326942\n",
      "0.0063863858\n",
      "0.003096759\n",
      "0.006585758\n",
      "0.0065303682\n",
      "0.0028965715\n",
      "Epoch 19, train acc = 0.9905833601951599 test acc = 0.975600004196167\n"
     ]
    }
   ],
   "source": [
    "num_epochs = 20\n",
    "\n",
    "def loss_fn(params, imgs, gt_lbls):\n",
    "    predictions = batched_MLP_predict(params, imgs)\n",
    "\n",
    "    return -jnp.mean(predictions * gt_lbls)\n",
    "\n",
    "def accuracy(params, dataset_imgs, dataset_lbls):\n",
    "    pred_classes = jnp.argmax(batched_MLP_predict(params, dataset_imgs), axis=1)\n",
    "    return jnp.mean(dataset_lbls == pred_classes)\n",
    "\n",
    "@jit\n",
    "def update(params, imgs, gt_lbls, lr=0.01):\n",
    "    loss, grads = value_and_grad(loss_fn)(params, imgs, gt_lbls)\n",
    "\n",
    "    return loss, jax.tree_multimap(lambda p, g: p - lr*g, params, grads)\n",
    "\n",
    "\n",
    "# Create a MLP\n",
    "MLP_params = init_MLP([np.prod(mnist_img_size), 512, 256, len(MNIST.classes)], key)\n",
    "\n",
    "for epoch in range(num_epochs):\n",
    "\n",
    "    for counter, (imgs, lbls) in enumerate(train_loader):\n",
    "\n",
    "        gt_labels = jax.nn.one_hot(lbls, len(MNIST.classes))\n",
    "        \n",
    "        loss, MLP_params = update(MLP_params, imgs, gt_labels)\n",
    "        \n",
    "        if counter % 50 == 0:\n",
    "            print(loss)\n",
    "\n",
    "    print(f'Epoch {epoch}, train acc = {accuracy(MLP_params, train_images, train_lbls)} test acc = {accuracy(MLP_params, test_images, test_lbls)}')\n"
   ]
  },
  {
   "cell_type": "code",
   "execution_count": 6,
   "id": "99c259c6-24cd-4b7d-a75c-3e1c5a56dff0",
   "metadata": {
    "tags": []
   },
   "outputs": [
    {
     "name": "stdout",
     "output_type": "stream",
     "text": [
      "(28, 28)\n",
      "pred 7\n",
      "gt 7\n"
     ]
    },
    {
     "data": {
      "image/png": "[encoded data removed]",
      "text/plain": [
       "<Figure size 640x480 with 1 Axes>"
      ]
     },
     "metadata": {},
     "output_type": "display_data"
    }
   ],
   "source": [
    "imgs, lbls = next(iter(test_loader))\n",
    "img = imgs[0].reshape(mnist_img_size)\n",
    "gt_lbl = lbls[0]\n",
    "print(img.shape)\n",
    "\n",
    "import matplotlib.pyplot as plt\n",
    "\n",
    "pred = jnp.argmax(MLP_predict(MLP_params, np.ravel(img)))\n",
    "print('pred', pred)\n",
    "print('gt', gt_lbl)\n",
    "\n",
    "plt.imshow(img); plt.show()"
   ]
  },
  {
   "cell_type": "code",
   "execution_count": 12,
   "id": "88da99d2-0348-4f39-8a34-517f72e17bfa",
   "metadata": {
    "tags": []
   },
   "outputs": [
    {
     "name": "stdout",
     "output_type": "stream",
     "text": [
      "(512, 784)\n",
      "(28, 28)\n"
     ]
    },
    {
     "data": {
      "image/png": "[encoded data removed]",
      "text/plain": [
       "<Figure size 640x480 with 1 Axes>"
      ]
     },
     "metadata": {},
     "output_type": "display_data"
    }
   ],
   "source": [
    "w = MLP_params[0][0]\n",
    "print(w.shape)\n",
    "\n",
    "w_single = w[32, :].reshape(mnist_img_size)\n",
    "print(w_single.shape)\n",
    "plt.imshow(w_single); plt.show()"
   ]
  }
 ],
 "metadata": {
  "kernelspec": {
   "display_name": "Python 3 (ipykernel)",
   "language": "python",
   "name": "python3"
  },
  "language_info": {
   "codemirror_mode": {
    "name": "ipython",
    "version": 3
   },
   "file_extension": ".py",
   "mimetype": "text/x-python",
   "name": "python",
   "nbconvert_exporter": "python",
   "pygments_lexer": "ipython3",
   "version": "3.10.9"
  }
 },
 "nbformat": 4,
 "nbformat_minor": 5
}
