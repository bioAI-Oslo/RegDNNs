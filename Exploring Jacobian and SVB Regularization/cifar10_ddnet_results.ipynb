{
 "cells": [
  {
   "cell_type": "markdown",
   "metadata": {},
   "source": [
    "# Results of DDNet Trained on CIFAR10"
   ]
  },
  {
   "cell_type": "markdown",
   "metadata": {},
   "source": [
    "In this notebook I display results in terms of accuracy on test data for DDNet models trained on the CIFAR10 dataset using various regularization techniques. The DDNet model and the CIFAR10 dataset were set up as in Hoffman 2019 (for all the models). The CIFAR10 data is preprocessed by normalizing using mean [0.5, 0.5, 0.5] and variance [0.5, 0.5, 0.5]. The batch size is 100. The model optimizes using SGD with momentum p = 0.9, and standard cross-entropy loss. Model parameters are initialized using Glorot initialization (See Glorot & Bengio 2010), expect for SVB regularization which uses orthogonal initialization. Models are trained with no regularization, L2 regularization, SVB regularization and Jacobian regularization, both with and without dropout with a dropout rate of p_drop = 0.5. The L2 regularization coefficient and Jacobian regularization coefficient are the same as in Hoffman 2019: l2_lmbd = 0.0005 and lambda_jacobian_reg = 0.01. For SVB regularization I use the hyperparameters svb_freq=600 and svb_eps = 0.05. The learning rate starts at 0.1, and is reduced to 0.01 and 0.001 1/3 and 2/3s into training, respectively. The models are trained for 250 epochs."
   ]
  },
  {
   "cell_type": "markdown",
   "metadata": {},
   "source": [
    "### Imports and Model Loading"
   ]
  },
  {
   "cell_type": "code",
   "execution_count": null,
   "metadata": {},
   "outputs": [],
   "source": [
    "import jupyter_black\n",
    "import numpy as np\n",
    "import pandas as pd\n",
    "import torch\n",
    "from scipy import stats\n",
    "from torchsummary import summary\n",
    "from tqdm import tqdm\n",
    "\n",
    "from data_generators import data_loader_CIFAR10\n",
    "from model_classes import DDNet\n",
    "from plotting_tools import get_random_img, generate_random_vectors\n",
    "from tools import accuracy, compute_total_variation, ModelInfo\n",
    "\n",
    "jupyter_black.load()"
   ]
  },
  {
   "cell_type": "code",
   "execution_count": null,
   "metadata": {},
   "outputs": [],
   "source": [
    "# Device configuration\n",
    "device = torch.device(\"cuda\" if torch.cuda.is_available() else \"cpu\")\n",
    "\n",
    "# Load MNIST data\n",
    "train_loader, test_loader = data_loader_CIFAR10()\n",
    "\n",
    "# Summary of model\n",
    "summary_model = DDNet().to(device)\n",
    "summary(summary_model, (3, 32, 32))"
   ]
  },
  {
   "cell_type": "code",
   "execution_count": null,
   "metadata": {},
   "outputs": [],
   "source": [
    "# Load models\n",
    "dataset = \"cifar10\"\n",
    "model_names = [\n",
    "    \"model_no_reg_0\",\n",
    "    \"model_no_reg_no_dropout_0\",\n",
    "    \"model_l2_0\",\n",
    "    \"model_l2_no_dropout_0\",\n",
    "    \"model_jacobi_0\",\n",
    "    \"model_jacobi_no_dropout_0\",\n",
    "    \"model_svb_0\",\n",
    "    \"model_svb_no_dropout_0\",\n",
    "    \"model_jacobi_and_svb_0\",\n",
    "    \"model_all_0\",\n",
    "    \"model_jacobi_and_l2_0\",\n",
    "    \"model_svb_and_l2_0\",\n",
    "]\n",
    "\n",
    "models = {name: ModelInfo(name, dataset) for name in model_names}"
   ]
  },
  {
   "cell_type": "markdown",
   "metadata": {},
   "source": [
    "### Accuracies"
   ]
  },
  {
   "cell_type": "markdown",
   "metadata": {},
   "source": [
    "Here I calculate the accuracies of each model as a 95% confidence interval. I have trained five models of each variation that I use to calculate the CI."
   ]
  },
  {
   "cell_type": "code",
   "execution_count": null,
   "metadata": {},
   "outputs": [],
   "source": [
    "# Dictionary to hold accuracy data\n",
    "accuracy_data = {}\n",
    "\n",
    "# Calculate accuracies with 95% CI for models\n",
    "for t in model_types:\n",
    "    for v in model_versions:\n",
    "        accuracies = []\n",
    "        for i in range(5):  # Assuming 5 versions of each model\n",
    "            model_name = f\"model_{t}{v}_{i}\"\n",
    "            model = models[model_name].model\n",
    "            acc = accuracy(model, test_loader, device)\n",
    "            accuracies.append(acc)\n",
    "\n",
    "        # Calculate mean accuracy\n",
    "        mean_accuracy = np.mean(accuracies)\n",
    "\n",
    "        # Calculate standard error\n",
    "        std_error = stats.sem(accuracies)\n",
    "\n",
    "        # Calculate confidence interval\n",
    "        CI = std_error * stats.t.ppf((1 + 0.95) / 2, len(accuracies) - 1)\n",
    "\n",
    "        # Store results in the data dictionary\n",
    "        accuracy_data[f\"{t}{v if v != '' else '_dropout'}\"] = (mean_accuracy, CI)"
   ]
  },
  {
   "cell_type": "code",
   "execution_count": null,
   "metadata": {},
   "outputs": [],
   "source": [
    "# Convert the dictionary into a DataFrame\n",
    "df = pd.DataFrame.from_dict(\n",
    "    accuracy_data, orient=\"index\", columns=[\"Mean Accuracy\", \"Confidence Interval\"]\n",
    ")\n",
    "\n",
    "# Convert the numbers from decimal to percentage and round to four decimal places\n",
    "df = df.multiply(100).round(3)\n",
    "\n",
    "# Create a new column that combines Mean Accuracy and Confidence Interval\n",
    "df[\"Accuracy +/- CI (95%)\"] = df.apply(\n",
    "    lambda row: f\"{row['Mean Accuracy']} +/- {row['Confidence Interval']}\", axis=1\n",
    ")\n",
    "\n",
    "# Drop the original columns\n",
    "df = df.drop(columns=[\"Mean Accuracy\", \"Confidence Interval\"])\n",
    "\n",
    "# Reset the index\n",
    "df = df.reset_index().rename(columns={\"index\": \"Model\"})\n",
    "\n",
    "display(df)"
   ]
  },
  {
   "cell_type": "markdown",
   "metadata": {},
   "source": [
    "### Total Variation"
   ]
  },
  {
   "cell_type": "markdown",
   "metadata": {},
   "source": [
    "Total variation is a measure for roughness/complexity in images. I generate 25 different images for each model to get a good mean and standard deviation, and give the results as a tabel for each model with the eight models (models with and without dropout) as rows, and the three different zoom levels as columns. The tabel contains the mean and 95 % confidence interval for the total variation for each model at each zoom level, for both isotropic and anisotropic total variation."
   ]
  },
  {
   "cell_type": "markdown",
   "metadata": {},
   "source": [
    "#### Isotropic Total Variation"
   ]
  },
  {
   "cell_type": "code",
   "execution_count": null,
   "metadata": {},
   "outputs": [],
   "source": [
    "# Define zoom levels, number of images, and confidence level for confidence interval calculation\n",
    "zoom_levels = [0.025, 0.01, 0.001]\n",
    "n_images = 10\n",
    "confidence_level = 0.95\n",
    "\n",
    "# Select only the first model of each type (those with index 0)\n",
    "selected_models = [name for name in model_names if name.split(\"_\")[-1] == \"0\"]\n",
    "\n",
    "# Dataframe to store results\n",
    "cols = pd.MultiIndex.from_product([zoom_levels, [\"mean\", \"conf_interval\"]])\n",
    "df_results_isotropic = pd.DataFrame(index=selected_models, columns=cols)\n",
    "\n",
    "# Loop over the selected models\n",
    "for name in tqdm(selected_models):\n",
    "    model = models[name].model  # Get model\n",
    "    model.to(device)\n",
    "    tv_values = {\n",
    "        zoom: [] for zoom in zoom_levels\n",
    "    }  # To store total variation values for each zoom level\n",
    "\n",
    "    # Generate tv values for n_images number of images\n",
    "    for _ in range(n_images):\n",
    "        # Get random image and vectors\n",
    "        img = get_random_img(test_loader)\n",
    "        v1, v2 = generate_random_vectors(img)\n",
    "\n",
    "        # Compute the isotropic total variation of decision boundaries for the current model\n",
    "        # and the generated image at different zoom levels\n",
    "        tv_list = compute_total_variation(\n",
    "            model,\n",
    "            img,\n",
    "            v1,\n",
    "            v2,\n",
    "            device,\n",
    "            resolution=300,\n",
    "            zoom=zoom_levels,\n",
    "            mode=\"isotropic\",\n",
    "        )\n",
    "        for zoom, tv in zip(zoom_levels, tv_list):\n",
    "            tv_values[zoom].append(tv)\n",
    "\n",
    "    # Calculate mean and 95% confidence interval for total variation values at each zoom level\n",
    "    for zoom in zoom_levels:\n",
    "        mean = np.mean(tv_values[zoom])\n",
    "        std_err = np.std(tv_values[zoom]) / np.sqrt(n_images)\n",
    "        conf_interval = stats.t.ppf((1 + confidence_level) / 2, n_images - 1) * std_err\n",
    "        df_results_isotropic.loc[name, (zoom, \"mean\")] = mean\n",
    "        df_results_isotropic.loc[name, (zoom, \"conf_interval\")] = conf_interval"
   ]
  },
  {
   "cell_type": "code",
   "execution_count": null,
   "metadata": {},
   "outputs": [],
   "source": [
    "print(\"Isotropic Total variation for three different zoom levels (of images generated)\")\n",
    "display(df_results_isotropic)"
   ]
  },
  {
   "cell_type": "markdown",
   "metadata": {},
   "source": [
    "#### Anisotropic Total Variation"
   ]
  },
  {
   "cell_type": "code",
   "execution_count": null,
   "metadata": {},
   "outputs": [],
   "source": [
    "# Define zoom levels, number of images, and confidence level for confidence interval calculation\n",
    "zoom_levels = [0.025, 0.01, 0.001]\n",
    "n_images = 10\n",
    "confidence_level = 0.95\n",
    "\n",
    "# Select only the first model of each type (those with index 0)\n",
    "selected_models = [name for name in model_names if name.split(\"_\")[-1] == \"0\"]\n",
    "\n",
    "# Dataframe to store results\n",
    "cols = pd.MultiIndex.from_product([zoom_levels, [\"mean\", \"conf_interval\"]])\n",
    "df_results_anisotropic = pd.DataFrame(index=selected_models, columns=cols)\n",
    "\n",
    "# Loop over the selected models\n",
    "for name in tqdm(selected_models):\n",
    "    model = models[name].model  # Get model\n",
    "    model.to(device)\n",
    "    tv_values = {\n",
    "        zoom: [] for zoom in zoom_levels\n",
    "    }  # To store total variation values for each zoom level\n",
    "\n",
    "    # Generate tv values for n_images number of images\n",
    "    for _ in range(n_images):\n",
    "        # Get random image and vectors\n",
    "        img = get_random_img(test_loader)\n",
    "        v1, v2 = generate_random_vectors(img)\n",
    "\n",
    "        # Compute the isotropic total variation of decision boundaries for the current model\n",
    "        # and the generated image at different zoom levels\n",
    "        tv_list = compute_total_variation(\n",
    "            model,\n",
    "            img,\n",
    "            v1,\n",
    "            v2,\n",
    "            device,\n",
    "            resolution=300,\n",
    "            zoom=zoom_levels,\n",
    "            mode=\"anisotropic\",\n",
    "        )\n",
    "        for zoom, tv in zip(zoom_levels, tv_list):\n",
    "            tv_values[zoom].append(tv)\n",
    "\n",
    "    # Calculate mean and 95% confidence interval for total variation values at each zoom level\n",
    "    for zoom in zoom_levels:\n",
    "        mean = np.mean(tv_values[zoom])\n",
    "        std_err = np.std(tv_values[zoom]) / np.sqrt(n_images)\n",
    "        conf_interval = stats.t.ppf((1 + confidence_level) / 2, n_images - 1) * std_err\n",
    "        df_results_anisotropic.loc[name, (zoom, \"mean\")] = mean\n",
    "        df_results_anisotropic.loc[name, (zoom, \"conf_interval\")] = conf_interval"
   ]
  },
  {
   "cell_type": "code",
   "execution_count": null,
   "metadata": {},
   "outputs": [],
   "source": [
    "print(\n",
    "    \"Anisotropic Total variation for three different zoom levels (of images generated)\"\n",
    ")\n",
    "display(df_results_anisotropic)"
   ]
  }
 ],
 "metadata": {
  "kernelspec": {
   "display_name": "bioai",
   "language": "python",
   "name": "python3"
  },
  "language_info": {
   "name": "python",
   "version": "3.11.4"
  },
  "orig_nbformat": 4
 },
 "nbformat": 4,
 "nbformat_minor": 2
}
