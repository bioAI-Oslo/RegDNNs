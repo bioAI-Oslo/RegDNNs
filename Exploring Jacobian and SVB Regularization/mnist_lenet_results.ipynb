{
 "cells": [
  {
   "cell_type": "markdown",
   "metadata": {},
   "source": [
    "# Results of LeNet Trained on MNIST"
   ]
  },
  {
   "cell_type": "markdown",
   "metadata": {},
   "source": [
    "In this notebook I display results in terms of accuracy on test data for LeNet models trained on the MNIST dataset using various regularization techniques. The LeNet model and the MNIST dataset were set up as in Hoffman 2019 (for all the models). The MNIST data is preprocessed by normalizing using mean 0.1307 and variance 0.3081. The batch size is 100. The model optimizes using SGD with momentum p = 0.9, and standard cross-entropy loss. Model parameters are initialized using Glorot initialization (See Glorot & Bengio 2010), expect for SVB regularization which uses orthogonal initialization. Models are trained with no regularization, L2 regularization, SVB regularization and Jacobian regularization, both with and without dropout with a dropout rate of p_drop = 0.5. The L2 regularization coefficient and Jacobian regularization coefficient are the same as in Hoffman 2019: l2_lmbd = 0.0005 and lambda_jacobian_reg = 0.01. For SVB regularization I use the hyperparameters svb_freq=600 and svb_eps = 0.05. The learning rate starts at 0.1, and is reduced to 0.01 and 0.001 1/3 and 2/3s into training, respectively. The models are trained for 250 epochs."
   ]
  },
  {
   "cell_type": "markdown",
   "metadata": {},
   "source": [
    "### Imports and Model Loading"
   ]
  },
  {
   "cell_type": "code",
   "execution_count": 1,
   "metadata": {},
   "outputs": [
    {
     "data": {
      "text/html": [
       "\n",
       "                <script type=\"application/javascript\" id=\"jupyter_black\">\n",
       "                (function() {\n",
       "                    if (window.IPython === undefined) {\n",
       "                        return\n",
       "                    }\n",
       "                    var msg = \"WARNING: it looks like you might have loaded \" +\n",
       "                        \"jupyter_black in a non-lab notebook with \" +\n",
       "                        \"`is_lab=True`. Please double check, and if \" +\n",
       "                        \"loading with `%load_ext` please review the README!\"\n",
       "                    console.log(msg)\n",
       "                    alert(msg)\n",
       "                })()\n",
       "                </script>\n",
       "                "
      ],
      "text/plain": [
       "<IPython.core.display.HTML object>"
      ]
     },
     "metadata": {},
     "output_type": "display_data"
    }
   ],
   "source": [
    "import jupyter_black\n",
    "import numpy as np\n",
    "import pandas as pd\n",
    "import torch\n",
    "from scipy import stats\n",
    "from torchsummary import summary\n",
    "from tqdm import tqdm\n",
    "\n",
    "from data_generators import data_loader_MNIST\n",
    "from model_classes import LeNet_MNIST\n",
    "from plotting_tools import get_random_img, generate_random_vectors\n",
    "from tools import accuracy, compute_total_variation, ModelInfo\n",
    "\n",
    "jupyter_black.load()"
   ]
  },
  {
   "cell_type": "code",
   "execution_count": 2,
   "metadata": {},
   "outputs": [
    {
     "name": "stdout",
     "output_type": "stream",
     "text": [
      "----------------------------------------------------------------\n",
      "        Layer (type)               Output Shape         Param #\n",
      "================================================================\n",
      "            Conv2d-1            [-1, 6, 28, 28]             156\n",
      "         MaxPool2d-2            [-1, 6, 14, 14]               0\n",
      "            Conv2d-3           [-1, 16, 10, 10]           2,416\n",
      "         MaxPool2d-4             [-1, 16, 5, 5]               0\n",
      "            Linear-5                  [-1, 120]          48,120\n",
      "           Dropout-6                  [-1, 120]               0\n",
      "            Linear-7                   [-1, 84]          10,164\n",
      "           Dropout-8                   [-1, 84]               0\n",
      "            Linear-9                   [-1, 10]             850\n",
      "================================================================\n",
      "Total params: 61,706\n",
      "Trainable params: 61,706\n",
      "Non-trainable params: 0\n",
      "----------------------------------------------------------------\n",
      "Input size (MB): 0.00\n",
      "Forward/backward pass size (MB): 0.06\n",
      "Params size (MB): 0.24\n",
      "Estimated Total Size (MB): 0.30\n",
      "----------------------------------------------------------------\n"
     ]
    }
   ],
   "source": [
    "# Device configuration\n",
    "device = torch.device(\"cuda\" if torch.cuda.is_available() else \"cpu\")\n",
    "\n",
    "# Load MNIST data\n",
    "train_loader, test_loader = data_loader_MNIST()\n",
    "\n",
    "# Summary of model\n",
    "summary_model = LeNet_MNIST().to(device)\n",
    "summary(summary_model, (1, 28, 28))"
   ]
  },
  {
   "cell_type": "code",
   "execution_count": 3,
   "metadata": {},
   "outputs": [],
   "source": [
    "# Load models\n",
    "dataset = \"mnist\"\n",
    "\n",
    "# Defining model types and versions\n",
    "model_types = [\"no_reg\", \"l2\", \"jacobi\", \"svb\"]\n",
    "model_versions = [\"\", \"_no_dropout\"]\n",
    "\n",
    "model_names = []\n",
    "\n",
    "for t in model_types:\n",
    "    for v in model_versions:\n",
    "        for i in range(5):\n",
    "            model_names.append(f\"model_{t}{v}_{i}\")\n",
    "\n",
    "models = {name: ModelInfo(name, dataset) for name in model_names}"
   ]
  },
  {
   "cell_type": "markdown",
   "metadata": {},
   "source": [
    "### Accuracies"
   ]
  },
  {
   "cell_type": "markdown",
   "metadata": {},
   "source": [
    "Here I calculate the accuracies of each model as a 95% confidence interval. I have trained five models of each variation that I use to calculate the CI."
   ]
  },
  {
   "cell_type": "code",
   "execution_count": 4,
   "metadata": {},
   "outputs": [],
   "source": [
    "# Dictionary to hold accuracy data\n",
    "accuracy_data = {}\n",
    "\n",
    "# Calculate accuracies with 95% CI for models\n",
    "for t in model_types:\n",
    "    for v in model_versions:\n",
    "        accuracies = []\n",
    "        for i in range(5):  # Assuming 5 versions of each model\n",
    "            model_name = f\"model_{t}{v}_{i}\"\n",
    "            model = models[model_name].model\n",
    "            acc = accuracy(model, test_loader, device)\n",
    "            accuracies.append(acc)\n",
    "\n",
    "        # Calculate mean accuracy\n",
    "        mean_accuracy = np.mean(accuracies)\n",
    "\n",
    "        # Calculate standard error\n",
    "        std_error = stats.sem(accuracies)\n",
    "\n",
    "        # Calculate confidence interval\n",
    "        CI = std_error * stats.t.ppf((1 + 0.95) / 2, len(accuracies) - 1)\n",
    "\n",
    "        # Store results in the data dictionary\n",
    "        accuracy_data[f\"{t}{v if v != '' else '_dropout'}\"] = (mean_accuracy, CI)"
   ]
  },
  {
   "cell_type": "code",
   "execution_count": 5,
   "metadata": {},
   "outputs": [
    {
     "data": {
      "text/html": [
       "<div>\n",
       "<style scoped>\n",
       "    .dataframe tbody tr th:only-of-type {\n",
       "        vertical-align: middle;\n",
       "    }\n",
       "\n",
       "    .dataframe tbody tr th {\n",
       "        vertical-align: top;\n",
       "    }\n",
       "\n",
       "    .dataframe thead th {\n",
       "        text-align: right;\n",
       "    }\n",
       "</style>\n",
       "<table border=\"1\" class=\"dataframe\">\n",
       "  <thead>\n",
       "    <tr style=\"text-align: right;\">\n",
       "      <th></th>\n",
       "      <th>Model</th>\n",
       "      <th>Accuracy +/- CI (%)</th>\n",
       "    </tr>\n",
       "  </thead>\n",
       "  <tbody>\n",
       "    <tr>\n",
       "      <th>0</th>\n",
       "      <td>no_regdropout</td>\n",
       "      <td>98.684 +/- 0.074</td>\n",
       "    </tr>\n",
       "    <tr>\n",
       "      <th>1</th>\n",
       "      <td>no_reg_no_dropout</td>\n",
       "      <td>98.872 +/- 0.088</td>\n",
       "    </tr>\n",
       "    <tr>\n",
       "      <th>2</th>\n",
       "      <td>l2dropout</td>\n",
       "      <td>99.144 +/- 0.087</td>\n",
       "    </tr>\n",
       "    <tr>\n",
       "      <th>3</th>\n",
       "      <td>l2_no_dropout</td>\n",
       "      <td>99.162 +/- 0.059</td>\n",
       "    </tr>\n",
       "    <tr>\n",
       "      <th>4</th>\n",
       "      <td>jacobidropout</td>\n",
       "      <td>98.652 +/- 0.111</td>\n",
       "    </tr>\n",
       "    <tr>\n",
       "      <th>5</th>\n",
       "      <td>jacobi_no_dropout</td>\n",
       "      <td>98.846 +/- 0.087</td>\n",
       "    </tr>\n",
       "    <tr>\n",
       "      <th>6</th>\n",
       "      <td>svbdropout</td>\n",
       "      <td>98.416 +/- 0.082</td>\n",
       "    </tr>\n",
       "    <tr>\n",
       "      <th>7</th>\n",
       "      <td>svb_no_dropout</td>\n",
       "      <td>98.716 +/- 0.052</td>\n",
       "    </tr>\n",
       "  </tbody>\n",
       "</table>\n",
       "</div>"
      ],
      "text/plain": [
       "               Model Accuracy +/- CI (%)\n",
       "0      no_regdropout    98.684 +/- 0.074\n",
       "1  no_reg_no_dropout    98.872 +/- 0.088\n",
       "2          l2dropout    99.144 +/- 0.087\n",
       "3      l2_no_dropout    99.162 +/- 0.059\n",
       "4      jacobidropout    98.652 +/- 0.111\n",
       "5  jacobi_no_dropout    98.846 +/- 0.087\n",
       "6         svbdropout    98.416 +/- 0.082\n",
       "7     svb_no_dropout    98.716 +/- 0.052"
      ]
     },
     "metadata": {},
     "output_type": "display_data"
    }
   ],
   "source": [
    "# Convert the dictionary into a DataFrame\n",
    "df = pd.DataFrame.from_dict(\n",
    "    accuracy_data, orient=\"index\", columns=[\"Mean Accuracy\", \"Confidence Interval\"]\n",
    ")\n",
    "\n",
    "# Convert the numbers from decimal to percentage and round to four decimal places\n",
    "df = df.multiply(100).round(3)\n",
    "\n",
    "# Create a new column that combines Mean Accuracy and Confidence Interval\n",
    "df[\"Accuracy +/- CI (95%)\"] = df.apply(\n",
    "    lambda row: f\"{row['Mean Accuracy']} +/- {row['Confidence Interval']}\", axis=1\n",
    ")\n",
    "\n",
    "# Drop the original columns\n",
    "df = df.drop(columns=[\"Mean Accuracy\", \"Confidence Interval\"])\n",
    "\n",
    "# Reset the index\n",
    "df = df.reset_index().rename(columns={\"index\": \"Model\"})\n",
    "\n",
    "display(df)"
   ]
  },
  {
   "cell_type": "markdown",
   "metadata": {},
   "source": [
    "### Total Variation"
   ]
  },
  {
   "cell_type": "markdown",
   "metadata": {},
   "source": [
    "Total variation is the sum of the absolute differences for neighboring pixel-values in the input images. This measures how much noise is in the images. I generate 25 different images for each model to get a good mean and standard deviation, and give the results as a tabel for each model with the eight models (models with and without dropout) as rows, and the three different zoom levels as columns. The tabel contains the mean and 95 % confidence interval for the total variation for each model at each zoom level."
   ]
  },
  {
   "cell_type": "code",
   "execution_count": 6,
   "metadata": {},
   "outputs": [
    {
     "name": "stderr",
     "output_type": "stream",
     "text": [
      "  0%|          | 0/8 [00:00<?, ?it/s]"
     ]
    },
    {
     "name": "stderr",
     "output_type": "stream",
     "text": [
      "c:\\ProgramData\\Anaconda3\\envs\\bioai\\Lib\\site-packages\\torch\\functional.py:504: UserWarning: torch.meshgrid: in an upcoming release, it will be required to pass the indexing argument. (Triggered internally at ..\\aten\\src\\ATen\\native\\TensorShape.cpp:3484.)\n",
      "  return _VF.meshgrid(tensors, **kwargs)  # type: ignore[attr-defined]\n",
      "100%|██████████| 8/8 [09:21<00:00, 70.15s/it]\n"
     ]
    }
   ],
   "source": [
    "# Define zoom levels, number of images, and confidence level for confidence interval calculation\n",
    "zoom_levels = [0.025, 0.01, 0.001]\n",
    "n_images = 5\n",
    "confidence_level = 0.95\n",
    "\n",
    "# Select only the first model of each type (those with index 0)\n",
    "selected_models = [name for name in model_names if name.split(\"_\")[-1] == \"0\"]\n",
    "\n",
    "# Dataframe to store results\n",
    "cols = pd.MultiIndex.from_product([zoom_levels, [\"mean\", \"conf_interval\"]])\n",
    "df_results = pd.DataFrame(index=selected_models, columns=cols)\n",
    "\n",
    "# Loop over the selected models\n",
    "for name in tqdm(selected_models):\n",
    "    model = models[name].model  # Get model\n",
    "    model.to(device)\n",
    "    tv_values = {\n",
    "        zoom: [] for zoom in zoom_levels\n",
    "    }  # To store total variation values for each zoom level\n",
    "\n",
    "    # Generate tv values for n_images number of images\n",
    "    for _ in range(n_images):\n",
    "        # Get random image and vectors\n",
    "        img = get_random_img(test_loader)\n",
    "        v1, v2 = generate_random_vectors(img)\n",
    "\n",
    "        # Compute the total variation of decision boundaries for the current model\n",
    "        # and the generated image at different zoom levels\n",
    "        tv_list = compute_total_variation(model, img, v1, v2, device)\n",
    "        for zoom, tv in zip(zoom_levels, tv_list):\n",
    "            tv_values[zoom].append(tv)\n",
    "\n",
    "    # Calculate mean and 95% confidence interval for total variation values at each zoom level\n",
    "    for zoom in zoom_levels:\n",
    "        mean = np.mean(tv_values[zoom])\n",
    "        std_err = np.std(tv_values[zoom]) / np.sqrt(n_images)\n",
    "        conf_interval = stats.t.ppf((1 + confidence_level) / 2, n_images - 1) * std_err\n",
    "        df_results.loc[name, (zoom, \"mean\")] = mean\n",
    "        df_results.loc[name, (zoom, \"conf_interval\")] = conf_interval"
   ]
  },
  {
   "cell_type": "code",
   "execution_count": 7,
   "metadata": {},
   "outputs": [
    {
     "data": {
      "text/html": [
       "<div>\n",
       "<style scoped>\n",
       "    .dataframe tbody tr th:only-of-type {\n",
       "        vertical-align: middle;\n",
       "    }\n",
       "\n",
       "    .dataframe tbody tr th {\n",
       "        vertical-align: top;\n",
       "    }\n",
       "\n",
       "    .dataframe thead tr th {\n",
       "        text-align: left;\n",
       "    }\n",
       "</style>\n",
       "<table border=\"1\" class=\"dataframe\">\n",
       "  <thead>\n",
       "    <tr>\n",
       "      <th></th>\n",
       "      <th colspan=\"2\" halign=\"left\">0.025</th>\n",
       "      <th colspan=\"2\" halign=\"left\">0.010</th>\n",
       "      <th colspan=\"2\" halign=\"left\">0.001</th>\n",
       "    </tr>\n",
       "    <tr>\n",
       "      <th></th>\n",
       "      <th>mean</th>\n",
       "      <th>conf_interval</th>\n",
       "      <th>mean</th>\n",
       "      <th>conf_interval</th>\n",
       "      <th>mean</th>\n",
       "      <th>conf_interval</th>\n",
       "    </tr>\n",
       "  </thead>\n",
       "  <tbody>\n",
       "    <tr>\n",
       "      <th>model_no_reg_0</th>\n",
       "      <td>11136.0</td>\n",
       "      <td>12087.528961</td>\n",
       "      <td>32418.8</td>\n",
       "      <td>14361.802687</td>\n",
       "      <td>38731.2</td>\n",
       "      <td>9697.810269</td>\n",
       "    </tr>\n",
       "    <tr>\n",
       "      <th>model_no_reg_no_dropout_0</th>\n",
       "      <td>3153.4</td>\n",
       "      <td>2817.265248</td>\n",
       "      <td>14891.6</td>\n",
       "      <td>2396.000587</td>\n",
       "      <td>38129.8</td>\n",
       "      <td>16486.176039</td>\n",
       "    </tr>\n",
       "    <tr>\n",
       "      <th>model_l2_0</th>\n",
       "      <td>2587.8</td>\n",
       "      <td>3105.427863</td>\n",
       "      <td>3912.2</td>\n",
       "      <td>1422.556057</td>\n",
       "      <td>9070.0</td>\n",
       "      <td>2654.638949</td>\n",
       "    </tr>\n",
       "    <tr>\n",
       "      <th>model_l2_no_dropout_0</th>\n",
       "      <td>2314.4</td>\n",
       "      <td>1343.378447</td>\n",
       "      <td>4306.0</td>\n",
       "      <td>1421.014658</td>\n",
       "      <td>11232.0</td>\n",
       "      <td>7377.217718</td>\n",
       "    </tr>\n",
       "    <tr>\n",
       "      <th>model_jacobi_0</th>\n",
       "      <td>12300.8</td>\n",
       "      <td>16727.691032</td>\n",
       "      <td>22507.0</td>\n",
       "      <td>14052.495028</td>\n",
       "      <td>11696.2</td>\n",
       "      <td>3344.269092</td>\n",
       "    </tr>\n",
       "    <tr>\n",
       "      <th>model_jacobi_no_dropout_0</th>\n",
       "      <td>6428.4</td>\n",
       "      <td>2015.106843</td>\n",
       "      <td>5586.8</td>\n",
       "      <td>4873.296578</td>\n",
       "      <td>8910.2</td>\n",
       "      <td>9543.666266</td>\n",
       "    </tr>\n",
       "    <tr>\n",
       "      <th>model_svb_0</th>\n",
       "      <td>1894.2</td>\n",
       "      <td>2198.133792</td>\n",
       "      <td>3847.8</td>\n",
       "      <td>3453.741244</td>\n",
       "      <td>2254.2</td>\n",
       "      <td>2083.163695</td>\n",
       "    </tr>\n",
       "    <tr>\n",
       "      <th>model_svb_no_dropout_0</th>\n",
       "      <td>250.8</td>\n",
       "      <td>622.818661</td>\n",
       "      <td>3314.0</td>\n",
       "      <td>1675.660782</td>\n",
       "      <td>11759.2</td>\n",
       "      <td>2865.032568</td>\n",
       "    </tr>\n",
       "  </tbody>\n",
       "</table>\n",
       "</div>"
      ],
      "text/plain": [
       "                             0.025                  0.010                \\\n",
       "                              mean conf_interval     mean conf_interval   \n",
       "model_no_reg_0             11136.0  12087.528961  32418.8  14361.802687   \n",
       "model_no_reg_no_dropout_0   3153.4   2817.265248  14891.6   2396.000587   \n",
       "model_l2_0                  2587.8   3105.427863   3912.2   1422.556057   \n",
       "model_l2_no_dropout_0       2314.4   1343.378447   4306.0   1421.014658   \n",
       "model_jacobi_0             12300.8  16727.691032  22507.0  14052.495028   \n",
       "model_jacobi_no_dropout_0   6428.4   2015.106843   5586.8   4873.296578   \n",
       "model_svb_0                 1894.2   2198.133792   3847.8   3453.741244   \n",
       "model_svb_no_dropout_0       250.8    622.818661   3314.0   1675.660782   \n",
       "\n",
       "                             0.001                \n",
       "                              mean conf_interval  \n",
       "model_no_reg_0             38731.2   9697.810269  \n",
       "model_no_reg_no_dropout_0  38129.8  16486.176039  \n",
       "model_l2_0                  9070.0   2654.638949  \n",
       "model_l2_no_dropout_0      11232.0   7377.217718  \n",
       "model_jacobi_0             11696.2   3344.269092  \n",
       "model_jacobi_no_dropout_0   8910.2   9543.666266  \n",
       "model_svb_0                 2254.2   2083.163695  \n",
       "model_svb_no_dropout_0     11759.2   2865.032568  "
      ]
     },
     "metadata": {},
     "output_type": "display_data"
    }
   ],
   "source": [
    "display(df_results)"
   ]
  },
  {
   "cell_type": "code",
   "execution_count": null,
   "metadata": {},
   "outputs": [],
   "source": []
  }
 ],
 "metadata": {
  "kernelspec": {
   "display_name": "bioai",
   "language": "python",
   "name": "python3"
  },
  "language_info": {
   "codemirror_mode": {
    "name": "ipython",
    "version": 3
   },
   "file_extension": ".py",
   "mimetype": "text/x-python",
   "name": "python",
   "nbconvert_exporter": "python",
   "pygments_lexer": "ipython3",
   "version": "3.11.4"
  },
  "orig_nbformat": 4
 },
 "nbformat": 4,
 "nbformat_minor": 2
}
